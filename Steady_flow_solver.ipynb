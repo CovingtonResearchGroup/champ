{
 "cells": [
  {
   "cell_type": "code",
   "execution_count": 1,
   "metadata": {},
   "outputs": [
    {
     "name": "stdout",
     "output_type": "stream",
     "text": [
      "Populating the interactive namespace from numpy and matplotlib\n"
     ]
    }
   ],
   "source": [
    "%pylab inline\n",
    "from crossSection import CrossSection\n",
    "from ShapeGen import genCirc\n",
    "from numpy.random import rand,seed"
   ]
  },
  {
   "cell_type": "code",
   "execution_count": 8,
   "metadata": {},
   "outputs": [
    {
     "name": "stdout",
     "output_type": "stream",
     "text": [
      "Pipe is full.\n",
      "h-z= 0.0   maxdepth= 0.643985547690147\n",
      "0\n",
      "1.8669331376819323\n",
      "h-z= 1.6669331376819323   maxdepth= 1.9414622171596658\n",
      "Pipe is full.\n",
      "h-z= 0.17424571497854124   maxdepth= 0.6134375538767878\n",
      "2\n",
      "2.3804418259514772\n",
      "h-z= 2.3546875409300183   maxdepth= 2.0372193025445915\n",
      "3\n",
      "0.00589278311930371\n",
      "h-z= 2.160580324049322   maxdepth= 1.1768209257377116\n",
      "4\n",
      "0.09161307456758948\n"
     ]
    }
   ],
   "source": [
    "Q = 0.5\n",
    "nx = 6\n",
    "xs =linspace(0,500,nx)\n",
    "zs = linspace(0,1,nx)\n",
    "seed(5)\n",
    "rs = 0.1 + rand(nx-1)#*ones(nx-1)\n",
    "slopes = (zs[1:] - zs[:-1])/(xs[1:] - xs[:-1])\n",
    "f=0.1\n",
    "#Generate cross-sections\n",
    "xcs = []\n",
    "for r in rs:\n",
    "    x, y = genCirc(r)\n",
    "    xc = CrossSection(x,y)\n",
    "    xcs.append(xc)\n",
    "    \n",
    "#Calculate flow depths\n",
    "h = zeros(nx)\n",
    "for i, xc in enumerate(xcs):\n",
    "    #Try calculating flow depth\n",
    "    fd = xc.calcFlowDepth(Q,slopes[i],f=f)\n",
    "    print('h-z=',h[i]-zs[i], '  maxdepth=',xc.ymax-xc.ymin)\n",
    "    if fd ==-1 or (h[i]-zs[i])>(xc.ymax-xc.ymin):\n",
    "        print(i)\n",
    "        #We have a full pipe, calculate head gradient instead\n",
    "        delh = xc.calcPipeFullHeadGrad(Q,slopes[i],f=f)\n",
    "        print(delh*(xs[i+1] - xs[i]))\n",
    "        h[i+1] = h[i] + delh * (xs[i+1] - xs[i])\n",
    "    else:\n",
    "        if i==0:\n",
    "            h[0] = fd\n",
    "        #dz = slopes[i]*(x[i+1] - x[i])\n",
    "        h[i+1] = zs[i+1] + fd\n"
   ]
  },
  {
   "cell_type": "code",
   "execution_count": 9,
   "metadata": {},
   "outputs": [
    {
     "data": {
      "text/plain": [
       "array([0.32199317, 0.97073231, 0.30671916, 1.01861091, 0.58841119])"
      ]
     },
     "execution_count": 9,
     "metadata": {},
     "output_type": "execute_result"
    }
   ],
   "source": [
    "rs"
   ]
  },
  {
   "cell_type": "code",
   "execution_count": 30,
   "metadata": {},
   "outputs": [
    {
     "data": {
      "text/plain": [
       "100.0"
      ]
     },
     "execution_count": 30,
     "metadata": {},
     "output_type": "execute_result"
    }
   ],
   "source": [
    "(xs[1]-xs[0])"
   ]
  },
  {
   "cell_type": "code",
   "execution_count": 5,
   "metadata": {},
   "outputs": [
    {
     "data": {
      "text/plain": [
       "[<matplotlib.lines.Line2D at 0x7f098bfb9e10>,\n",
       " <matplotlib.lines.Line2D at 0x7f098bfb9fd0>]"
      ]
     },
     "execution_count": 5,
     "metadata": {},
     "output_type": "execute_result"
    },
    {
     "data": {
      "image/png": "[encoded data removed]",
      "text/plain": [
       "<Figure size 432x288 with 1 Axes>"
      ]
     },
     "metadata": {
      "needs_background": "light"
     },
     "output_type": "display_data"
    }
   ],
   "source": [
    "plot(xs,zs,xs,h)\n"
   ]
  },
  {
   "cell_type": "code",
   "execution_count": null,
   "metadata": {},
   "outputs": [],
   "source": []
  }
 ],
 "metadata": {
  "kernelspec": {
   "display_name": "Python 3",
   "language": "python",
   "name": "python3"
  },
  "language_info": {
   "codemirror_mode": {
    "name": "ipython",
    "version": 3
   },
   "file_extension": ".py",
   "mimetype": "text/x-python",
   "name": "python",
   "nbconvert_exporter": "python",
   "pygments_lexer": "ipython3",
   "version": "3.7.5"
  }
 },
 "nbformat": 4,
 "nbformat_minor": 2
}
