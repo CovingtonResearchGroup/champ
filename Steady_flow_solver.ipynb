{
 "cells": [
  {
   "cell_type": "code",
   "execution_count": 1,
   "metadata": {},
   "outputs": [
    {
     "name": "stdout",
     "output_type": "stream",
     "text": [
      "Populating the interactive namespace from numpy and matplotlib\n"
     ]
    }
   ],
   "source": [
    "%pylab inline\n",
    "from crossSection import CrossSection\n",
    "from ShapeGen import genCirc\n",
    "from numpy.random import rand,seed"
   ]
  },
  {
   "cell_type": "code",
   "execution_count": 16,
   "metadata": {},
   "outputs": [
    {
     "name": "stdout",
     "output_type": "stream",
     "text": [
      "h-z= -0.2   maxdepth= 0.643985547690147\n",
      "Pipe  0  is normal\n",
      "h-z= 0.432948789728938   maxdepth= 1.9414622171596658\n",
      "Pipe  1  is backflooded\n",
      "h-z= 0.23838319399481467   maxdepth= 0.6134375538767878\n",
      "Pipe  2  is full\n",
      "0.2142397643356329\n",
      "h-z= 0.25262295833044757   maxdepth= 2.0372193025445915\n",
      "Pipe  3  is backflooded\n",
      "h-z= 0.05967300427649036   maxdepth= 1.1768209257377116\n",
      "Pipe  4  is normal\n"
     ]
    }
   ],
   "source": [
    "Q = 0.15\n",
    "nx = 6\n",
    "xs =linspace(0,500,nx)\n",
    "zs = linspace(0,1,nx)\n",
    "seed(5)\n",
    "rs = 0.1 + rand(nx-1)#*ones(nx-1)\n",
    "slopes = (zs[1:] - zs[:-1])/(xs[1:] - xs[:-1])\n",
    "Ls = xs[1:]- xs[:-1]\n",
    "f=0.1\n",
    "#Generate cross-sections\n",
    "xcs = []\n",
    "maxdepths = []\n",
    "for r in rs:\n",
    "    x, y = genCirc(r)\n",
    "    xc = CrossSection(x,y)\n",
    "    xcs.append(xc)\n",
    "    maxdepths.append(xc.ymax-xc.ymin)\n",
    "    \n",
    "#Calculate flow depths\n",
    "h = zeros(nx)\n",
    "for i, xc in enumerate(xcs):\n",
    "    #Try calculating flow depth\n",
    "    fd = xc.calcNormalFlowDepth(Q,slopes[i],f=f)\n",
    "    print('h-z=',h[i]-zs[i+1], '  maxdepth=',maxdepths[i])\n",
    "    if fd ==-1 or (h[i]-zs[i+1])>maxdepths[i]:\n",
    "        print('Pipe ',i,' is full')\n",
    "        if i==0:\n",
    "            h[0]=maxdepths[0]\n",
    "        #We have a full pipe, calculate head gradient instead\n",
    "        delh = xc.calcPipeFullHeadGrad(Q,slopes[i],f=f)\n",
    "        print(delh*(xs[i+1] - xs[i]))\n",
    "        h[i+1] = h[i] + delh * (xs[i+1] - xs[i])\n",
    "    elif fd < h[i] - zs[i+1]:#upstream node is flooded above normal depth\n",
    "        print('Pipe ',i,' is backflooded')\n",
    "        y_out = h[i] - zs[i]\n",
    "        y_in = xc.calcBackfloodDepth(Q,slopes[i],y_out,Ls[i],f=f)\n",
    "        h[i+1] = zs[i+1] + y_in\n",
    "    else:\n",
    "        print('Pipe ',i,' is normal')\n",
    "        if i==0:\n",
    "            h[0] = fd\n",
    "        #dz = slopes[i]*(x[i+1] - x[i])\n",
    "        h[i+1] = zs[i+1] + fd\n"
   ]
  },
  {
   "cell_type": "code",
   "execution_count": 17,
   "metadata": {},
   "outputs": [
    {
     "data": {
      "text/plain": [
       "[0.643985547690147,\n",
       " 1.9414622171596658,\n",
       " 0.6134375538767878,\n",
       " 2.0372193025445915,\n",
       " 1.1768209257377116]"
      ]
     },
     "execution_count": 17,
     "metadata": {},
     "output_type": "execute_result"
    }
   ],
   "source": [
    "maxdepths"
   ]
  },
  {
   "cell_type": "code",
   "execution_count": 18,
   "metadata": {},
   "outputs": [
    {
     "data": {
      "text/plain": [
       "100.0"
      ]
     },
     "execution_count": 18,
     "metadata": {},
     "output_type": "execute_result"
    }
   ],
   "source": [
    "(xs[1]-xs[0])"
   ]
  },
  {
   "cell_type": "code",
   "execution_count": 15,
   "metadata": {},
   "outputs": [
    {
     "data": {
      "text/plain": [
       "[<matplotlib.lines.Line2D at 0x7f14ffa41a10>]"
      ]
     },
     "execution_count": 15,
     "metadata": {},
     "output_type": "execute_result"
    },
    {
     "data": {
      "image/png": "[encoded data removed]",
      "text/plain": [
       "<Figure size 432x288 with 1 Axes>"
      ]
     },
     "metadata": {
      "needs_background": "light"
     },
     "output_type": "display_data"
    }
   ],
   "source": [
    "plot(xs,zs,xs,h)\n",
    "xmid = (xs[1:] + xs[:-1])/2.\n",
    "plot(xmid,maxdepths+(zs[1:] + zs[:-1])/2.)"
   ]
  },
  {
   "cell_type": "code",
   "execution_count": 11,
   "metadata": {},
   "outputs": [],
   "source": [
    "ds = linspace(1e-6,xcs[0].ymax-xcs[0].ymin,100)\n",
    "Q = zeros(100)\n",
    "for i,y in enumerate(ds):\n",
    "    Q[i] = xcs[0].calcNormalFlow(y,0.002)"
   ]
  },
  {
   "cell_type": "code",
   "execution_count": 12,
   "metadata": {},
   "outputs": [
    {
     "data": {
      "text/plain": [
       "[<matplotlib.lines.Line2D at 0x7f14ffaaf790>]"
      ]
     },
     "execution_count": 12,
     "metadata": {},
     "output_type": "execute_result"
    },
    {
     "data": {
      "image/png": "[encoded data removed]",
      "text/plain": [
       "<Figure size 432x288 with 1 Axes>"
      ]
     },
     "metadata": {
      "needs_background": "light"
     },
     "output_type": "display_data"
    }
   ],
   "source": [
    "plot(ds,Q)"
   ]
  },
  {
   "cell_type": "code",
   "execution_count": 13,
   "metadata": {},
   "outputs": [
    {
     "data": {
      "text/plain": [
       "0.643985547690147"
      ]
     },
     "execution_count": 13,
     "metadata": {},
     "output_type": "execute_result"
    }
   ],
   "source": [
    "xcs[0].ymax-xcs[0].ymin"
   ]
  },
  {
   "cell_type": "code",
   "execution_count": null,
   "metadata": {},
   "outputs": [],
   "source": []
  }
 ],
 "metadata": {
  "kernelspec": {
   "display_name": "Python 3",
   "language": "python",
   "name": "python3"
  },
  "language_info": {
   "codemirror_mode": {
    "name": "ipython",
    "version": 3
   },
   "file_extension": ".py",
   "mimetype": "text/x-python",
   "name": "python",
   "nbconvert_exporter": "python",
   "pygments_lexer": "ipython3",
   "version": "3.7.5"
  }
 },
 "nbformat": 4,
 "nbformat_minor": 2
}
