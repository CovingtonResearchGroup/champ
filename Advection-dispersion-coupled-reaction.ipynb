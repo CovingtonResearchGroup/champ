{
 "cells": [
  {
   "cell_type": "code",
   "execution_count": 1,
   "metadata": {},
   "outputs": [
    {
     "name": "stdout",
     "output_type": "stream",
     "text": [
      "Populating the interactive namespace from numpy and matplotlib\n"
     ]
    }
   ],
   "source": [
    "%pylab inline"
   ]
  },
  {
   "cell_type": "code",
   "execution_count": 2,
   "metadata": {},
   "outputs": [],
   "source": [
    "#Crank-Nicolson solution zero diffusion across downstream boundary \n",
    "#with explicit reaction term that couples concentrations\n",
    "from scipy.linalg import solve_banded\n",
    "#define parameters for run\n",
    "ntimes = 1000\n",
    "endtime = 2.0\n",
    "dt = endtime/(ntimes-1)\n",
    "nx = 1000\n",
    "Pe = 50.\n",
    "xmax = 1.\n",
    "k=0.2 #reaction rate coefficient\n",
    "dx = xmax/(nx-1.)\n",
    "#Construct A matrix, which is the same for both equations, and the same as previous C-N solution\n",
    "A_upper = dt*(1./(4.*dx) - 1./(2.*Pe*dx**2.))*ones(nx-1)\n",
    "A_lower = dt*(-1./(4.*dx) - 1./(2.*Pe*dx**2.))*ones(nx-1)\n",
    "A_mid = (1.+dt/(Pe*dx**2.))*ones(nx-1)\n",
    "A_upper[0] = 0.\n",
    "A_lower[-1] = 0.\n",
    "A_lower[-2] = -dt/(2.*dx)\n",
    "A_mid[-1] = 1. + dt/(2*dx)\n",
    "A = vstack((A_upper, A_mid, A_lower))\n",
    "#Create two concentration arrays for two species\n",
    "C = zeros([ntimes,nx])\n",
    "D = zeros([ntimes,nx])\n",
    "#Set initial conditions for both species\n",
    "C[0,:]=0.\n",
    "D[0,:]=0.\n",
    "#Set upstream boundary concentrations\n",
    "C_upstream = 1.\n",
    "D_upstream = 0.\n",
    "C[:,0] = C_upstream\n",
    "D[:,0] = D_upstream\n",
    "#Create b arrays for each concentration variable\n",
    "bC = zeros(nx-1)\n",
    "bD = zeros(nx-1)\n",
    "for n in arange(ntimes-1):\n",
    "    #Calculate b matrix for C\n",
    "    bC[0:-1] = C[n,1:-1]*(1.-dt/(Pe*dx**2.)) + C[n,0:-2]*(dt/(4.*dx) + dt/(2.*Pe*dx**2.)) \\\n",
    "                        + C[n,2:]*(-dt/(4.*dx) + dt/(2.*Pe*dx**2.))\\\n",
    "                        - dt*k*(C[n,1:-1] - D[n,1:-1]) #Last line here is added to previous C-N solution to include reaction\n",
    "    bC[0] += dt*(1./(4.*dx) + 1./(2.*Pe*dx**2.))*C_upstream\n",
    "    bC[-1] = (1.-dt/(2.*dx))*C[n,-1] + (dt/(2*dx))*C[n,-2] - dt*k*(C[n,-1] - D[n,-1])#last term gets added to boundary cond.\n",
    "    #Calculate b matrix for D\n",
    "    bD[0:-1] = D[n,1:-1]*(1.-dt/(Pe*dx**2.)) + D[n,0:-2]*(dt/(4.*dx) + dt/(2.*Pe*dx**2.))\\\n",
    "                        + D[n,2:]*(-dt/(4.*dx) + dt/(2.*Pe*dx**2.))\\\n",
    "                        + dt*k*(C[n,1:-1] - D[n,1:-1])#Last line here is added to previous C-N solution to include reaction\n",
    "    bD[0] += dt*(1./(4.*dx) + 1./(2.*Pe*dx**2.))*D_upstream\n",
    "    bD[-1] = (1.-dt/(2.*dx))*D[n,-1] + (dt/(2*dx))*D[n,-2] + dt*k*(C[n,-1] - D[n,-1])#last term gets added to boundary cond.  \n",
    "    C[n+1,1:] = solve_banded((1,1), A, bC)\n",
    "    D[n+1,1:] = solve_banded((1,1), A, bD)\n",
    "    "
   ]
  },
  {
   "cell_type": "code",
   "execution_count": 3,
   "metadata": {},
   "outputs": [
    {
     "data": {
      "text/plain": [
       "Text(0, 0.5, 'Concentration')"
      ]
     },
     "execution_count": 3,
     "metadata": {},
     "output_type": "execute_result"
    },
    {
     "data": {
      "image/png": "[encoded data removed]",
      "text/plain": [
       "<Figure size 432x288 with 1 Axes>"
      ]
     },
     "metadata": {
      "needs_background": "light"
     },
     "output_type": "display_data"
    }
   ],
   "source": [
    "x = linspace(0,1,nx)\n",
    "plot(x,C[100,:])\n",
    "plot(x,D[100,:])\n",
    "xlabel('Distance downstream (dimensionless)')\n",
    "ylabel('Concentration')"
   ]
  },
  {
   "cell_type": "code",
   "execution_count": 4,
   "metadata": {},
   "outputs": [
    {
     "data": {
      "text/plain": [
       "Text(0, 0.5, 'Concentration at Toronto')"
      ]
     },
     "execution_count": 4,
     "metadata": {},
     "output_type": "execute_result"
    },
    {
     "data": {
      "image/png": "[encoded data removed]",
      "text/plain": [
       "<Figure size 432x288 with 1 Axes>"
      ]
     },
     "metadata": {
      "needs_background": "light"
     },
     "output_type": "display_data"
    }
   ],
   "source": [
    "t = linspace(0,endtime,ntimes)\n",
    "plot(t,C[:,-1])\n",
    "plot(t,D[:,-1])\n",
    "xlabel('Time (dimensionless)')\n",
    "ylabel('Concentration at Toronto')"
   ]
  },
  {
   "cell_type": "code",
   "execution_count": 5,
   "metadata": {},
   "outputs": [
    {
     "name": "stderr",
     "output_type": "stream",
     "text": [
      "/home/mcoving/anaconda3/lib/python3.7/site-packages/scipy/sparse/linalg/dsolve/linsolve.py:133: SparseEfficiencyWarning: spsolve requires A be CSC or CSR matrix format\n",
      "  SparseEfficiencyWarning)\n"
     ]
    }
   ],
   "source": [
    "#Crank-Nicolson solution zero diffusion across downstream boundary \n",
    "#with Crank-Nicolson reaction term that couples concentrations.\n",
    "#Concentrations are solved by creating a single column matrix \n",
    "#that contains both C1 and C2.\n",
    "from scipy.sparse import dia_matrix\n",
    "from scipy.sparse.linalg import spsolve\n",
    "#define parameters\n",
    "ntimes = 1000\n",
    "endtime = 2.0\n",
    "dt = endtime/(ntimes-1)\n",
    "nx = 1000\n",
    "Pe = 50.\n",
    "xmax = 1.\n",
    "k=0.2\n",
    "dx = xmax/(nx-1.)\n",
    "#Construct A matrix. Start by creating diagonals of upper left block, which are similar to before \n",
    "A_upper = dt*(1./(4.*dx) - 1./(2.*Pe*dx**2.))*ones(nx-1) \n",
    "A_lower = dt*(-1./(4.*dx) - 1./(2.*Pe*dx**2.))*ones(nx-1)\n",
    "A_mid = (1.+dt/(Pe*dx**2.))*ones(nx-1) + dt*k/2.#The middle diagonal gets an added reaction term now\n",
    "#Knock out elemnts of upper and lower rows for sparse storage\n",
    "A_upper[0] = 0.\n",
    "A_lower[-1] = 0.\n",
    "#Modify lower row for boundary condition\n",
    "A_lower[-2] = -dt/(2.*dx)\n",
    "A_mid[-1] = 1. + dt/(2*dx) + dt*k/2.#Again, there is an additional term in the bnd. cond. related to reaction\n",
    "#Now create full diagonals by appending upper left block diagonals to themselves\n",
    "A_upper = append(A_upper,A_upper)\n",
    "A_lower = append(A_lower,A_lower)\n",
    "A_mid = append(A_mid,A_mid)\n",
    "#Create upper left and lower right blocks, which only have diagonal non-zero elements\n",
    "A_up_block_diag = zeros(2*(nx-1))#Diagonal in sparse form is mostly zeros\n",
    "A_up_block_diag[nx:] = -dt*k/2.#Set non-zero elements in 2nd half of array\n",
    "A_low_block_diag = zeros(2*(nx-1))\n",
    "A_low_block_diag[:nx] = -dt*k/2.#Set non-zero elements in 1st half of array\n",
    "#Create stacked rows version of A\n",
    "A_tmp = vstack((A_up_block_diag,A_upper, A_mid, A_lower,A_low_block_diag))\n",
    "#Construct sparse array\n",
    "offsets = [nx,1,0,-1,-nx]#These indicate the numbers of the non-zero diagonals corresponding to the rows in A_tmp\n",
    "#Create sparse matrix using dia_matrix:\n",
    "#  You have to provide the non-zero diagonals and their offsets in a tuple as the first argument.\n",
    "#  You can also specify the total size of the matrix with the shape keyword\n",
    "A = dia_matrix((A_tmp,offsets), shape=(2*(nx-1),2*(nx-1)))\n",
    "#Create concentrations array for both species\n",
    "C = zeros([ntimes,2*nx])\n",
    "#Set initial condition\n",
    "C[0,:]=0.\n",
    "#set upstream concentrations\n",
    "C1_upstream = 1.\n",
    "C2_upstream = 0.\n",
    "C[:nx,0] = C1_upstream\n",
    "C[nx:,0] = C2_upstream\n",
    "#Create both halves of b matrix, they are treated separately below for clarity\n",
    "bC1 = zeros(nx-1)\n",
    "bC2 = zeros(nx-1)\n",
    "for n in arange(ntimes-1):\n",
    "    #Set C1 and C2 to concentrations of two species at nth timestep\n",
    "    C1 = C[n,:nx]\n",
    "    C2 = C[n,nx:]\n",
    "    #Calculate the components of b for the top half\n",
    "    bC1[0:-1] = C1[1:-1]*(1.-dt/(Pe*dx**2.)) + C1[0:-2]*(dt/(4.*dx) + dt/(2.*Pe*dx**2.)) \\\n",
    "                        + C1[2:]*(-dt/(4.*dx) + dt/(2.*Pe*dx**2.))\\\n",
    "                        - dt*k*(C1[1:-1] - C2[1:-1])/2. #This row contains reaction term\n",
    "    bC1[0] += dt*(1./(4.*dx) + 1./(2.*Pe*dx**2.))*C1_upstream\n",
    "    bC1[-1] = (1.-dt/(2.*dx))*C1[-1] + (dt/(2*dx))*C1[-2] - dt*k*(C1[-1] - C2[-1])/2.#Boundary gets additional reaction term\n",
    "    bC2[0:-1] = C2[1:-1]*(1.-dt/(Pe*dx**2.)) + C2[0:-2]*(dt/(4.*dx) + dt/(2.*Pe*dx**2.))\\\n",
    "                        + C2[2:]*(-dt/(4.*dx) + dt/(2.*Pe*dx**2.))\\\n",
    "                        + dt*k*(C1[1:-1] - C2[1:-1])/2. #This row contains reaction term\n",
    "    bC2[0] += dt*(1./(4.*dx) + 1./(2.*Pe*dx**2.))*C2_upstream\n",
    "    bC2[-1] = (1.-dt/(2.*dx))*C2[-1] + (dt/(2*dx))*C2[-2] + dt*k*(C1[-1] - C2[-1]) /2.#Boundary gets additional reaction term\n",
    "    #Put together upper and lower halves of b\n",
    "    b = append(bC1,bC2)\n",
    "    #Use sparse linear solver\n",
    "    Ctmp = spsolve(A, b)\n",
    "    #Assign values from solver into C array avoiding upstream boundary locations (first row of each half of C)\n",
    "    C[n+1,1:nx] = Ctmp[:nx-1]\n",
    "    C[n+1,nx+1:] = Ctmp[nx-1:]\n",
    "    "
   ]
  },
  {
   "cell_type": "code",
   "execution_count": 6,
   "metadata": {},
   "outputs": [
    {
     "data": {
      "text/plain": [
       "Text(0, 0.5, 'Concentration')"
      ]
     },
     "execution_count": 6,
     "metadata": {},
     "output_type": "execute_result"
    },
    {
     "data": {
      "image/png": "[encoded data removed]",
      "text/plain": [
       "<Figure size 432x288 with 1 Axes>"
      ]
     },
     "metadata": {
      "needs_background": "light"
     },
     "output_type": "display_data"
    }
   ],
   "source": [
    "x = linspace(0,1,nx)\n",
    "plot(x,C[200,:nx])\n",
    "plot(x,C[200,nx:])\n",
    "#Can compare against previous solution for D\n",
    "plot(x,D[200,:],'--')\n",
    "\n",
    "xlabel('Distance downstream (dimensionless)')\n",
    "ylabel('Concentration')"
   ]
  },
  {
   "cell_type": "code",
   "execution_count": null,
   "metadata": {},
   "outputs": [],
   "source": []
  }
 ],
 "metadata": {
  "kernelspec": {
   "display_name": "Python 3",
   "language": "python",
   "name": "python3"
  },
  "language_info": {
   "codemirror_mode": {
    "name": "ipython",
    "version": 3
   },
   "file_extension": ".py",
   "mimetype": "text/x-python",
   "name": "python",
   "nbconvert_exporter": "python",
   "pygments_lexer": "ipython3",
   "version": "3.7.5"
  }
 },
 "nbformat": 4,
 "nbformat_minor": 1
}
