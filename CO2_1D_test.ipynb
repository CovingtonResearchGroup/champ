{
 "cells": [
  {
   "cell_type": "code",
   "execution_count": 1,
   "metadata": {},
   "outputs": [
    {
     "name": "stdout",
     "output_type": "stream",
     "text": [
      "Populating the interactive namespace from numpy and matplotlib\n"
     ]
    }
   ],
   "source": [
    "%pylab inline\n",
    "from CO2_sim_1D import CO2_1D"
   ]
  },
  {
   "cell_type": "code",
   "execution_count": 6,
   "metadata": {},
   "outputs": [],
   "source": [
    "n=20\n",
    "x = linspace(0,5000,n)\n",
    "z = linspace(0,1,n)\n",
    "np.random.seed(7)\n",
    "r = ones(n-1) + 0.1*np.random.rand(n-1)\n",
    "#r[5] = 0.5\n",
    "sim = CO2_1D(x,z, init_radii=r, \n",
    "             Q_w=.2, \n",
    "             T_outside=0., \n",
    "             D_a=35., D_w=35.,\n",
    "             adv_disp_stabil_factor=0.5)"
   ]
  },
  {
   "cell_type": "code",
   "execution_count": 7,
   "metadata": {},
   "outputs": [
    {
     "name": "stdout",
     "output_type": "stream",
     "text": [
      "0.7120159334304614\n",
      "0.7747271853393728\n",
      "0.6990057721043756\n",
      "0.6906938917766601\n",
      "0.6821817307171225\n",
      "0.6950119823867313\n",
      "0.6970265082153484\n",
      "0.7114144189659017\n",
      "0.706269437114701\n",
      "0.6968621748849961\n",
      "0.6921801572275003\n",
      "0.6863912419103027\n",
      "0.7014969036601354\n",
      "0.7105508755430494\n",
      "0.7056543464997361\n",
      "0.6849363037385596\n",
      "0.705277213739869\n",
      "0.6974082778016992\n",
      "0.683895117706597\n",
      "Air discharge =  0.5829433254408319  m^3/s\n",
      "Warning! Low PCO2 outside of interpolation range is set to minimum from table.\n",
      "Warning! Low PCO2 outside of interpolation range is set to minimum from table.\n",
      "Warning! Low PCO2 outside of interpolation range is set to minimum from table.\n",
      "Warning! Low PCO2 outside of interpolation range is set to minimum from table.\n",
      "Warning! Low PCO2 outside of interpolation range is set to minimum from table.\n",
      "Warning! Low PCO2 outside of interpolation range is set to minimum from table.\n",
      "Warning! Low PCO2 outside of interpolation range is set to minimum from table.\n",
      "Warning! Low PCO2 outside of interpolation range is set to minimum from table.\n",
      "Warning! Low PCO2 outside of interpolation range is set to minimum from table.\n",
      "Warning! Low PCO2 outside of interpolation range is set to minimum from table.\n",
      "Warning! Low PCO2 outside of interpolation range is set to minimum from table.\n",
      "Warning! Low PCO2 outside of interpolation range is set to minimum from table.\n",
      "Warning! Low PCO2 outside of interpolation range is set to minimum from table.\n",
      "Warning! Low PCO2 outside of interpolation range is set to minimum from table.\n",
      "Warning! Low PCO2 outside of interpolation range is set to minimum from table.\n",
      "Warning! Low PCO2 outside of interpolation range is set to minimum from table.\n",
      "Warning! Low PCO2 outside of interpolation range is set to minimum from table.\n",
      "Warning! Low PCO2 outside of interpolation range is set to minimum from table.\n",
      "Warning! Low PCO2 outside of interpolation range is set to minimum from table.\n",
      "Warning! Low PCO2 outside of interpolation range is set to minimum from table.\n",
      "Warning! Low PCO2 outside of interpolation range is set to minimum from table.\n",
      "Warning! Low PCO2 outside of interpolation range is set to minimum from table.\n"
     ]
    }
   ],
   "source": [
    "\n",
    "#sim.h[0]=1.\n",
    "sim.calc_flow_depths()\n",
    "#sim.T_outside = 0\n",
    "sim.calc_air_flow()\n",
    "#sim.calc_steady_adv_disp_reaction()\n",
    "sim.calc_steady_state_transport()"
   ]
  },
  {
   "cell_type": "code",
   "execution_count": 10,
   "metadata": {},
   "outputs": [
    {
     "data": {
      "text/plain": [
       "array([  1.00004636,  16.34579881,  32.59464037,  48.28613261,\n",
       "        63.95878795,  79.6188804 ,  96.54742251, 114.08354481,\n",
       "       133.05077253, 152.23870744, 171.47495695, 190.92329116,\n",
       "       210.62082674, 231.94795025, 254.682425  , 277.64580024,\n",
       "       299.6837128 , 324.17661112, 348.77017881, 372.81251012])"
      ]
     },
     "execution_count": 10,
     "metadata": {},
     "output_type": "execute_result"
    }
   ],
   "source": [
    "#sim.CO2_a\n",
    "#plot(xmid,sim.CO2_w[1:] - sim.CO2_w[:-1])\n",
    "#plot(xmid,sim.CO2_a[1:] - sim.CO2_a[:-1])\n",
    "sim.CO2_a/sim.pCO2_outside"
   ]
  },
  {
   "cell_type": "code",
   "execution_count": 8,
   "metadata": {},
   "outputs": [
    {
     "data": {
      "text/plain": [
       "<matplotlib.legend.Legend at 0x7f8ccf5b3c10>"
      ]
     },
     "execution_count": 8,
     "metadata": {},
     "output_type": "execute_result"
    },
    {
     "data": {
      "image/png": "[encoded data removed]",
      "text/plain": [
       "<Figure size 432x288 with 1 Axes>"
      ]
     },
     "metadata": {
      "needs_background": "light"
     },
     "output_type": "display_data"
    }
   ],
   "source": [
    "xmid = (x[1:] + x[:-1])/2.\n",
    "plot(x, sim.h)\n",
    "plot(x,z)\n",
    "#plot(xmid,sim.fd_mids)\n",
    "plot(x,sim.CO2_w)\n",
    "plot(x,sim.CO2_a)\n",
    "plot(x,sim.Ca)\n",
    "legend(['h','z','w','a','Ca'])"
   ]
  },
  {
   "cell_type": "code",
   "execution_count": 11,
   "metadata": {},
   "outputs": [
    {
     "name": "stdout",
     "output_type": "stream",
     "text": [
      "Timestep= 1\n",
      "rel tol CO2_w= 0.005022846926717062   abs_tol_CO2_w= 0.005022846926717062\n",
      "rel tol CO2_a= 0.003009200941559678   abs_tol_CO2_a= 0.00270828084740371\n",
      "Timestep= 2\n",
      "rel tol CO2_w= 0.004657920073379474   abs_tol_CO2_w= 0.0046345240538540056\n",
      "rel tol CO2_a= 0.0027682245611030925   abs_tol_CO2_a= 0.0024988992345529315\n",
      "Timestep= 3\n",
      "rel tol CO2_w= 0.00431792109887435   abs_tol_CO2_w= 0.004276221332957686\n",
      "rel tol CO2_a= 0.002547146444352145   abs_tol_CO2_a= 0.002305695250147788\n",
      "Timestep= 4\n",
      "rel tol CO2_w= 0.004001362079581644   abs_tol_CO2_w= 0.003945608731665939\n",
      "rel tol CO2_a= 0.0023441645010853908   abs_tol_CO2_a= 0.002127359466631451\n",
      "Timestep= 5\n",
      "rel tol CO2_w= 0.003706778385554377   abs_tol_CO2_w= 0.003640504149569068\n",
      "rel tol CO2_a= 0.002157414242755836   abs_tol_CO2_a= 0.001962470798338556\n",
      "Timestep= 6\n",
      "rel tol CO2_w= 0.003432664007978143   abs_tol_CO2_w= 0.0033587940904937774\n",
      "rel tol CO2_a= 0.0019844647768609397   abs_tol_CO2_a= 0.0018090434597485272\n",
      "Timestep= 7\n",
      "rel tol CO2_w= 0.003177337591614705   abs_tol_CO2_w= 0.0030982902006126967\n",
      "rel tol CO2_a= 0.0018213333212630442   abs_tol_CO2_a= 0.0016636272545903497\n",
      "Timestep= 8\n",
      "rel tol CO2_w= 0.0029387502115996006   abs_tol_CO2_w= 0.002856533415578122\n",
      "rel tol CO2_a= 0.0016611899356278245   abs_tol_CO2_a= 0.001520114005469364\n",
      "Timestep= 9\n",
      "rel tol CO2_w= 0.0027143183805469727   abs_tol_CO2_w= 0.0026306269254622316\n",
      "rel tol CO2_a= 0.0014936675621850487   abs_tol_CO2_a= 0.0013690889515314275\n",
      "Timestep= 10\n",
      "rel tol CO2_w= 0.002500914172725631   abs_tol_CO2_w= 0.002417223706328131\n",
      "rel tol CO2_a= 0.0013063031516519028   abs_tol_CO2_a= 0.0011991400230031424\n",
      "Timestep= 11\n",
      "rel tol CO2_w= 0.002295086996735981   abs_tol_CO2_w= 0.0022127365819322176\n",
      "rel tol CO2_a= 0.0010890848290506423   abs_tol_CO2_a= 0.0010010472620940458\n",
      "Timestep= 12\n",
      "rel tol CO2_w= 0.0020934414821656535   abs_tol_CO2_w= 0.002013694110512665\n",
      "rel tol CO2_a= 0.0008409221709514854   abs_tol_CO2_a= 0.0007737869531232455\n",
      "Timestep= 13\n",
      "rel tol CO2_w= 0.0018930047395204212   abs_tol_CO2_w= 0.001817080854630393\n",
      "rel tol CO2_a= 0.000574376043089872   abs_tol_CO2_a= 0.0005289650422920511\n",
      "Timestep= 14\n",
      "rel tol CO2_w= 0.0016915159128379738   abs_tol_CO2_w= 0.0016205996408839018\n",
      "rel tol CO2_a= 0.00031463689039123473   abs_tol_CO2_a= 0.0002899276746327617\n",
      "Timestep= 15\n",
      "rel tol CO2_w= 0.001487764932164241   abs_tol_CO2_w= 0.0014229797845949355\n",
      "rel tol CO2_a= 0.00015504642469942124   abs_tol_CO2_a= 0.00014246922157723496\n",
      "Timestep= 16\n",
      "rel tol CO2_w= 0.0012821243953412365   abs_tol_CO2_w= 0.001224469486402202\n",
      "rel tol CO2_a= 0.00016628609373093287   abs_tol_CO2_a= 0.00015291568402664435\n",
      "Timestep= 17\n",
      "rel tol CO2_w= 0.0010771436852627476   abs_tol_CO2_w= 0.0010273874735380328\n",
      "rel tol CO2_a= 0.00018405231829096268   abs_tol_CO2_a= 0.00016952064327480088\n",
      "Timestep= 18\n",
      "rel tol CO2_w= 0.0008777542782970881   abs_tol_CO2_w= 0.0008363066146588327\n",
      "rel tol CO2_a= 0.0001936500534011608   abs_tol_CO2_a= 0.00017847300850570846\n",
      "Timestep= 19\n",
      "rel tol CO2_w= 0.0006906488080726474   abs_tol_CO2_w= 0.0006574586932986959\n",
      "rel tol CO2_a= 0.00018019983097674634   abs_tol_CO2_a= 0.00016604476714621175\n",
      "Timestep= 20\n",
      "rel tol CO2_w= 0.0005228313738689321   abs_tol_CO2_w= 0.0004973622255205479\n",
      "rel tol CO2_a= 0.00014430589737920416   abs_tol_CO2_a= 0.00013294641391758955\n",
      "Timestep= 21\n",
      "rel tol CO2_w= 0.00037986870443348464   abs_tol_CO2_w= 0.0003611748910326007\n",
      "rel tol CO2_a= 0.00010339812802670319   abs_tol_CO2_a= 9.52450792967019e-05\n",
      "Timestep= 22\n",
      "rel tol CO2_w= 0.0002645793133672621   abs_tol_CO2_w= 0.00025146347549243053\n",
      "rel tol CO2_a= 6.787036922470856e-05   abs_tol_CO2_a= 6.251225649445136e-05\n",
      "Timestep= 23\n",
      "rel tol CO2_w= 0.0001766461594734043   abs_tol_CO2_w= 0.00016784496112021152\n",
      "rel tol CO2_a= 4.1578698046218295e-05   abs_tol_CO2_a= 3.8293615600926145e-05\n",
      "Timestep= 24\n",
      "rel tol CO2_w= 0.0001131511719685716   abs_tol_CO2_w= 0.00010749454886704868\n",
      "rel tol CO2_a= 2.417730784791757e-05   abs_tol_CO2_a= 2.226616227585243e-05\n",
      "Timestep= 25\n",
      "rel tol CO2_w= 6.964553175265966e-05   abs_tol_CO2_w= 6.615634445650276e-05\n",
      "rel tol CO2_a= 1.3546539819832707e-05   abs_tol_CO2_a= 1.2475423782243311e-05\n",
      "Timestep= 26\n",
      "rel tol CO2_w= 4.1271283706272666e-05   abs_tol_CO2_w= 3.920089394315873e-05\n",
      "rel tol CO2_a= 7.396660193172868e-06   abs_tol_CO2_a= 6.811718836208236e-06\n",
      "Timestep= 27\n",
      "rel tol CO2_w= 2.3594570646664604e-05   abs_tol_CO2_w= 2.241001503999751e-05\n",
      "rel tol CO2_a= 3.9571589501097166e-06   abs_tol_CO2_a= 3.6441926595243146e-06\n",
      "Timestep= 28\n",
      "rel tol CO2_w= 1.30382718783543e-05   abs_tol_CO2_w= 1.2383398673265766e-05\n",
      "rel tol CO2_a= 2.0728511065458157e-06   abs_tol_CO2_a= 1.9089045929510107e-06\n",
      "Timestep= 29\n",
      "rel tol CO2_w= 6.975629000019059e-06   abs_tol_CO2_w= 6.625177741192978e-06\n",
      "rel tol CO2_a= 1.0583216113122613e-06   abs_tol_CO2_a= 9.746145251954275e-07\n",
      "Air-water solution converged, beginning dissolution calculations: n= 29\n",
      "Timestep= 30\n",
      "rel tol CO2_w= 0.0007542916179806142   abs_tol_CO2_w= 0.0007374777599696847\n",
      "rel tol CO2_a= 5.240820967775802e-07   abs_tol_CO2_a= 4.826297392845902e-07\n",
      "rel tol Ca= 0.0014958777016183533   abs_tol_Ca= 0.0007448508510523033\n",
      "Timestep= 31\n",
      "rel tol CO2_w= 0.0007204459299087646   abs_tol_CO2_w= 0.0006993503679361135\n",
      "rel tol CO2_a= 2.1808806885314103e-05   abs_tol_CO2_a= 1.98634280276222e-05\n",
      "rel tol Ca= 0.0008422805072729928   abs_tol_Ca= 0.000419715131334486\n",
      "Timestep= 32\n",
      "rel tol CO2_w= 0.0006862996198424411   abs_tol_CO2_w= 0.0006624870314909659\n",
      "rel tol CO2_a= 4.1748002608865585e-05   abs_tol_CO2_a= 3.811836987488437e-05\n",
      "rel tol Ca= 0.0006211956503644131   abs_tol_Ca= 0.0003096763563320004\n",
      "Timestep= 33\n",
      "rel tol CO2_w= 0.0006547237598289605   abs_tol_CO2_w= 0.0006289316284928681\n",
      "rel tol CO2_a= 5.995450336062259e-05   abs_tol_CO2_a= 5.4859616196889505e-05\n",
      "rel tol Ca= 0.0005136904286150891   abs_tol_Ca= 0.00025616763012398236\n",
      "Timestep= 34\n",
      "rel tol CO2_w= 0.0006253847367919226   abs_tol_CO2_w= 0.0005981334457598741\n",
      "rel tol CO2_a= 7.660408931457456e-05   abs_tol_CO2_a= 7.022458846073221e-05\n",
      "rel tol Ca= 0.000447914918721219   abs_tol_Ca= 0.00022343261187091068\n",
      "Timestep= 35\n",
      "rel tol CO2_w= 0.0005981478635720718   abs_tol_CO2_w= 0.000570038755555724\n",
      "rel tol CO2_a= 9.184631064841018e-05   abs_tol_CO2_a= 8.432822122139694e-05\n",
      "rel tol Ca= 0.0004021960367175693   abs_tol_Ca= 0.00020068249327409582\n",
      "Timestep= 36\n",
      "rel tol CO2_w= 0.0005729937218032158   abs_tol_CO2_w= 0.0005442457887416818\n",
      "rel tol CO2_a= 0.00010585034110130036   abs_tol_CO2_a= 9.727233264422708e-05\n",
      "rel tol Ca= 0.0003679431165036002   abs_tol_Ca= 0.00018364047658497862\n",
      "Timestep= 37\n",
      "rel tol CO2_w= 0.0005496168005259415   abs_tol_CO2_w= 0.0005204665708763434\n",
      "rel tol CO2_a= 0.00011868215932338913   abs_tol_CO2_a= 0.00010918458296427236\n",
      "rel tol Ca= 0.00034099721350865076   abs_tol_Ca= 0.00017023600222648705\n",
      "Timestep= 38\n",
      "rel tol CO2_w= 0.00052780695584817   abs_tol_CO2_w= 0.0004987159701904664\n",
      "rel tol CO2_a= 0.00013035584801174074   abs_tol_CO2_a= 0.00011998404026802856\n",
      "rel tol Ca= 0.0003190569763037013   abs_tol_Ca= 0.00015932331695189816\n",
      "Timestep= 39\n",
      "rel tol CO2_w= 0.0005057355424737873   abs_tol_CO2_w= 0.000477608842229027\n",
      "rel tol CO2_a= 0.00014006911555962889   abs_tol_CO2_a= 0.00012890766229456396\n",
      "rel tol Ca= 0.0003007275197681737   abs_tol_Ca= 0.00015020796406184367\n",
      "Timestep= 40\n",
      "rel tol CO2_w= 0.0004818071586275099   abs_tol_CO2_w= 0.0004547811304079774\n",
      "rel tol CO2_a= 0.0001467017673656281   abs_tol_CO2_a= 0.0001349928780911558\n",
      "rel tol Ca= 0.0002851059979757758   abs_tol_Ca= 0.000142440458431925\n",
      "Timestep= 41\n",
      "rel tol CO2_w= 0.000454258427755681   abs_tol_CO2_w= 0.000428571103437525\n",
      "rel tol CO2_a= 0.00014899533249361336   abs_tol_CO2_a= 0.00013708327076522586\n",
      "rel tol Ca= 0.00027157817530942303   abs_tol_Ca= 0.00013571500617753918\n",
      "Timestep= 42\n",
      "rel tol CO2_w= 0.0004215028993841157   abs_tol_CO2_w= 0.00039748718486254386\n",
      "rel tol CO2_a= 0.00014579519218568313   abs_tol_CO2_a= 0.00013411899312087971\n",
      "rel tol Ca= 0.0002597094160006861   abs_tol_Ca= 0.00012981523126853745\n",
      "Timestep= 43\n",
      "rel tol CO2_w= 0.00038265797313414554   abs_tol_CO2_w= 0.00036070340072624774\n",
      "rel tol CO2_a= 0.00013655150280237447   abs_tol_CO2_a= 0.0001255972825677798\n",
      "rel tol Ca= 0.00024918220871001837   abs_tol_Ca= 0.000124583070409523\n",
      "Timestep= 44\n",
      "rel tol CO2_w= 0.0003379856338681046   abs_tol_CO2_w= 0.0003184721742989227\n",
      "rel tol CO2_a= 0.00012172283465119684   abs_tol_CO2_a= 0.00011194288849070144\n",
      "rel tol Ca= 0.00023975839612657226   abs_tol_Ca= 0.00011989996791383906\n",
      "Timestep= 45\n",
      "rel tol CO2_w= 0.00028903604027713726   abs_tol_CO2_w= 0.0002722566151367456\n",
      "rel tol CO2_a= 0.00010284055330613847   abs_tol_CO2_a= 9.456621116399333e-05\n",
      "rel tol Ca= 0.0002312553182093767   abs_tol_Ca= 0.00011567499788722735\n",
      "Timestep= 46\n",
      "rel tol CO2_w= 0.00023839672183152412   abs_tol_CO2_w= 0.00022449215874498218\n",
      "rel tol CO2_a= 8.215607646224314e-05   abs_tol_CO2_a= 7.553819614647406e-05\n",
      "rel tol Ca= 0.00022372002864384194   abs_tol_Ca= 0.0001119331345441621\n",
      "Timestep= 47\n",
      "rel tol CO2_w= 0.0001891224843737859   abs_tol_CO2_w= 0.00017804940002630332\n",
      "rel tol CO2_a= 6.20233162198835e-05   abs_tol_CO2_a= 5.702249567107742e-05\n",
      "rel tol Ca= 0.00021705751056244168   abs_tol_Ca= 0.0001086256606783742\n",
      "Timestep= 48\n",
      "rel tol CO2_w= 0.00014405500902687745   abs_tol_CO2_w= 0.0001355949676091761\n",
      "rel tol CO2_a= 4.4302084779539885e-05   abs_tol_CO2_a= 4.07275667806406e-05\n",
      "rel tol Ca= 0.00020970360324869925   abs_tol_Ca= 0.00010496820305960775\n",
      "Timestep= 49\n",
      "rel tol CO2_w= 0.00010526787516063498   abs_tol_CO2_w= 9.907144505116872e-05\n",
      "rel tol CO2_a= 3.002260099238155e-05   abs_tol_CO2_a= 2.7599001777622867e-05\n",
      "rel tol Ca= 0.00019093777595722476   abs_tol_Ca= 9.559491534893994e-05\n",
      "Timestep= 50\n",
      "rel tol CO2_w= 7.379203045090414e-05   abs_tol_CO2_w= 6.94410664108247e-05\n",
      "rel tol CO2_a= 1.9382058132706082e-05   abs_tol_CO2_a= 1.781689058655278e-05\n",
      "rel tol Ca= 0.0001645365954504514   abs_tol_Ca= 8.239262801157388e-05\n",
      "Timestep= 51\n",
      "rel tol CO2_w= 4.964612231899914e-05   abs_tol_CO2_w= 4.6715414380171794e-05\n",
      "rel tol CO2_a= 1.1979346920500604e-05   abs_tol_CO2_a= 1.1011760212231714e-05\n",
      "rel tol Ca= 0.000134700301502882   abs_tol_Ca= 6.746303387905606e-05\n",
      "Timestep= 52\n",
      "rel tol CO2_w= 3.2086473912781296e-05   abs_tol_CO2_w= 3.019084751465506e-05\n",
      "rel tol CO2_a= 7.125282533057089e-06   abs_tol_CO2_a= 6.549686163759283e-06\n",
      "rel tol Ca= 0.00010512326947623717   abs_tol_Ca= 5.265682330890531e-05\n",
      "Timestep= 53\n",
      "rel tol CO2_w= 1.9944999633280107e-05   abs_tol_CO2_w= 1.8766073304532505e-05\n",
      "rel tol CO2_a= 4.09743164145099e-06   abs_tol_CO2_a= 3.7664050490660017e-06\n",
      "rel tol Ca= 7.845050401588176e-05   abs_tol_Ca= 3.930041948341234e-05\n",
      "Timestep= 54\n",
      "rel tol CO2_w= 1.1939643568940315e-05   abs_tol_CO2_w= 1.1233680706101978e-05\n",
      "rel tol CO2_a= 2.2855643894701686e-06   abs_tol_CO2_a= 2.1009077728617598e-06\n",
      "rel tol Ca= 5.6139585199011176e-05   abs_tol_Ca= 2.812578914179742e-05\n",
      "Timestep= 55\n",
      "rel tol CO2_w= 6.892336951468167e-06   abs_tol_CO2_w= 6.484731955525014e-06\n",
      "rel tol CO2_a= 1.2386064022626215e-06   abs_tol_CO2_a= 1.1385336079472452e-06\n",
      "rel tol Ca= 3.8619771624949365e-05   abs_tol_Ca= 1.9349493392994965e-05\n",
      "Timestep= 56\n",
      "rel tol CO2_w= 3.841429134449458e-06   abs_tol_CO2_w= 3.614226458448222e-06\n",
      "rel tol CO2_a= 6.521360402541997e-07   abs_tol_CO2_a= 5.994461822478314e-07\n",
      "rel tol Ca= 2.5597627476739966e-05   abs_tol_Ca= 1.2825561398033258e-05\n",
      "Timestep= 57\n"
     ]
    },
    {
     "name": "stdout",
     "output_type": "stream",
     "text": [
      "rel tol CO2_w= 2.06936038940995e-06   abs_tol_CO2_w= 1.9469598628862883e-06\n",
      "rel tol CO2_a= 3.3328367661902774e-07   abs_tol_CO2_a= 3.0635555303692996e-07\n",
      "rel tol Ca= 1.6380381958938483e-05   abs_tol_Ca= 8.207517375291573e-06\n",
      "Timestep= 58\n",
      "rel tol CO2_w= 1.0784001364504921e-06   abs_tol_CO2_w= 1.01461178425577e-06\n",
      "rel tol CO2_a= 1.6516823838984197e-07   abs_tol_CO2_a= 1.5182318757744895e-07\n",
      "rel tol Ca= 1.0138619876891289e-05   abs_tol_Ca= 5.080117305489296e-06\n",
      "Timestep= 59\n",
      "rel tol CO2_w= 5.440290664885254e-07   abs_tol_CO2_w= 5.118486987587545e-07\n",
      "rel tol CO2_a= 7.933954175043747e-08   abs_tol_CO2_a= 7.292915549239609e-08\n",
      "rel tol Ca= 6.079667045864383e-06   abs_tol_Ca= 3.046345092516667e-06\n",
      "Full solution converged: n= 59\n"
     ]
    },
    {
     "data": {
      "text/plain": [
       "<matplotlib.legend.Legend at 0x7f956233c750>"
      ]
     },
     "execution_count": 11,
     "metadata": {},
     "output_type": "execute_result"
    },
    {
     "data": {
      "image/png": "[encoded data removed]",
      "text/plain": [
       "<Figure size 432x288 with 1 Axes>"
      ]
     },
     "metadata": {
      "needs_background": "light"
     },
     "output_type": "display_data"
    }
   ],
   "source": [
    "sim.calc_steady_adv_disp_reaction()\n",
    "plot(x, sim.h)\n",
    "plot(x,z)\n",
    "#plot(xmid,sim.fd_mids)\n",
    "plot(x,sim.CO2_w)\n",
    "plot(x,sim.CO2_a)\n",
    "plot(x,sim.Ca)\n",
    "legend(['h','z','w','a','Ca'])"
   ]
  },
  {
   "cell_type": "code",
   "execution_count": 16,
   "metadata": {},
   "outputs": [
    {
     "ename": "NameError",
     "evalue": "name 'asdf' is not defined",
     "output_type": "error",
     "traceback": [
      "\u001b[0;31m---------------------------------------------------------------------------\u001b[0m",
      "\u001b[0;31mNameError\u001b[0m                                 Traceback (most recent call last)",
      "\u001b[0;32m<ipython-input-16-b1c53b054142>\u001b[0m in \u001b[0;36m<module>\u001b[0;34m\u001b[0m\n\u001b[1;32m     31\u001b[0m     \u001b[0msim\u001b[0m\u001b[0;34m.\u001b[0m\u001b[0mCO2_w\u001b[0m\u001b[0;34m[\u001b[0m\u001b[0mi\u001b[0m\u001b[0;34m-\u001b[0m\u001b[0;36m1\u001b[0m\u001b[0;34m]\u001b[0m \u001b[0;34m=\u001b[0m \u001b[0msim\u001b[0m\u001b[0;34m.\u001b[0m\u001b[0mpCO2_high\u001b[0m\u001b[0;34m*\u001b[0m\u001b[0;34m(\u001b[0m\u001b[0mthis_CO2_w\u001b[0m \u001b[0;34m+\u001b[0m \u001b[0mdCO2_w\u001b[0m\u001b[0;34m)\u001b[0m\u001b[0;34m\u001b[0m\u001b[0;34m\u001b[0m\u001b[0m\n\u001b[1;32m     32\u001b[0m     \u001b[0msim\u001b[0m\u001b[0;34m.\u001b[0m\u001b[0mCa\u001b[0m\u001b[0;34m[\u001b[0m\u001b[0mi\u001b[0m\u001b[0;34m-\u001b[0m\u001b[0;36m1\u001b[0m\u001b[0;34m]\u001b[0m \u001b[0;34m=\u001b[0m \u001b[0msim\u001b[0m\u001b[0;34m.\u001b[0m\u001b[0mCa_eq_0\u001b[0m\u001b[0;34m*\u001b[0m\u001b[0;34m(\u001b[0m\u001b[0mthis_Ca\u001b[0m \u001b[0;34m+\u001b[0m \u001b[0mdCa\u001b[0m\u001b[0;34m)\u001b[0m\u001b[0;34m\u001b[0m\u001b[0;34m\u001b[0m\u001b[0m\n\u001b[0;32m---> 33\u001b[0;31m     \u001b[0mprint\u001b[0m\u001b[0;34m(\u001b[0m\u001b[0masdf\u001b[0m\u001b[0;34m)\u001b[0m\u001b[0;34m\u001b[0m\u001b[0;34m\u001b[0m\u001b[0m\n\u001b[0m\u001b[1;32m     34\u001b[0m \u001b[0;34m\u001b[0m\u001b[0m\n",
      "\u001b[0;31mNameError\u001b[0m: name 'asdf' is not defined"
     ]
    }
   ],
   "source": [
    "from olm.calcite import concCaEqFromPCO2, createPalmerInterpolationFunctions, palmerRate, calc_K_H,\\\n",
    "                        solutionFromCaPCO2, palmerFromSolution\n",
    "\n",
    "\n",
    "K_w = sim.gas_transf_vel*sim.W/sim.A_w\n",
    "K_a = sim.gas_transf_vel*sim.W/sim.A_a\n",
    "#Loop backwards through concentration arrays\n",
    "F = np.zeros(sim.n_nodes - 1)\n",
    "\n",
    "g=9.8#m/s^2\n",
    "rho_limestone = 2.6#g/cm^3\n",
    "g_mol_CaCO3 = 100.09\n",
    "secs_per_year =  3.154e7\n",
    "secs_per_hour = 60.*60.\n",
    "\n",
    "\n",
    "mm_yr_to_mols_sec = 100.*rho_limestone/g_mol_CaCO3/secs_per_year/100./(sim.D_H_w/2.)\n",
    "\n",
    "for i in np.arange(sim.n_nodes-1, 0, -1):\n",
    "    this_CO2_w = sim.CO2_w[i]*sim.pCO2_high\n",
    "    this_CO2_a = sim.CO2_a[i]*sim.pCO2_high\n",
    "    this_Ca = sim.Ca[i]*sim.Ca_eq_0\n",
    "    sol = solutionFromCaPCO2(this_Ca, this_CO2_w, T_C=sim.T_cave)\n",
    "    F[i-1] = palmerFromSolution(sol, PCO2=this_CO2_w)\n",
    "    R = F[i-1]*mm_yr_to_mols_sec[i-1]\n",
    "    R_CO2 = R/sim.K_H\n",
    "    dCO2_a = sim.L_arr[i-1]*K_a[i-1]/sim.V_a[i-1]*(this_CO2_w - this_CO2_a)\n",
    "    dCO2_w = -sim.L_arr[i-1]*K_w[i-1]/sim.V_w[i-1]*(this_CO2_w - this_CO2_a) - R_CO2/sim.V_w[i-1]\n",
    "    dCa = sim.L_arr[i-1]*R/sim.V_w[i-1]\n",
    "    sim.CO2_a[i-1] = sim.pCO2_high*(this_CO2_a + dCO2_a)\n",
    "    sim.CO2_w[i-1] = sim.pCO2_high*(this_CO2_w + dCO2_w)\n",
    "    sim.Ca[i-1] = sim.Ca_eq_0*(this_Ca + dCa)\n",
    "    print(asdf)\n",
    "    "
   ]
  },
  {
   "cell_type": "code",
   "execution_count": null,
   "metadata": {},
   "outputs": [],
   "source": [
    "dt_stab[1:dt_stab.size]"
   ]
  },
  {
   "cell_type": "code",
   "execution_count": null,
   "metadata": {},
   "outputs": [],
   "source": [
    "diff_bnd=0\n",
    "sim.Lambda_w*(sim.CO2_a[1:] - sim.CO2_w[1:])"
   ]
  },
  {
   "cell_type": "code",
   "execution_count": null,
   "metadata": {},
   "outputs": [],
   "source": [
    "diff_bnd=0\n",
    "diff_bnd2=1\n",
    "\n",
    "V_w = sim.V_w\n",
    "V_w_mean = sim.V_w_mean\n",
    "dx = sim.dx_ad\n",
    "dt = sim.dt_ad\n",
    "CO2_w = sim.CO2_w\n",
    "CO2_a = sim.CO2_a\n",
    "print((1./dt -(np.sign(V_w[0])*V_w[diff_bnd]/V_w_mean)/(2.*dx))*CO2_w[diff_bnd])\n",
    "\n",
    "print(((np.sign(V_w[0])*V_w[diff_bnd]/V_w_mean)/(2*dx))*CO2_w[diff_bnd2])"
   ]
  },
  {
   "cell_type": "code",
   "execution_count": null,
   "metadata": {},
   "outputs": [],
   "source": [
    "sim.bCO2_w"
   ]
  },
  {
   "cell_type": "code",
   "execution_count": null,
   "metadata": {},
   "outputs": [],
   "source": [
    "np.sign(V_w[0])*(V_w[diff_bnd]/V_w_mean)"
   ]
  },
  {
   "cell_type": "code",
   "execution_count": null,
   "metadata": {},
   "outputs": [],
   "source": [
    "V_w_mean"
   ]
  },
  {
   "cell_type": "code",
   "execution_count": null,
   "metadata": {},
   "outputs": [],
   "source": []
  },
  {
   "cell_type": "code",
   "execution_count": null,
   "metadata": {},
   "outputs": [],
   "source": []
  },
  {
   "cell_type": "code",
   "execution_count": null,
   "metadata": {},
   "outputs": [],
   "source": []
  },
  {
   "cell_type": "code",
   "execution_count": null,
   "metadata": {},
   "outputs": [],
   "source": []
  }
 ],
 "metadata": {
  "kernelspec": {
   "display_name": "Python 3",
   "language": "python",
   "name": "python3"
  },
  "language_info": {
   "codemirror_mode": {
    "name": "ipython",
    "version": 3
   },
   "file_extension": ".py",
   "mimetype": "text/x-python",
   "name": "python",
   "nbconvert_exporter": "python",
   "pygments_lexer": "ipython3",
   "version": "3.7.5"
  }
 },
 "nbformat": 4,
 "nbformat_minor": 2
}
