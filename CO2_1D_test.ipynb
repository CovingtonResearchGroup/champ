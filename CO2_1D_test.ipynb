version https://git-lfs.github.com/spec/v1
oid sha256:fd336142aef300a60b540f9df38e556614871a2b2f2d825cabcad07f2fb100ea
size 3504537
