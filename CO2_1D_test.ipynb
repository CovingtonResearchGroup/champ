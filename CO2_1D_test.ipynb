version https://git-lfs.github.com/spec/v1
oid sha256:00263ecd9829e9ce9ecb119e23eda08b158780fb67ca7c8ebdb9560205d2edfa
size 4635396
