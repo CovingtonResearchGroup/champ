version https://git-lfs.github.com/spec/v1
oid sha256:47ce58eb51cf88f40a0cd970b3f9d0745956da149abeb7547a804c987907f85f
size 21781
