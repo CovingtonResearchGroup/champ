version https://git-lfs.github.com/spec/v1
oid sha256:4dd6a5c8fc4589c6dfb5b4a3bcce43665480a2529d9538add89a8e1b2b203a40
size 285424
