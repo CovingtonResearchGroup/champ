version https://git-lfs.github.com/spec/v1
oid sha256:a6882e63f09356f92ec44c22edb76a8df940ec360bc73886df934c1721198e92
size 1817335
