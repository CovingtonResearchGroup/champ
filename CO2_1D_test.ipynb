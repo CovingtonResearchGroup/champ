version https://git-lfs.github.com/spec/v1
oid sha256:85bf32d3a0c82d33cbd6975c23a797b78a00ad798bd09ff4cff1e25516b1a9fc
size 62213390
