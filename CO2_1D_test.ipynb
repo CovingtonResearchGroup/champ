version https://git-lfs.github.com/spec/v1
oid sha256:76430122340efec31c9fb876bdeec760751bd0c852565c8cfa218dd7f5588342
size 62212280
