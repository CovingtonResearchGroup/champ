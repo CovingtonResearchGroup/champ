version https://git-lfs.github.com/spec/v1
oid sha256:b66da0be4e63ceefa2445efb238ed13c7345cce7e4a6370cd0ad3e1b32f3672a
size 17285228
