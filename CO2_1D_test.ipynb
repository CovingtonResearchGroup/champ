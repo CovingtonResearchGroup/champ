version https://git-lfs.github.com/spec/v1
oid sha256:de2cb1e28f7e33828a20cb5a954cf5bba22e88e26a2f33b8d75dd23bbd770dff
size 24763
