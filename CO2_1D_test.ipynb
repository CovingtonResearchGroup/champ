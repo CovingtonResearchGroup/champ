version https://git-lfs.github.com/spec/v1
oid sha256:c598d90670272b33fdce85e6a494f996d88f234a4d3765cb6b862bab30ba1916
size 22237
