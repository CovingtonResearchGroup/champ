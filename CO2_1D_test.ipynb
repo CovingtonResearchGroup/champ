version https://git-lfs.github.com/spec/v1
oid sha256:b35b3cf2684439ff27a9d9259031554e95ee939319b59aef76215cd189ab4704
size 61423651
