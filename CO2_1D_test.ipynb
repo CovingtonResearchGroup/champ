version https://git-lfs.github.com/spec/v1
oid sha256:42832fc7bed9a9b0eb38f1cd53e5ba9a64cf9eaa8eee78af30bf13270b0cb1ae
size 624522
