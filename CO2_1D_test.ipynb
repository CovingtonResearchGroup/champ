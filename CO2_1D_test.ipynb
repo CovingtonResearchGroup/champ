version https://git-lfs.github.com/spec/v1
oid sha256:072dff28cbbc6a21f2d60bf1030b066703a15ca5f2310c995b684be20f6a6019
size 109089
