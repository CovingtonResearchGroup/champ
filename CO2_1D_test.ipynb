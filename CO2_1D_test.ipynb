version https://git-lfs.github.com/spec/v1
oid sha256:3808adddfc442a0c0bb53da6b31e47e8443efc04436fdc5fad785253d94aa6a8
size 97789
