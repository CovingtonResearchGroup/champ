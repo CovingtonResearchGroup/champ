version https://git-lfs.github.com/spec/v1
oid sha256:8e45d8d2079fd3c64715e354816e360b35b5a1d35fe3645ada0e149962e73d9e
size 68744
