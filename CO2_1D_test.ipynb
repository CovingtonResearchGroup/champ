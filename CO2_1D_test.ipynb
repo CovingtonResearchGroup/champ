version https://git-lfs.github.com/spec/v1
oid sha256:4aa201bc8a9d7869110ca8f846d86f65b44f366517defea2bae9b81e7b72d9c2
size 2191089
