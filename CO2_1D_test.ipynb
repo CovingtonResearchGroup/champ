version https://git-lfs.github.com/spec/v1
oid sha256:34bad64d94f6a834c983f32a39f9968efa745fdb68c947955ce3e784c34a01d5
size 734042
