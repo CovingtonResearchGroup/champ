version https://git-lfs.github.com/spec/v1
oid sha256:c43859c2d2a88a7b398923483195bb5e09f4bacc598ed48da21813d411835224
size 254863
