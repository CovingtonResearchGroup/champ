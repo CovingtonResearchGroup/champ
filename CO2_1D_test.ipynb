version https://git-lfs.github.com/spec/v1
oid sha256:a91c27e5021a6481672357cc3758439abd6d637a2398574a373e46e64d56ed09
size 6304880
