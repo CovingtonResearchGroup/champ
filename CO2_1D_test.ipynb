version https://git-lfs.github.com/spec/v1
oid sha256:b91c67c6e2d856ebf753c618bbb1ef491bda4e2c1417efe13863defb125f9c8e
size 122512592
