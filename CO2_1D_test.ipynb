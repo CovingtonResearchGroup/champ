version https://git-lfs.github.com/spec/v1
oid sha256:f8644db05a1049e070e1bb1c2b868c3bea2d315214cea5b467be886a46b3b310
size 3626942
