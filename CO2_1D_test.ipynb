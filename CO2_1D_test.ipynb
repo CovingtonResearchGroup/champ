version https://git-lfs.github.com/spec/v1
oid sha256:858f53eb3d8f694f1713248b8c6eafccafd147e3a9ee7cd77b8ce01bcb95a8e9
size 15388591
