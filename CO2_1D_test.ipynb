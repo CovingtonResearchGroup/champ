version https://git-lfs.github.com/spec/v1
oid sha256:b4ff3bfcc83ce60a9310219f364c03d5567ad8752c34a625315f2c6f1e6eff70
size 139422
