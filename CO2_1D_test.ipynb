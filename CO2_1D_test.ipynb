version https://git-lfs.github.com/spec/v1
oid sha256:c662f954b11fb451a973e5f5f0eb8d91aeb1f81ec07cdf320c6c63068d0b8008
size 14293339
