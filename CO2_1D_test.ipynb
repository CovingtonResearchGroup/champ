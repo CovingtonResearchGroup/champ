version https://git-lfs.github.com/spec/v1
oid sha256:3d925251c7305f101afb3fa49450724ea59e39617c30ebe4347d6828ff4b392b
size 80135
