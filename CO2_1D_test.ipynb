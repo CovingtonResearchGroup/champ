version https://git-lfs.github.com/spec/v1
oid sha256:54545c0baacf8d7cca9f74d2886fd905ea15eb90493185c4ded200fee7ac73db
size 62211668
