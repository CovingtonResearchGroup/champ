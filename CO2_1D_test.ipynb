version https://git-lfs.github.com/spec/v1
oid sha256:4af68501c3bd87192eaa5f1bc8cd614135410d8d74fcc7bfc98ef47a1e65a615
size 19990
