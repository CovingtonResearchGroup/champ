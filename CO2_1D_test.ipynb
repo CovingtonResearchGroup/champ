version https://git-lfs.github.com/spec/v1
oid sha256:f6f26f211c86841c4e9673ee20c6debfc391c9a2cdbcc55e0ee6b1f41c21ef6a
size 4817171
