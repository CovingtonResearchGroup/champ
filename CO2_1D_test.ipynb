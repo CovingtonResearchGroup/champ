version https://git-lfs.github.com/spec/v1
oid sha256:ee3219b6657b5d781b603ba0cfa3dbb15831244b7a3c103c8744218154290590
size 881741
