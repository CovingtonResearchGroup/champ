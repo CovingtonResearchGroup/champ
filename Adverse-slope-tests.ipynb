version https://git-lfs.github.com/spec/v1
oid sha256:460b494320cce5c013f3cbf00061aa87aa203ae6134692e2d932adf8980047a7
size 458555
