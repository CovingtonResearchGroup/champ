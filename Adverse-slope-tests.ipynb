version https://git-lfs.github.com/spec/v1
oid sha256:4f53fff523df3bff3ecc40b6d7849394daa8fd6aa06041f779169d32f7116934
size 164569
