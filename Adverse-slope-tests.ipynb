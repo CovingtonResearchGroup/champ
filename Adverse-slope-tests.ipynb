version https://git-lfs.github.com/spec/v1
oid sha256:1589d1b1b2b8644f75ec25a55621516a537f89be97fdaffa73f6135eb987f467
size 429037
