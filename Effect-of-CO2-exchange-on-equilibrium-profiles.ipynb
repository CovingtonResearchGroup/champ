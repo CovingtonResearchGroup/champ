version https://git-lfs.github.com/spec/v1
oid sha256:b5e240f30fa88e7c188a01d8824fcca7a643b4010d1e0055037ad3fdd4ef9c52
size 484125
