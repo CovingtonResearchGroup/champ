version https://git-lfs.github.com/spec/v1
oid sha256:9fb6f7689819b88cdf7e0a7d1349393e561b3b7ce2077344d84add9229146459
size 418069
