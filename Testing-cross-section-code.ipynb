version https://git-lfs.github.com/spec/v1
oid sha256:fbb7dad079d9dc3bce59866aadcd69cc0c8412b8579052d484e64c6e2843431a
size 33020
