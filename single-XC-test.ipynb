version https://git-lfs.github.com/spec/v1
oid sha256:ff0d62ed46e21e7b5d7863fff42715620e99914f816054960dee1df235c8f7cc
size 5371162
