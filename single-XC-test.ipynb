version https://git-lfs.github.com/spec/v1
oid sha256:78e0b3cc210cb5ab03baf88d4f22e9fb7f671413db87721ec91e4d7d395d4c12
size 1718455
