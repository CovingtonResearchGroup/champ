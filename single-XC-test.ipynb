version https://git-lfs.github.com/spec/v1
oid sha256:7aa5547d6a180f00abaa0d732368c40dc7fd02c356433088b89d64064729a7fd
size 5374460
