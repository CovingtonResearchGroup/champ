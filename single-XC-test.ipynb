version https://git-lfs.github.com/spec/v1
oid sha256:67dca714a5ff6c5c08ec4170e17b896828a6e5931ed8a12e6f19bb001379339c
size 6121845
