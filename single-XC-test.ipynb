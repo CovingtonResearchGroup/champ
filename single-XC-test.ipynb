version https://git-lfs.github.com/spec/v1
oid sha256:3d0ba1b87322d292187399ce401f02aa680b3a060c6d61ff34ec615a465ea15e
size 1722201
