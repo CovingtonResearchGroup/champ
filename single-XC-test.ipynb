version https://git-lfs.github.com/spec/v1
oid sha256:3aee99b56a85d81ef1fce762c8539c2dc1d53cd761c8eb652309df0fa0ec14d9
size 27671
