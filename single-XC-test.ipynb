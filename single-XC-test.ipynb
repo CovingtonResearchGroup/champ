version https://git-lfs.github.com/spec/v1
oid sha256:203ee31429c9918e4e57d8168915e1c07f1938a24b1af671acddf58e3f143932
size 6121022
