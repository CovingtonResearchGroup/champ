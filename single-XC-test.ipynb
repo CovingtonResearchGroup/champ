version https://git-lfs.github.com/spec/v1
oid sha256:a8921d035a8d543cf20c85fd1d553ae4676ea7a7852045b8e5c0d96bf4673465
size 9447
