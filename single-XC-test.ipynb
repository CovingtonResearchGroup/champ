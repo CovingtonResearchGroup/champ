version https://git-lfs.github.com/spec/v1
oid sha256:8897681bbf3b1084c27d153e03294add696cf25554aad4fd01fd52ae99e7d001
size 5390088
