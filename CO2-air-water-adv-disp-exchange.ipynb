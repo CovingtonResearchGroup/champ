version https://git-lfs.github.com/spec/v1
oid sha256:30d03cc3a1666b2915a7ee6c7ecee9087d677f71209a2c2240fa1c7dff854a57
size 339395
