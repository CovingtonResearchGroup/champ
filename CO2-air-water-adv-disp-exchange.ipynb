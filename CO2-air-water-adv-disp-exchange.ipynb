{
 "cells": [
  {
   "cell_type": "code",
   "execution_count": 1,
   "metadata": {},
   "outputs": [
    {
     "name": "stdout",
     "output_type": "stream",
     "text": [
      "Populating the interactive namespace from numpy and matplotlib\n"
     ]
    }
   ],
   "source": [
    "%pylab inline"
   ]
  },
  {
   "cell_type": "code",
   "execution_count": 16,
   "metadata": {},
   "outputs": [],
   "source": [
    "#Crank-Nicolson solution zero diffusion across downstream boundary \n",
    "#with Crank-Nicolson reaction term that couples concentrations.\n",
    "#Concentrations are solved by creating a single column matrix \n",
    "#that contains both C1 and C2.\n",
    "from scipy.sparse import dia_matrix\n",
    "from scipy.sparse.linalg import spsolve\n",
    "#define parameters\n",
    "ntimes = 1000\n",
    "endtime = 2.0\n",
    "dt = endtime/(ntimes-1)\n",
    "nx = 1000\n",
    "L=3000.\n",
    "D_w = 30.\n",
    "D_a = 30.\n",
    "V_a = 1.\n",
    "V_w = 0.1\n",
    "T = V_w/V_a\n",
    "Pe_a = L*V_a/D_a\n",
    "Pe_w = L*V_w/D_w\n",
    "xmax = 1.\n",
    "Lambda_w = 0.5\n",
    "Lambda_a = Lambda_w*T\n",
    "\n",
    "#k=0.2\n",
    "dx = xmax/(nx-1.)\n",
    "#Construct A matrix. Start by creating diagonals of upper left block, which are similar to before \n",
    "A_upper_air = dt*(1./(4.*dx) - 1./(2.*Pe_a*dx**2.))*ones(nx-1) \n",
    "A_lower_air = dt*(-1./(4.*dx) - 1./(2.*Pe_a*dx**2.))*ones(nx-1)\n",
    "A_mid_air = (T+dt/(Pe_a*dx**2.))*ones(nx-1) + dt*Lambda_a/2.#The middle diagonal gets an added reaction term now\n",
    "A_upper_water = dt*(1./(4.*dx) - 1./(2.*Pe_w*dx**2.))*ones(nx-1) \n",
    "A_lower_water = dt*(-1./(4.*dx) - 1./(2.*Pe_w*dx**2.))*ones(nx-1)\n",
    "A_mid_water = (1.+dt/(Pe_w*dx**2.))*ones(nx-1) + dt*Lambda_w/2.#The middle diagonal gets an added reaction term now\n",
    "\n",
    "#Knock out elemnts of upper and lower rows for sparse storage\n",
    "A_upper_air[0] = 0.\n",
    "A_lower_air[-1] = 0.\n",
    "A_upper_water[0] = 0.\n",
    "A_lower_water[-1] = 0.\n",
    "\n",
    "#Modify lower row for boundary condition\n",
    "A_lower_air[-2] = -dt/(2.*dx)\n",
    "A_mid_air[-1] = T + dt/(2*dx) + dt*Lambda_a/2.#Again, there is an additional term in the bnd. cond. related to reaction\n",
    "A_lower_water[-2] = -dt/(2.*dx)\n",
    "A_mid_water[-1] = 1. + dt/(2*dx) + dt*Lambda_w/2.#Again, there is an additional term in the bnd. cond. related to reaction\n",
    "\n",
    "#Now create full diagonals by appending upper left block diagonals to themselves\n",
    "A_upper = append(A_upper_air,A_upper_water)\n",
    "A_lower = append(A_lower_air,A_lower_water)\n",
    "A_mid = append(A_mid_air,A_mid_water)\n",
    "#Create upper left and lower right blocks, which only have diagonal non-zero elements\n",
    "A_up_block_diag = zeros(2*(nx-1))#Diagonal in sparse form is mostly zeros\n",
    "A_up_block_diag[nx:] = -dt*Lambda_a/2.#Set non-zero elements in 2nd half of array\n",
    "A_low_block_diag = zeros(2*(nx-1))\n",
    "A_low_block_diag[:nx] = -dt*Lambda_w/2.#Set non-zero elements in 1st half of array\n",
    "#Create stacked rows version of A\n",
    "A_tmp = vstack((A_up_block_diag,A_upper, A_mid, A_lower,A_low_block_diag))\n",
    "#Construct sparse array\n",
    "offsets = [nx,1,0,-1,-nx]#These indicate the numbers of the non-zero diagonals corresponding to the rows in A_tmp\n",
    "#Create sparse matrix using dia_matrix:\n",
    "#  You have to provide the non-zero diagonals and their offsets in a tuple as the first argument.\n",
    "#  You can also specify the total size of the matrix with the shape keyword\n",
    "A = dia_matrix((A_tmp,offsets), shape=(2*(nx-1),2*(nx-1)))\n",
    "A.tocsr()\n",
    "#Create concentrations array for both species\n",
    "C = zeros([ntimes,2*nx])\n",
    "#Set initial condition\n",
    "C[0,:]=0.\n",
    "#set upstream concentrations\n",
    "C_a_upstream = 0.\n",
    "C_w_upstream = 0.5\n",
    "C[:nx,0] = C_a_upstream\n",
    "C[nx:,0] = C_w_upstream\n",
    "#Create both halves of b matrix, they are treated separately below for clarity\n",
    "bC_a = zeros(nx-1)\n",
    "bC_w = zeros(nx-1)\n",
    "for n in arange(ntimes-1):\n",
    "    #Set C1 and C2 to concentrations of two species at nth timestep\n",
    "    C_a = C[n,:nx]\n",
    "    C_w = C[n,nx:]\n",
    "    #Calculate the components of b for the top half\n",
    "    bC_a[0:-1] = C_a[1:-1]*(T-dt/(Pe_a*dx**2.)) + C_a[0:-2]*(dt/(4.*dx) + dt/(2.*Pe_a*dx**2.)) \\\n",
    "                        + C_a[2:]*(-dt/(4.*dx) + dt/(2.*Pe_a*dx**2.))\\\n",
    "                        - dt*Lambda_a*(C_a[1:-1] - C_w[1:-1])/2. #This row contains reaction term\n",
    "    bC_a[0] += dt*(1./(4.*dx) + 1./(2.*Pe_a*dx**2.))*C_a_upstream\n",
    "    bC_a[-1] = (T-dt/(2.*dx))*C_a[-1] + (dt/(2*dx))*C_a[-2] - dt*Lambda_a*(C_a[-1] - C_w[-1])/2.#Boundary gets additional reaction term\n",
    "    bC_w[0:-1] = C_w[1:-1]*(1.-dt/(Pe_w*dx**2.)) + C_w[0:-2]*(dt/(4.*dx) + dt/(2.*Pe_w*dx**2.))\\\n",
    "                        + C_w[2:]*(-dt/(4.*dx) + dt/(2.*Pe_w*dx**2.))\\\n",
    "                        + dt*Lambda_w*(C_a[1:-1] - C_w[1:-1])/2. #This row contains reaction term\n",
    "    bC_w[0] += dt*(1./(4.*dx) + 1./(2.*Pe_w*dx**2.))*C_w_upstream\n",
    "    bC_w[-1] = (1.-dt/(2.*dx))*C_w[-1] + (dt/(2*dx))*C_w[-2] + dt*Lambda_w*(C_a[-1] - C_w[-1]) /2.#Boundary gets additional reaction term\n",
    "    #Put together upper and lower halves of b\n",
    "    b = append(bC_a,bC_w)\n",
    "    #Use sparse linear solver\n",
    "    Ctmp = spsolve(A, b)\n",
    "    #Assign values from solver into C array avoiding upstream boundary locations (first row of each half of C)\n",
    "    C[n+1,1:nx] = Ctmp[:nx-1]\n",
    "    C[n+1,nx+1:] = Ctmp[nx-1:]\n",
    "    "
   ]
  },
  {
   "cell_type": "code",
   "execution_count": 15,
   "metadata": {},
   "outputs": [
    {
     "data": {
      "text/plain": [
       "Text(0, 0.5, 'Concentration')"
      ]
     },
     "execution_count": 15,
     "metadata": {},
     "output_type": "execute_result"
    },
    {
     "data": {
      "image/png": "[encoded data removed]",
      "text/plain": [
       "<Figure size 432x288 with 1 Axes>"
      ]
     },
     "metadata": {
      "needs_background": "light"
     },
     "output_type": "display_data"
    }
   ],
   "source": [
    "x = linspace(0,1,nx)\n",
    "plot(x,C[950,:nx])\n",
    "plot(x,C[950,nx:])\n",
    "legend(['air','water'])\n",
    "#Can compare against previous solution for D\n",
    "#plot(x,D[200,:],'--')\n",
    "\n",
    "xlabel('Distance downstream (dimensionless)')\n",
    "ylabel('Concentration')"
   ]
  },
  {
   "cell_type": "code",
   "execution_count": 93,
   "metadata": {},
   "outputs": [],
   "source": [
    "#Crank-Nicolson solution zero diffusion across downstream boundary \n",
    "#with explicit reaction term that couples concentrations\n",
    "from scipy.linalg import solve_banded\n",
    "from olm.calcite import concCaEqFromPCO2, createPalmerInterpolationFunctions\n",
    "#define parameters for run\n",
    "ntimes = 1000\n",
    "endtime = 2.0\n",
    "dt = endtime/(ntimes-1)\n",
    "nx = 1000\n",
    "L=1000.\n",
    "D_w = 30.\n",
    "D_a = 30.\n",
    "Q_a = -1.#m^3/s\n",
    "Q_w = 0.1#m^3/s\n",
    "\n",
    "pCO2_0 = 5000.*1e-6 #5000 ppm converted to atm\n",
    "pCO2_outside = 500.*1e-6\n",
    "T_C=10.\n",
    "Ca_eq_0 = concCaEqFromPCO2(pCO2_0, T_C=T_C)\n",
    "palmer_interp_funcs = createPalmerInterpolationFunctions(impure=True)\n",
    "\n",
    "D_H_w = ones(nx-1)\n",
    "D_H_a = ones(nx-1)\n",
    "\n",
    "P_w = D_H_w*np.pi/2.#assumes semi-circular xc\n",
    "P_a = D_H_a*np.pi/2.\n",
    "\n",
    "V_w = Q_w/(D_H_w/P_w/4.)#-1\n",
    "V_a = Q_a/(D_H_a/P_a/4.)#0.1\n",
    "\n",
    "T = V_w.mean()/np.abs(V_a.mean())\n",
    "Pe_a = L*np.abs(V_a)/D_a\n",
    "Pe_w = L*V_w/D_w\n",
    "xmax = 1.\n",
    "Lambda_w = 0.5\n",
    "Lambda_a = Lambda_w*T\n",
    "xmax = 1.\n",
    "dx = xmax/(nx-1.)\n",
    "#Construct A matrix\n",
    "A_upper_air = dt*(np.sign(V_a)*1./(4.*dx) - 1./(2.*Pe_a*dx**2.))*ones(nx-1) \n",
    "A_lower_air = dt*(-np.sign(V_a)*1./(4.*dx) - 1./(2.*Pe_a*dx**2.))*ones(nx-1)\n",
    "A_mid_air = (T+dt/(Pe_a*dx**2.))*ones(nx-1) \n",
    "A_upper_water = dt*(1./(4.*dx) - 1./(2.*Pe_w*dx**2.))*ones(nx-1) \n",
    "A_lower_water = dt*(-1./(4.*dx) - 1./(2.*Pe_w*dx**2.))*ones(nx-1)\n",
    "A_mid_water = (1.+dt/(Pe_w*dx**2.))*ones(nx-1)\n",
    "\n",
    "#A_upper = dt*(1./(4.*dx) - 1./(2.*Pe*dx**2.))*ones(nx-1)\n",
    "#A_lower = dt*(-1./(4.*dx) - 1./(2.*Pe*dx**2.))*ones(nx-1)\n",
    "#A_mid = (1.+dt/(Pe*dx**2.))*ones(nx-1)\n",
    "A_upper_air[0] = 0.\n",
    "A_lower_air[-1] = 0.\n",
    "if V_a[0]>0:\n",
    "    A_lower_air[-2] = -dt/(2.*dx)\n",
    "    A_mid_air[-1] = T + dt/(2*dx)\n",
    "else:\n",
    "    A_upper_air[1] = -dt/(2.*dx)\n",
    "    A_mid_air[0] = T + dt/(2*dx)\n",
    "    \n",
    "A_upper_water[0] = 0.\n",
    "A_lower_water[-1] = 0.\n",
    "A_lower_water[-2] = -dt/(2.*dx)\n",
    "A_mid_water[-1] = 1. + dt/(2*dx)\n",
    "\n",
    "A_air = vstack((A_upper_air, A_mid_air, A_lower_air))\n",
    "A_water = vstack((A_upper_water, A_mid_water, A_lower_water))\n",
    "\n",
    "#Create two concentration arrays for two species\n",
    "C_a = zeros([ntimes,nx])\n",
    "C_w = zeros([ntimes,nx])\n",
    "#Set initial conditions for both species\n",
    "C_a[0,:]=0.\n",
    "C_w[0,:]=0.\n",
    "#Set upstream boundary concentrations\n",
    "C_a_upstream = 0.\n",
    "C_w_upstream = 1.\n",
    "if V_a[0]>0:\n",
    "    C_a[:,0] = C_a_upstream\n",
    "else:\n",
    "    C_a[:,-1] = C_a_upstream\n",
    "\n",
    "C_w[:,0] = C_w_upstream\n",
    "#Create b arrays for each concentration variable\n",
    "bC_a = zeros(nx-1)\n",
    "bC_w = zeros(nx-1)\n",
    "for n in arange(ntimes-1):\n",
    "    #Calculate b matrix for C\n",
    "    if V_a[0]>0:\n",
    "        bC_a[0:-1] = C_a[n,1:-1]*(T-dt/(Pe_a[0:-1]*dx**2.)) + C_a[n,0:-2]*(np.sign(V_a[0:-1])*dt/(4.*dx) + dt/(2.*Pe_a[0:-1]*dx**2.)) \\\n",
    "                        + C_a[n,2:]*(-np.sign(V_a[0:-1])*dt/(4.*dx) + dt/(2.*Pe_a[0:-1]*dx**2.))\\\n",
    "                        - dt*Lambda_a*(C_a[n,1:-1] - C_w[n,1:-1]) #Last line here is added to previous C-N solution to include reaction\n",
    "        bC_a[0] += dt*(1./(4.*dx) + 1./(2.*Pe_a[0]*dx**2.))*C_a_upstream\n",
    "        bC_a[-1] = (T-dt/(2.*dx))*C_a[n,-1] + (dt/(2*dx))*C_a[n,-2] - dt*Lambda_a*(C_a[n,-1] - C_w[n,-1])#last term gets added to boundary cond.\n",
    "    else:\n",
    "        bC_a[1:] = C_a[n,1:-1]*(T-dt/(Pe_a[1:]*dx**2.)) + C_a[n,0:-2]*(np.sign(V_a[1:])*dt/(4.*dx) + dt/(2.*Pe_a[1:]*dx**2.)) \\\n",
    "                        + C_a[n,2:]*(-np.sign(V_a[1:])*dt/(4.*dx) + dt/(2.*Pe_a[1:]*dx**2.))\\\n",
    "                        - dt*Lambda_a*(C_a[n,1:-1] - C_w[n,1:-1]) #Last line here is added to previous C-N solution to include reaction\n",
    "        bC_a[-1] += dt*(1./(4.*dx) + 1./(2.*Pe_a[-1]*dx**2.))*C_a_upstream\n",
    "        bC_a[0] = (T-dt/(2.*dx))*C_a[n,0] + (dt/(2*dx))*C_a[n,1] - dt*Lambda_a*(C_a[n,0] - C_w[n,0])#last term gets added to boundary cond.\n",
    "    #Calculate b matrix for C_w\n",
    "    bC_w[0:-1] = C_w[n,1:-1]*(1.-dt/(Pe_w[0:-1]*dx**2.)) + C_w[n,0:-2]*(dt/(4.*dx) + dt/(2.*Pe_w[0:-1]*dx**2.))\\\n",
    "                        + C_w[n,2:]*(-dt/(4.*dx) + dt/(2.*Pe_w[0:-1]*dx**2.))\\\n",
    "                        + dt*Lambda_w*(C_a[n,1:-1] - C_w[n,1:-1])#Last line here is added to previous C-N solution to include reaction\n",
    "    bC_w[0] += dt*(1./(4.*dx) + 1./(2.*Pe_w[0]*dx**2.))*C_w_upstream\n",
    "    bC_w[-1] = (1.-dt/(2.*dx))*C_w[n,-1] + (dt/(2*dx))*C_w[n,-2] + dt*Lambda_w*(C_a[n,-1] - C_w[n,-1])#last term gets added to boundary cond.  \n",
    "    if V_a[0]>0:\n",
    "        C_a[n+1,1:] = solve_banded((1,1), A_air, bC_a)\n",
    "    else:\n",
    "        C_a[n+1,:-1] = solve_banded((1,1), A_air, bC_a)\n",
    "   \n",
    "    C_w[n+1,1:] = solve_banded((1,1), A_water, bC_w)\n",
    "    "
   ]
  },
  {
   "cell_type": "code",
   "execution_count": 94,
   "metadata": {},
   "outputs": [
    {
     "data": {
      "text/plain": [
       "(998,)"
      ]
     },
     "execution_count": 94,
     "metadata": {},
     "output_type": "execute_result"
    }
   ],
   "source": [
    "bC_a[0:-1].shape"
   ]
  },
  {
   "cell_type": "code",
   "execution_count": 95,
   "metadata": {},
   "outputs": [
    {
     "data": {
      "image/png": "[encoded data removed]",
      "text/plain": [
       "<Figure size 432x288 with 1 Axes>"
      ]
     },
     "metadata": {
      "needs_background": "light"
     },
     "output_type": "display_data"
    }
   ],
   "source": [
    "x = linspace(0,1,nx)\n",
    "plot(x,C_a[960,:])\n",
    "plot(x,C_w[960,:])\n",
    "#plot(x,C_a[160,:])\n",
    "#plot(x,C_w[160,:])\n",
    "#plot(x,C_a[260,:])\n",
    "#plot(x,C_w[260,:])\n",
    "#plot(x,C_a[360,:])\n",
    "#plot(x,C_w[360,:])\n",
    "\n",
    "legend(['air','water'])\n",
    "#Can compare against previous solution for D\n",
    "#plot(x,D[200,:],'--')\n",
    "\n",
    "xlabel('Distance downstream (dimensionless)')\n",
    "ylabel('Concentration');"
   ]
  },
  {
   "cell_type": "code",
   "execution_count": 24,
   "metadata": {},
   "outputs": [
    {
     "data": {
      "text/plain": [
       "1"
      ]
     },
     "execution_count": 24,
     "metadata": {},
     "output_type": "execute_result"
    }
   ],
   "source": []
  },
  {
   "cell_type": "code",
   "execution_count": null,
   "metadata": {},
   "outputs": [],
   "source": []
  }
 ],
 "metadata": {
  "kernelspec": {
   "display_name": "Python 3",
   "language": "python",
   "name": "python3"
  },
  "language_info": {
   "codemirror_mode": {
    "name": "ipython",
    "version": 3
   },
   "file_extension": ".py",
   "mimetype": "text/x-python",
   "name": "python",
   "nbconvert_exporter": "python",
   "pygments_lexer": "ipython3",
   "version": "3.7.5"
  }
 },
 "nbformat": 4,
 "nbformat_minor": 2
}
