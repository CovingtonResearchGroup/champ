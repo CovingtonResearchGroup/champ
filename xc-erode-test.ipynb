version https://git-lfs.github.com/spec/v1
oid sha256:964263624a6e78bd036177d1c4c06848d9af2f2af94795150d65020d4080b2e3
size 40580
