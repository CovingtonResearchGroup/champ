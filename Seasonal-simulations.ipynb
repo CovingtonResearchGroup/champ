version https://git-lfs.github.com/spec/v1
oid sha256:2e0655604fd21ea214bcdc99b79e8c60b33aea4a73e5666a5eb071962624810b
size 325952
