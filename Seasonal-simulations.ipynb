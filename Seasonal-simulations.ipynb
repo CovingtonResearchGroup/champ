version https://git-lfs.github.com/spec/v1
oid sha256:e8b328f409b9db28f2c75c75c30a62fa5e5c5312ce9364f5e7ce7ed09eb194c1
size 290642
