version https://git-lfs.github.com/spec/v1
oid sha256:31c830fae94864bfa3232513c9a287298bfae46308d0e7d91aa3eaa02bcc3e52
size 27714
