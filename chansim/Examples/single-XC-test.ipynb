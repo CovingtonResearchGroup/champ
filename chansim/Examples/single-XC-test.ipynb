version https://git-lfs.github.com/spec/v1
oid sha256:e16593a8a48accfb59bbfd5b4dd4ba5104a2a8ac9a4d31cfb1df1567a3efadb3
size 609758
