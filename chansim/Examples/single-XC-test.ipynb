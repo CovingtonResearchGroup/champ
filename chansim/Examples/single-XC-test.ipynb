version https://git-lfs.github.com/spec/v1
oid sha256:8d9d112c66355e7608f7a415ee92344acebb4711d8125e1e4f01521083ee10a5
size 659648
