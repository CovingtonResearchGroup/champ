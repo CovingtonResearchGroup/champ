version https://git-lfs.github.com/spec/v1
oid sha256:67b08bfcd82dd86404ec5afaff94299cd52196f32322c53c248ded6402142dad
size 102981
