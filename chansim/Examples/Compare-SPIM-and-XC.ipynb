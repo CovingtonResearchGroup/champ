version https://git-lfs.github.com/spec/v1
oid sha256:9d2ca7ba91299c18179a1accda448ba6ddb16f30f46ca2f506c47abc348927c6
size 1234763
