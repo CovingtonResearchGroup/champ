version https://git-lfs.github.com/spec/v1
oid sha256:95b29f84118bdae8c44733964f3a4a20eb7b908dd5fe97004287aca9fb061752
size 72920
