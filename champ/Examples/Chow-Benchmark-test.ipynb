{
 "cells": [
  {
   "cell_type": "code",
   "execution_count": 1,
   "metadata": {},
   "outputs": [
    {
     "name": "stdout",
     "output_type": "stream",
     "text": [
      "%pylab is deprecated, use %matplotlib inline and import the required libraries.\n",
      "Populating the interactive namespace from numpy and matplotlib\n"
     ]
    }
   ],
   "source": [
    "%pylab inline\n",
    "from champ.sim import multiXCGVF, multiXC"
   ]
  },
  {
   "cell_type": "code",
   "execution_count": 35,
   "metadata": {},
   "outputs": [
    {
     "name": "stdout",
     "output_type": "stream",
     "text": [
      "Falling back on minimization solver.\n",
      "Falling back on minimization solver.\n",
      "Falling back on minimization solver.\n",
      "Falling back on minimization solver.\n",
      "Falling back on minimization solver.\n",
      "Falling back on minimization solver.\n",
      "Falling back on minimization solver.\n",
      "Falling back on minimization solver.\n",
      "Falling back on minimization solver.\n",
      "Falling back on minimization solver.\n",
      "Falling back on minimization solver.\n",
      "Falling back on minimization solver.\n",
      "Falling back on minimization solver.\n",
      "Falling back on minimization solver.\n",
      "Falling back on minimization solver.\n",
      "Falling back on minimization solver.\n",
      "Falling back on minimization solver.\n",
      "Falling back on minimization solver.\n",
      "Falling back on minimization solver.\n",
      "Falling back on minimization solver.\n",
      "Falling back on minimization solver.\n",
      "Falling back on minimization solver.\n",
      "Falling back on minimization solver.\n",
      "Falling back on minimization solver.\n",
      "Falling back on minimization solver.\n",
      "Falling back on minimization solver.\n",
      "Falling back on minimization solver.\n",
      "Falling back on minimization solver.\n",
      "Falling back on minimization solver.\n",
      "Falling back on minimization solver.\n",
      "Falling back on minimization solver.\n",
      "Falling back on minimization solver.\n",
      "Falling back on minimization solver.\n",
      "Falling back on minimization solver.\n",
      "Falling back on minimization solver.\n",
      "Falling back on minimization solver.\n",
      "Falling back on minimization solver.\n",
      "Falling back on minimization solver.\n",
      "Falling back on minimization solver.\n",
      "Falling back on minimization solver.\n",
      "Falling back on minimization solver.\n",
      "Falling back on minimization solver.\n",
      "Falling back on minimization solver.\n",
      "Falling back on minimization solver.\n",
      "Falling back on minimization solver.\n",
      "Falling back on minimization solver.\n",
      "Falling back on minimization solver.\n",
      "Falling back on minimization solver.\n",
      "Falling back on minimization solver.\n",
      "Falling back on minimization solver.\n",
      "Falling back on minimization solver.\n",
      "Falling back on minimization solver.\n",
      "Falling back on minimization solver.\n",
      "Falling back on minimization solver.\n",
      "Falling back on minimization solver.\n",
      "Falling back on minimization solver.\n",
      "Falling back on minimization solver.\n",
      "Falling back on minimization solver.\n",
      "Falling back on minimization solver.\n",
      "Falling back on minimization solver.\n",
      "Falling back on minimization solver.\n",
      "Falling back on minimization solver.\n",
      "Falling back on minimization solver.\n",
      "Falling back on minimization solver.\n",
      "Falling back on minimization solver.\n",
      "Falling back on minimization solver.\n",
      "Falling back on minimization solver.\n",
      "Falling back on minimization solver.\n",
      "Falling back on minimization solver.\n",
      "Falling back on minimization solver.\n",
      "Falling back on minimization solver.\n",
      "Falling back on minimization solver.\n",
      "Falling back on minimization solver.\n",
      "Falling back on minimization solver.\n",
      "Falling back on minimization solver.\n",
      "Falling back on minimization solver.\n",
      "Falling back on minimization solver.\n",
      "Falling back on minimization solver.\n",
      "Falling back on minimization solver.\n",
      "Falling back on minimization solver.\n",
      "Falling back on minimization solver.\n",
      "Falling back on minimization solver.\n",
      "Falling back on minimization solver.\n",
      "Falling back on minimization solver.\n",
      "Falling back on minimization solver.\n",
      "Falling back on minimization solver.\n",
      "Falling back on minimization solver.\n",
      "Falling back on minimization solver.\n",
      "Falling back on minimization solver.\n",
      "Falling back on minimization solver.\n",
      "Falling back on minimization solver.\n",
      "Falling back on minimization solver.\n",
      "Falling back on minimization solver.\n",
      "Falling back on minimization solver.\n",
      "Falling back on minimization solver.\n",
      "Falling back on minimization solver.\n",
      "Falling back on minimization solver.\n",
      "Falling back on minimization solver.\n"
     ]
    }
   ],
   "source": [
    "ft_per_m = 3.28\n",
    "bottom_width = 20./ft_per_m\n",
    "height = 6./ft_per_m\n",
    "Q_cfs = 400.\n",
    "cumecs_per_cfs = 0.0283\n",
    "Q = Q_cfs * cumecs_per_cfs\n",
    "Manning_n = 0.025\n",
    "g = 9.8 * ft_per_m\n",
    "R_h_approx = 2.7 # feet\n",
    "K = 1.5\n",
    "f = 8*g*Manning_n**2/K**2/R_h_approx**(1/3)\n",
    "L = 2500/ft_per_m\n",
    "\n",
    "shape_dict = {'name': 'trapezoid', 'bottom_width':bottom_width, 'side_slope':2, 'height':height}\n",
    "x = linspace(0,L, 100)\n",
    "bed_slope = 0.0016\n",
    "z = bed_slope * x\n",
    "sim = multiXCGVF(x, z, shape_dict=shape_dict, n_mann=Manning_n, Q_w=Q)\n",
    "sim.calc_flow(h0=5/ft_per_m)"
   ]
  },
  {
   "cell_type": "code",
   "execution_count": 36,
   "metadata": {},
   "outputs": [
    {
     "data": {
      "text/plain": [
       "[<matplotlib.lines.Line2D at 0x7f4918860ee0>]"
      ]
     },
     "execution_count": 36,
     "metadata": {},
     "output_type": "execute_result"
    },
    {
     "data": {
      "image/png": "[encoded data removed]",
      "text/plain": [
       "<Figure size 432x288 with 1 Axes>"
      ]
     },
     "metadata": {
      "needs_background": "light"
     },
     "output_type": "display_data"
    }
   ],
   "source": [
    "plot(sim.x_arr*ft_per_m, sim.fd*ft_per_m)\n",
    "x_chow = array([155,318,493,684,898,1155,1314,1515,1641,1797,1917,2075,2214,2401])\n",
    "fd_chow = array([4.8, 4.6, 4.4, 4.2, 4, 3.8, 3.7, 3.6, 3.55, 3.5, 3.47, 3.44, 3.42, 3.4])\n",
    "plot(x_chow, fd_chow, 'o')\n"
   ]
  },
  {
   "cell_type": "code",
   "execution_count": 37,
   "metadata": {},
   "outputs": [],
   "source": [
    "from scipy.interpolate import interp1d\n",
    "f = interp1d(sim.x_arr*ft_per_m, sim.fd*ft_per_m)"
   ]
  },
  {
   "cell_type": "code",
   "execution_count": 38,
   "metadata": {},
   "outputs": [
    {
     "data": {
      "text/plain": [
       "[<matplotlib.lines.Line2D at 0x7f49188e23d0>]"
      ]
     },
     "execution_count": 38,
     "metadata": {},
     "output_type": "execute_result"
    },
    {
     "data": {
      "image/png": "[encoded data removed]",
      "text/plain": [
       "<Figure size 432x288 with 1 Axes>"
      ]
     },
     "metadata": {
      "needs_background": "light"
     },
     "output_type": "display_data"
    }
   ],
   "source": [
    "fd_mod = f(x_chow)\n",
    "\n",
    "rel_err = (fd_mod - fd_chow)/fd_mod\n",
    "plot(x_chow, rel_err)"
   ]
  },
  {
   "cell_type": "code",
   "execution_count": 14,
   "metadata": {},
   "outputs": [
    {
     "data": {
      "text/plain": [
       "[0.04779768656073045,\n",
       " 0.04779768656073045,\n",
       " 0.047854523090260614,\n",
       " 0.047854523090260614,\n",
       " 0.047854523090260614,\n",
       " 0.047854523090260614,\n",
       " 0.04791168901208248,\n",
       " 0.04791168901208248,\n",
       " 0.04791168901208248,\n",
       " 0.04796918784839909,\n",
       " 0.04796918784839909,\n",
       " 0.04796918784839909,\n",
       " 0.04796918784839909,\n",
       " 0.0480270231755507,\n",
       " 0.0480270231755507,\n",
       " 0.0480270231755507,\n",
       " 0.048085198625093806,\n",
       " 0.048085198625093806,\n",
       " 0.048085198625093806,\n",
       " 0.04814371788490634,\n",
       " 0.04814371788490634,\n",
       " 0.04814371788490634,\n",
       " 0.04814371788490634,\n",
       " 0.04820258470032029,\n",
       " 0.04820258470032029,\n",
       " 0.04820258470032029,\n",
       " 0.048261802875282124,\n",
       " 0.048261802875282124,\n",
       " 0.048261802875282124,\n",
       " 0.048261802875282124,\n",
       " 0.04832137627354215,\n",
       " 0.04832137627354215,\n",
       " 0.04832137627354215,\n",
       " 0.04838130881987336,\n",
       " 0.04838130881987336,\n",
       " 0.04838130881987336,\n",
       " 0.04838130881987336,\n",
       " 0.0484416045013209,\n",
       " 0.0484416045013209,\n",
       " 0.0484416045013209,\n",
       " 0.04850226736848299,\n",
       " 0.04850226736848299,\n",
       " 0.04850226736848299,\n",
       " 0.04850226736848299,\n",
       " 0.04856330153682414,\n",
       " 0.04856330153682414,\n",
       " 0.04856330153682414,\n",
       " 0.04856330153682414,\n",
       " 0.048624711188021676,\n",
       " 0.048624711188021676,\n",
       " 0.048624711188021676,\n",
       " 0.0486865005713468,\n",
       " 0.0486865005713468,\n",
       " 0.0486865005713468,\n",
       " 0.0486865005713468,\n",
       " 0.048748674005080754,\n",
       " 0.048748674005080754,\n",
       " 0.048748674005080754,\n",
       " 0.048811235877967686,\n",
       " 0.048811235877967686,\n",
       " 0.048811235877967686,\n",
       " 0.048811235877967686,\n",
       " 0.04887419065070499,\n",
       " 0.04887419065070499,\n",
       " 0.04887419065070499,\n",
       " 0.04887419065070499,\n",
       " 0.048937542857472344,\n",
       " 0.048937542857472344,\n",
       " 0.048937542857472344,\n",
       " 0.049001297107500785,\n",
       " 0.049001297107500785,\n",
       " 0.049001297107500785,\n",
       " 0.049001297107500785,\n",
       " 0.0490654580866828,\n",
       " 0.0490654580866828,\n",
       " 0.0490654580866828,\n",
       " 0.0490654580866828,\n",
       " 0.049130030559225046,\n",
       " 0.049130030559225046,\n",
       " 0.049130030559225046,\n",
       " 0.049130030559225046,\n",
       " 0.049195019369344714,\n",
       " 0.049195019369344714,\n",
       " 0.049195019369344714,\n",
       " 0.049195019369344714,\n",
       " 0.04926042944301109,\n",
       " 0.04926042944301109,\n",
       " 0.04926042944301109,\n",
       " 0.04932626578973369,\n",
       " 0.04932626578973369,\n",
       " 0.04932626578973369,\n",
       " 0.04932626578973369,\n",
       " 0.04939253350439853,\n",
       " 0.04939253350439853,\n",
       " 0.04939253350439853,\n",
       " 0.04939253350439853,\n",
       " 0.04945923776915391,\n",
       " 0.04945923776915391,\n",
       " 0.04945923776915391,\n",
       " 0.04945923776915391,\n",
       " 0.04952638385534741,\n",
       " 0.04952638385534741,\n",
       " 0.04952638385534741,\n",
       " 0.04952638385534741,\n",
       " 0.04959397712551583,\n",
       " 0.04959397712551583,\n",
       " 0.04959397712551583,\n",
       " 0.04959397712551583,\n",
       " 0.049662023035429555,\n",
       " 0.049662023035429555,\n",
       " 0.049662023035429555,\n",
       " 0.049662023035429555,\n",
       " 0.04973052713619329,\n",
       " 0.04973052713619329,\n",
       " 0.04973052713619329,\n",
       " 0.04973052713619329,\n",
       " 0.04979949507640513,\n",
       " 0.04979949507640513,\n",
       " 0.04979949507640513,\n",
       " 0.04979949507640513,\n",
       " 0.04986893260437549,\n",
       " 0.04986893260437549,\n",
       " 0.04986893260437549,\n",
       " 0.04986893260437549,\n",
       " 0.049938845570408286,\n",
       " 0.049938845570408286,\n",
       " 0.049938845570408286,\n",
       " 0.049938845570408286,\n",
       " 0.049938845570408286,\n",
       " 0.050009239929146264,\n",
       " 0.050009239929146264,\n",
       " 0.050009239929146264,\n",
       " 0.050009239929146264,\n",
       " 0.05008012174198254,\n",
       " 0.05008012174198254,\n",
       " 0.05008012174198254,\n",
       " 0.05008012174198254,\n",
       " 0.05015149717954078,\n",
       " 0.05015149717954078,\n",
       " 0.05015149717954078,\n",
       " 0.05015149717954078,\n",
       " 0.05015149717954078,\n",
       " 0.050223372524226095,\n",
       " 0.050223372524226095,\n",
       " 0.050223372524226095,\n",
       " 0.050223372524226095,\n",
       " 0.05029575417284937,\n",
       " 0.05029575417284937,\n",
       " 0.05029575417284937,\n",
       " 0.05029575417284937,\n",
       " 0.05029575417284937,\n",
       " 0.05036864863932711,\n",
       " 0.05036864863932711,\n",
       " 0.05036864863932711,\n",
       " 0.05036864863932711,\n",
       " 0.05036864863932711,\n",
       " 0.05044206255745983,\n",
       " 0.05044206255745983,\n",
       " 0.05044206255745983,\n",
       " 0.05044206255745983,\n",
       " 0.05051600268379145,\n",
       " 0.05051600268379145,\n",
       " 0.05051600268379145,\n",
       " 0.05051600268379145,\n",
       " 0.05051600268379145,\n",
       " 0.050590475900552496,\n",
       " 0.050590475900552496,\n",
       " 0.050590475900552496,\n",
       " 0.050590475900552496,\n",
       " 0.050590475900552496,\n",
       " 0.05066548921869016,\n",
       " 0.05066548921869016,\n",
       " 0.05066548921869016,\n",
       " 0.05066548921869016,\n",
       " 0.05066548921869016,\n",
       " 0.050741049780988166,\n",
       " 0.050741049780988166,\n",
       " 0.050741049780988166,\n",
       " 0.050741049780988166,\n",
       " 0.050741049780988166,\n",
       " 0.05081716486527969,\n",
       " 0.05081716486527969,\n",
       " 0.05081716486527969,\n",
       " 0.05081716486527969,\n",
       " 0.05081716486527969,\n",
       " 0.05089384188775649,\n",
       " 0.05089384188775649,\n",
       " 0.05089384188775649,\n",
       " 0.05089384188775649,\n",
       " 0.05089384188775649,\n",
       " 0.050971088406377874,\n",
       " 0.050971088406377874,\n",
       " 0.050971088406377874,\n",
       " 0.050971088406377874,\n",
       " 0.050971088406377874,\n",
       " 0.050971088406377874,\n",
       " 0.05104891212438297,\n",
       " 0.05104891212438297,\n",
       " 0.05104891212438297,\n",
       " 0.05104891212438297,\n",
       " 0.05104891212438297,\n",
       " 0.05112732089390997,\n",
       " 0.05112732089390997,\n",
       " 0.05112732089390997,\n",
       " 0.05112732089390997,\n",
       " 0.05112732089390997,\n",
       " 0.05112732089390997,\n",
       " 0.05120632271972632,\n",
       " 0.05120632271972632,\n",
       " 0.05120632271972632,\n",
       " 0.05120632271972632,\n",
       " 0.05120632271972632,\n",
       " 0.05128592576307392,\n",
       " 0.05128592576307392,\n",
       " 0.05128592576307392,\n",
       " 0.05128592576307392,\n",
       " 0.05128592576307392,\n",
       " 0.05128592576307392,\n",
       " 0.05136613834563353,\n",
       " 0.05136613834563353,\n",
       " 0.05136613834563353,\n",
       " 0.05136613834563353,\n",
       " 0.05136613834563353,\n",
       " 0.05136613834563353,\n",
       " 0.05136613834563353,\n",
       " 0.0514469689536126,\n",
       " 0.0514469689536126,\n",
       " 0.0514469689536126,\n",
       " 0.0514469689536126,\n",
       " 0.0514469689536126,\n",
       " 0.0514469689536126,\n",
       " 0.05152842624196143,\n",
       " 0.05152842624196143,\n",
       " 0.05152842624196143,\n",
       " 0.05152842624196143,\n",
       " 0.05152842624196143,\n",
       " 0.05152842624196143,\n",
       " 0.051610519038722234,\n",
       " 0.051610519038722234,\n",
       " 0.051610519038722234,\n",
       " 0.051610519038722234,\n",
       " 0.051610519038722234,\n",
       " 0.051610519038722234,\n",
       " 0.051610519038722234,\n",
       " 0.05169325634951607,\n",
       " 0.05169325634951607,\n",
       " 0.05169325634951607,\n",
       " 0.05169325634951607,\n",
       " 0.05169325634951607,\n",
       " 0.05169325634951607,\n",
       " 0.05169325634951607,\n",
       " 0.05177664736217298,\n",
       " 0.05177664736217298,\n",
       " 0.05177664736217298,\n",
       " 0.05177664736217298,\n",
       " 0.05177664736217298,\n",
       " 0.05177664736217298,\n",
       " 0.05177664736217298,\n",
       " 0.05177664736217298,\n",
       " 0.0518607014515107,\n",
       " 0.0518607014515107,\n",
       " 0.0518607014515107,\n",
       " 0.0518607014515107,\n",
       " 0.0518607014515107,\n",
       " 0.0518607014515107,\n",
       " 0.0518607014515107,\n",
       " 0.0518607014515107,\n",
       " 0.05194542818426761,\n",
       " 0.05194542818426761,\n",
       " 0.05194542818426761,\n",
       " 0.05194542818426761,\n",
       " 0.05194542818426761,\n",
       " 0.05194542818426761,\n",
       " 0.05194542818426761,\n",
       " 0.05194542818426761,\n",
       " 0.052030837324195854,\n",
       " 0.052030837324195854,\n",
       " 0.052030837324195854,\n",
       " 0.052030837324195854,\n",
       " 0.052030837324195854,\n",
       " 0.052030837324195854,\n",
       " 0.052030837324195854,\n",
       " 0.052030837324195854,\n",
       " 0.05211693883732084,\n",
       " 0.05211693883732084,\n",
       " 0.05211693883732084,\n",
       " 0.05211693883732084,\n",
       " 0.05211693883732084,\n",
       " 0.05211693883732084,\n",
       " 0.05211693883732084,\n",
       " 0.05211693883732084,\n",
       " 0.05211693883732084,\n",
       " 0.05220374289737361,\n",
       " 0.05220374289737361,\n",
       " 0.05220374289737361,\n",
       " 0.05220374289737361,\n",
       " 0.05220374289737361,\n",
       " 0.05220374289737361,\n",
       " 0.05220374289737361,\n",
       " 0.05220374289737361,\n",
       " 0.05220374289737361,\n",
       " 0.05220374289737361,\n",
       " 0.0522912598914028,\n",
       " 0.0522912598914028,\n",
       " 0.0522912598914028,\n",
       " 0.0522912598914028,\n",
       " 0.0522912598914028,\n",
       " 0.0522912598914028,\n",
       " 0.0522912598914028,\n",
       " 0.0522912598914028,\n",
       " 0.0522912598914028,\n",
       " 0.0522912598914028,\n",
       " 0.0522912598914028,\n",
       " 0.0522912598914028,\n",
       " 0.0522912598914028,\n",
       " 0.0522912598914028,\n",
       " 0.052379500425573246,\n",
       " 0.052379500425573246,\n",
       " 0.052379500425573246,\n",
       " 0.052379500425573246,\n",
       " 0.052379500425573246,\n",
       " 0.052379500425573246,\n",
       " 0.052379500425573246,\n",
       " 0.052379500425573246,\n",
       " 0.052379500425573246,\n",
       " 0.052379500425573246,\n",
       " 0.052379500425573246,\n",
       " 0.052379500425573246,\n",
       " 0.052379500425573246,\n",
       " 0.052379500425573246,\n",
       " 0.052379500425573246,\n",
       " 0.052379500425573246,\n",
       " 0.052379500425573246,\n",
       " 0.052379500425573246,\n",
       " 0.052379500425573246,\n",
       " 0.052379500425573246,\n",
       " 0.052379500425573246,\n",
       " 0.052379500425573246,\n",
       " 0.052379500425573246,\n",
       " 0.052379500425573246,\n",
       " 0.052379500425573246,\n",
       " 0.052379500425573246,\n",
       " 0.052379500425573246,\n",
       " 0.052379500425573246,\n",
       " 0.052379500425573246,\n",
       " 0.052379500425573246,\n",
       " 0.052379500425573246,\n",
       " 0.052379500425573246,\n",
       " 0.052379500425573246,\n",
       " 0.052379500425573246,\n",
       " 0.052379500425573246,\n",
       " 0.052379500425573246,\n",
       " 0.052379500425573246,\n",
       " 0.052379500425573246,\n",
       " 0.052379500425573246,\n",
       " 0.052379500425573246,\n",
       " 0.052379500425573246,\n",
       " 0.052379500425573246,\n",
       " 0.052379500425573246,\n",
       " 0.052379500425573246,\n",
       " 0.052379500425573246,\n",
       " 0.052379500425573246,\n",
       " 0.052379500425573246,\n",
       " 0.052379500425573246,\n",
       " 0.052379500425573246,\n",
       " 0.052379500425573246,\n",
       " 0.052379500425573246,\n",
       " 0.052379500425573246,\n",
       " 0.052379500425573246,\n",
       " 0.052379500425573246,\n",
       " 0.052379500425573246,\n",
       " 0.052379500425573246,\n",
       " 0.052379500425573246,\n",
       " 0.052379500425573246,\n",
       " 0.052379500425573246,\n",
       " 0.052379500425573246,\n",
       " 0.052379500425573246,\n",
       " 0.052379500425573246,\n",
       " 0.052379500425573246,\n",
       " 0.052379500425573246,\n",
       " 0.052379500425573246,\n",
       " 0.052379500425573246,\n",
       " 0.052379500425573246,\n",
       " 0.052379500425573246,\n",
       " 0.052379500425573246,\n",
       " 0.052379500425573246,\n",
       " 0.052379500425573246,\n",
       " 0.052379500425573246,\n",
       " 0.052379500425573246,\n",
       " 0.052379500425573246,\n",
       " 0.052379500425573246,\n",
       " 0.052379500425573246,\n",
       " 0.052379500425573246,\n",
       " 0.052379500425573246,\n",
       " 0.052379500425573246,\n",
       " 0.052379500425573246,\n",
       " 0.052379500425573246,\n",
       " 0.052379500425573246,\n",
       " 0.052379500425573246,\n",
       " 0.052379500425573246,\n",
       " 0.052379500425573246,\n",
       " 0.052379500425573246,\n",
       " 0.052379500425573246,\n",
       " 0.052379500425573246,\n",
       " 0.052379500425573246,\n",
       " 0.052379500425573246,\n",
       " 0.052379500425573246,\n",
       " 0.052379500425573246,\n",
       " 0.052379500425573246,\n",
       " 0.052379500425573246,\n",
       " 0.052379500425573246,\n",
       " 0.052379500425573246,\n",
       " 0.052379500425573246,\n",
       " 0.052379500425573246,\n",
       " 0.052379500425573246,\n",
       " 0.052379500425573246,\n",
       " 0.052379500425573246,\n",
       " 0.052379500425573246,\n",
       " 0.052379500425573246,\n",
       " 0.052379500425573246,\n",
       " 0.052379500425573246,\n",
       " 0.052379500425573246,\n",
       " 0.052379500425573246,\n",
       " 0.052379500425573246,\n",
       " 0.052379500425573246,\n",
       " 0.052379500425573246,\n",
       " 0.052379500425573246,\n",
       " 0.052379500425573246,\n",
       " 0.052379500425573246,\n",
       " 0.052379500425573246,\n",
       " 0.052379500425573246,\n",
       " 0.052379500425573246,\n",
       " 0.052379500425573246,\n",
       " 0.052379500425573246,\n",
       " 0.052379500425573246,\n",
       " 0.052379500425573246,\n",
       " 0.052379500425573246,\n",
       " 0.052379500425573246,\n",
       " 0.052379500425573246,\n",
       " 0.052379500425573246,\n",
       " 0.052379500425573246,\n",
       " 0.052379500425573246,\n",
       " 0.052379500425573246,\n",
       " 0.052379500425573246,\n",
       " 0.052379500425573246,\n",
       " 0.052379500425573246,\n",
       " 0.052379500425573246,\n",
       " 0.052379500425573246,\n",
       " 0.052379500425573246,\n",
       " 0.052379500425573246,\n",
       " 0.052379500425573246,\n",
       " 0.052379500425573246,\n",
       " 0.052379500425573246,\n",
       " 0.052379500425573246,\n",
       " 0.052379500425573246,\n",
       " 0.052379500425573246,\n",
       " 0.052379500425573246,\n",
       " 0.052379500425573246,\n",
       " 0.052379500425573246,\n",
       " 0.052379500425573246,\n",
       " 0.052379500425573246,\n",
       " 0.052379500425573246,\n",
       " 0.052379500425573246,\n",
       " 0.052379500425573246,\n",
       " 0.052379500425573246,\n",
       " 0.052379500425573246,\n",
       " 0.052379500425573246,\n",
       " 0.052379500425573246,\n",
       " 0.052379500425573246,\n",
       " 0.052379500425573246,\n",
       " 0.052379500425573246,\n",
       " 0.052379500425573246,\n",
       " 0.052379500425573246,\n",
       " 0.052379500425573246,\n",
       " 0.052379500425573246,\n",
       " 0.052379500425573246,\n",
       " 0.052379500425573246,\n",
       " 0.052379500425573246,\n",
       " 0.052379500425573246,\n",
       " 0.052379500425573246,\n",
       " 0.052379500425573246,\n",
       " 0.052379500425573246,\n",
       " 0.052379500425573246,\n",
       " 0.052379500425573246,\n",
       " 0.052379500425573246,\n",
       " 0.052379500425573246,\n",
       " 0.052379500425573246,\n",
       " 0.052379500425573246,\n",
       " 0.052379500425573246,\n",
       " 0.052379500425573246,\n",
       " 0.052379500425573246,\n",
       " 0.052379500425573246,\n",
       " 0.052379500425573246,\n",
       " 0.052379500425573246,\n",
       " 0.052379500425573246,\n",
       " 0.052379500425573246,\n",
       " 0.052379500425573246,\n",
       " 0.052379500425573246,\n",
       " 0.052379500425573246,\n",
       " 0.052379500425573246]"
      ]
     },
     "execution_count": 14,
     "metadata": {},
     "output_type": "execute_result"
    }
   ],
   "source": [
    "fs = []\n",
    "for xc in sim.xcs:\n",
    "    fs.append(xc.f)\n",
    "fs"
   ]
  },
  {
   "cell_type": "code",
   "execution_count": 3,
   "metadata": {},
   "outputs": [],
   "source": [
    "xc = sim.xcs[0]\n",
    "xc5 = sim.xcs[5]\n",
    "xc20 = sim.xcs[20]"
   ]
  },
  {
   "cell_type": "code",
   "execution_count": 15,
   "metadata": {},
   "outputs": [
    {
     "data": {
      "text/plain": [
       "[<matplotlib.lines.Line2D at 0x7f49198ae220>]"
      ]
     },
     "execution_count": 15,
     "metadata": {},
     "output_type": "execute_result"
    },
    {
     "data": {
      "image/png": "[encoded data removed]",
      "text/plain": [
       "<Figure size 432x288 with 1 Axes>"
      ]
     },
     "metadata": {
      "needs_background": "light"
     },
     "output_type": "display_data"
    }
   ],
   "source": [
    "plot(sim.x_arr*ft_per_m, sim.h*ft_per_m)\n",
    "plot(sim.x_arr*ft_per_m, sim.z_arr*ft_per_m)\n"
   ]
  },
  {
   "cell_type": "code",
   "execution_count": 4,
   "metadata": {},
   "outputs": [
    {
     "data": {
      "text/plain": [
       "[<matplotlib.lines.Line2D at 0x7f7c43daa340>]"
      ]
     },
     "execution_count": 4,
     "metadata": {},
     "output_type": "execute_result"
    },
    {
     "data": {
      "image/png": "[encoded data removed]",
      "text/plain": [
       "<Figure size 432x288 with 1 Axes>"
      ]
     },
     "metadata": {
      "needs_background": "light"
     },
     "output_type": "display_data"
    }
   ],
   "source": [
    "plot(xc.x, xc.y + sim.ymins[0])\n",
    "plot(xc5.x, xc5.y)\n",
    "plot(xc20.x, xc20.y)"
   ]
  },
  {
   "cell_type": "code",
   "execution_count": 12,
   "metadata": {},
   "outputs": [],
   "source": [
    "sim.run_one_step()"
   ]
  },
  {
   "cell_type": "code",
   "execution_count": 5,
   "metadata": {},
   "outputs": [
    {
     "data": {
      "text/plain": [
       "1.257078722109418"
      ]
     },
     "execution_count": 5,
     "metadata": {},
     "output_type": "execute_result"
    }
   ],
   "source": [
    "sqrt(8)/1.5**2"
   ]
  },
  {
   "cell_type": "code",
   "execution_count": 6,
   "metadata": {},
   "outputs": [
    {
     "data": {
      "text/plain": [
       "12.699208415745595"
      ]
     },
     "execution_count": 6,
     "metadata": {},
     "output_type": "execute_result"
    }
   ],
   "source": [
    "2/0.25**(4/3)"
   ]
  },
  {
   "cell_type": "code",
   "execution_count": 7,
   "metadata": {},
   "outputs": [
    {
     "data": {
      "text/plain": [
       "1.1140921108647988"
      ]
     },
     "execution_count": 7,
     "metadata": {},
     "output_type": "execute_result"
    }
   ],
   "source": [
    "(3.54/2.56)**(1/3) \n",
    "#Size of effect in friction slope from using\n",
    "# only one f value to represent n."
   ]
  },
  {
   "cell_type": "code",
   "execution_count": null,
   "metadata": {},
   "outputs": [],
   "source": []
  },
  {
   "cell_type": "markdown",
   "metadata": {},
   "source": [
    "Need to enable friction factor to change with cross-section and to be set using Manning's n, which varies with D_H. However, could first try with fixed value, calculated below."
   ]
  },
  {
   "cell_type": "code",
   "execution_count": 12,
   "metadata": {},
   "outputs": [
    {
     "data": {
      "text/plain": [
       "0.051297887908433246"
      ]
     },
     "execution_count": 12,
     "metadata": {},
     "output_type": "execute_result"
    }
   ],
   "source": [
    "g = 9.8 * ft_per_m\n",
    "R_h_approx = 2.7 # feet\n",
    "K = 1.5\n",
    "f = 8*g*Manning_n**2/K**2/R_h_approx**(1/3)\n",
    "f"
   ]
  },
  {
   "cell_type": "code",
   "execution_count": 25,
   "metadata": {},
   "outputs": [
    {
     "data": {
      "text/plain": [
       "3"
      ]
     },
     "execution_count": 25,
     "metadata": {},
     "output_type": "execute_result"
    }
   ],
   "source": [
    "np.size([1,2,3])"
   ]
  },
  {
   "cell_type": "code",
   "execution_count": null,
   "metadata": {},
   "outputs": [],
   "source": []
  }
 ],
 "metadata": {
  "kernelspec": {
   "display_name": "Python 3.9.12 ('base')",
   "language": "python",
   "name": "python3"
  },
  "language_info": {
   "codemirror_mode": {
    "name": "ipython",
    "version": 3
   },
   "file_extension": ".py",
   "mimetype": "text/x-python",
   "name": "python",
   "nbconvert_exporter": "python",
   "pygments_lexer": "ipython3",
   "version": "3.9.12"
  },
  "orig_nbformat": 4,
  "vscode": {
   "interpreter": {
    "hash": "2e4f07d89bcef8839175736985d4e8cf75ce0fb43bc1431edf121e8f8c897247"
   }
  }
 },
 "nbformat": 4,
 "nbformat_minor": 2
}
