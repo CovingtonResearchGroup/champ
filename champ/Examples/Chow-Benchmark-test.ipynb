version https://git-lfs.github.com/spec/v1
oid sha256:96ad0f9f14238b4861bcbd9d4e711ef6e20d3c369b49ea3077ad2c455c8a72e0
size 75865
