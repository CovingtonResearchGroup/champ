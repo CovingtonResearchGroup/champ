version https://git-lfs.github.com/spec/v1
oid sha256:17e944f27fd9f25839773f6ba7f39ff8cc2630b4218a2c4815b15150ce60de19
size 105958
