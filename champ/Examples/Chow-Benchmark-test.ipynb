{
 "cells": [
  {
   "cell_type": "code",
   "execution_count": 1,
   "metadata": {},
   "outputs": [
    {
     "name": "stdout",
     "output_type": "stream",
     "text": [
      "%pylab is deprecated, use %matplotlib inline and import the required libraries.\n",
      "Populating the interactive namespace from numpy and matplotlib\n"
     ]
    }
   ],
   "source": [
    "%pylab inline\n",
    "from champ.sim import multiXCGVF, multiXC"
   ]
  },
  {
   "cell_type": "code",
   "execution_count": 9,
   "metadata": {},
   "outputs": [],
   "source": [
    "ft_per_m = 3.28\n",
    "bottom_width = 20./ft_per_m\n",
    "height = 6./ft_per_m\n",
    "Q_cfs = 400.\n",
    "cumecs_per_cfs = 0.0283\n",
    "Q = Q_cfs * cumecs_per_cfs\n",
    "Manning_n = 0.025\n",
    "g = 9.8 * ft_per_m\n",
    "R_h_approx = 2.7 # feet\n",
    "K = 1.5\n",
    "f = 8*g*Manning_n**2/K**2/R_h_approx**(1/3)\n",
    "L = 2500/ft_per_m\n",
    "\n",
    "shape_dict = {'name': 'trapezoid', 'bottom_width':bottom_width, 'side_slope':2, 'height':height}\n",
    "x = linspace(0,L, 100)\n",
    "bed_slope = 0.0016\n",
    "z = bed_slope * x\n",
    "sim = multiXCGVF(x, z, shape_dict=shape_dict, n_mann=Manning_n, Q_w=Q)\n",
    "sim.calc_flow(h0=5/ft_per_m)"
   ]
  },
  {
   "cell_type": "code",
   "execution_count": 16,
   "metadata": {},
   "outputs": [
    {
     "data": {
      "text/plain": [
       "[<matplotlib.lines.Line2D at 0x7f28a06990d0>]"
      ]
     },
     "execution_count": 16,
     "metadata": {},
     "output_type": "execute_result"
    },
    {
     "data": {
      "image/png": "[encoded data removed]",
      "text/plain": [
       "<Figure size 432x288 with 1 Axes>"
      ]
     },
     "metadata": {
      "needs_background": "light"
     },
     "output_type": "display_data"
    }
   ],
   "source": [
    "n=100\n",
    "i=10\n",
    "fds = linspace(0.1*1.5, 1.5*1.5, n)\n",
    "res = []\n",
    "xc = sim.xcs[i]\n",
    "h0 = sim.h[i]# 5/ft_per_m\n",
    "fd_down = h0 - xc.ymin\n",
    "A_down = xc.calcA(depth=fd_down)\n",
    "P_down = xc.calcP(depth=fd_down)\n",
    "D_H_down = 4 * A_down / P_down\n",
    "V_down = Q / A_down\n",
    "alpha = 1.1\n",
    "V_head_down = alpha * V_down ** 2 / (2 * xc.g)\n",
    "            \n",
    "S_f_down = xc.f * V_down ** 2 / (2 * xc.g * D_H_down)\n",
    "dx = sim.x_arr[i + 1] - sim.x_arr[i]\n",
    "crit_fd = xc.calcCritFlowDepth(Q)\n",
    "norm_fd = xc.calcNormalFlowDepth(Q, bed_slope)\n",
    "max_fd = xc.ymax - xc.ymin\n",
    "for fd in fds:\n",
    "    res.append(sim.fd_residual(fd, i+1, h0, S_f_down, dx))\n",
    "plot(fds, res)\n",
    "plot([crit_fd, crit_fd], [-5,1], '--')\n",
    "plot([norm_fd, norm_fd], [-5,1], '-.')\n",
    "plot([max_fd, max_fd], [-5,1], ':')\n",
    "#xlim([0.5,1.])\n",
    "#ylim([-1,1])"
   ]
  },
  {
   "cell_type": "code",
   "execution_count": 12,
   "metadata": {},
   "outputs": [
    {
     "data": {
      "text/plain": [
       "0.0"
      ]
     },
     "execution_count": 12,
     "metadata": {},
     "output_type": "execute_result"
    }
   ],
   "source": [
    "xc.calcA(depth=h0)\n"
   ]
  },
  {
   "cell_type": "code",
   "execution_count": 9,
   "metadata": {},
   "outputs": [],
   "source": [
    "import pickle\n",
    "f = open('/home/mcoving/ChampOutputs/flow-comparison/gvf-figs/snapshot-00004000.pkl', 'rb')\n",
    "sim = pickle.load(f)"
   ]
  },
  {
   "cell_type": "markdown",
   "metadata": {},
   "source": [
    "Minimization solver seems to converge when it should not. Can test by widening fd_guess to force fallback."
   ]
  },
  {
   "cell_type": "code",
   "execution_count": 10,
   "metadata": {},
   "outputs": [
    {
     "data": {
      "text/plain": [
       "[<matplotlib.lines.Line2D at 0x7fc9a0e1bd90>]"
      ]
     },
     "execution_count": 10,
     "metadata": {},
     "output_type": "execute_result"
    },
    {
     "data": {
      "image/png": "[encoded data removed]",
      "text/plain": [
       "<Figure size 432x288 with 1 Axes>"
      ]
     },
     "metadata": {
      "needs_background": "light"
     },
     "output_type": "display_data"
    }
   ],
   "source": [
    "plot(sim.x_arr*ft_per_m, sim.fd*ft_per_m)\n",
    "plot(x_chow, fd_chow, 'o')\n"
   ]
  },
  {
   "cell_type": "code",
   "execution_count": 4,
   "metadata": {},
   "outputs": [
    {
     "data": {
      "text/plain": [
       "3.3735898168045355"
      ]
     },
     "execution_count": 4,
     "metadata": {},
     "output_type": "execute_result"
    }
   ],
   "source": [
    "sim.xcs[-1].calcNormalFlowDepth(Q, bed_slope)*ft_per_m"
   ]
  },
  {
   "cell_type": "code",
   "execution_count": 5,
   "metadata": {},
   "outputs": [
    {
     "data": {
      "text/plain": [
       "2.1648781443695433"
      ]
     },
     "execution_count": 5,
     "metadata": {},
     "output_type": "execute_result"
    }
   ],
   "source": [
    "sim.xcs[-1].calcCritFlowDepth(Q)*ft_per_m"
   ]
  },
  {
   "cell_type": "code",
   "execution_count": 3,
   "metadata": {},
   "outputs": [
    {
     "data": {
      "text/plain": [
       "3.7949599999999997"
      ]
     },
     "execution_count": 3,
     "metadata": {},
     "output_type": "execute_result"
    }
   ],
   "source": [
    "1.157*ft_per_m"
   ]
  },
  {
   "cell_type": "code",
   "execution_count": 16,
   "metadata": {},
   "outputs": [
    {
     "data": {
      "text/plain": [
       "5.3669931290301065e-06"
      ]
     },
     "execution_count": 16,
     "metadata": {},
     "output_type": "execute_result"
    }
   ],
   "source": [
    "xc = sim.xcs[1]\n",
    "xc.abs_normal_discharge_residual(3.373589/ft_per_m, bed_slope, Q)"
   ]
  },
  {
   "cell_type": "code",
   "execution_count": 11,
   "metadata": {},
   "outputs": [],
   "source": [
    "from scipy.interpolate import interp1d\n",
    "f = interp1d(sim.x_arr*ft_per_m, sim.fd*ft_per_m)"
   ]
  },
  {
   "cell_type": "code",
   "execution_count": 8,
   "metadata": {},
   "outputs": [
    {
     "ename": "ValueError",
     "evalue": "operands could not be broadcast together with shapes (1500,) (14,) ",
     "output_type": "error",
     "traceback": [
      "\u001b[0;31m---------------------------------------------------------------------------\u001b[0m",
      "\u001b[0;31mValueError\u001b[0m                                Traceback (most recent call last)",
      "\u001b[1;32m/home/mcoving/github/champ/champ/Examples/Chow-Benchmark-test.ipynb Cell 13\u001b[0m in \u001b[0;36m<cell line: 1>\u001b[0;34m()\u001b[0m\n\u001b[0;32m----> <a href='vscode-notebook-cell:/home/mcoving/github/champ/champ/Examples/Chow-Benchmark-test.ipynb#X35sZmlsZQ%3D%3D?line=0'>1</a>\u001b[0m sim\u001b[39m.\u001b[39;49mx_arr \u001b[39m-\u001b[39;49m x_chow\n",
      "\u001b[0;31mValueError\u001b[0m: operands could not be broadcast together with shapes (1500,) (14,) "
     ]
    }
   ],
   "source": [
    "sim.x_arr - x_chow"
   ]
  },
  {
   "cell_type": "code",
   "execution_count": 12,
   "metadata": {},
   "outputs": [
    {
     "data": {
      "text/plain": [
       "[<matplotlib.lines.Line2D at 0x7fc9a1876850>]"
      ]
     },
     "execution_count": 12,
     "metadata": {},
     "output_type": "execute_result"
    },
    {
     "data": {
      "image/png": "[encoded data removed]",
      "text/plain": [
       "<Figure size 432x288 with 1 Axes>"
      ]
     },
     "metadata": {
      "needs_background": "light"
     },
     "output_type": "display_data"
    }
   ],
   "source": [
    "fd_mod = f(x_chow)\n",
    "\n",
    "rel_err = (fd_mod - fd_chow)/fd_mod\n",
    "plot(x_chow, rel_err)"
   ]
  },
  {
   "cell_type": "code",
   "execution_count": 9,
   "metadata": {},
   "outputs": [
    {
     "data": {
      "text/plain": [
       "[0.04779768656073045,\n",
       " 0.047854523090260614,\n",
       " 0.047854523090260614,\n",
       " 0.04791168901208248,\n",
       " 0.04796918784839909,\n",
       " 0.0480270231755507,\n",
       " 0.0480270231755507,\n",
       " 0.048085198625093806,\n",
       " 0.04814371788490634,\n",
       " 0.04820258470032029,\n",
       " 0.04820258470032029,\n",
       " 0.048261802875282124,\n",
       " 0.04832137627354215,\n",
       " 0.04832137627354215,\n",
       " 0.04838130881987336,\n",
       " 0.0484416045013209,\n",
       " 0.04850226736848299,\n",
       " 0.04850226736848299,\n",
       " 0.04856330153682414,\n",
       " 0.048624711188021676,\n",
       " 0.048624711188021676,\n",
       " 0.0486865005713468,\n",
       " 0.048748674005080754,\n",
       " 0.048748674005080754,\n",
       " 0.048811235877967686,\n",
       " 0.04887419065070499,\n",
       " 0.048937542857472344,\n",
       " 0.048937542857472344,\n",
       " 0.049001297107500785,\n",
       " 0.0490654580866828,\n",
       " 0.0490654580866828,\n",
       " 0.049130030559225046,\n",
       " 0.049195019369344714,\n",
       " 0.049195019369344714,\n",
       " 0.04926042944301109,\n",
       " 0.04932626578973369,\n",
       " 0.04932626578973369,\n",
       " 0.04939253350439853,\n",
       " 0.04939253350439853,\n",
       " 0.04945923776915391,\n",
       " 0.04952638385534741,\n",
       " 0.04952638385534741,\n",
       " 0.04959397712551583,\n",
       " 0.049662023035429555,\n",
       " 0.049662023035429555,\n",
       " 0.04973052713619329,\n",
       " 0.04973052713619329,\n",
       " 0.04979949507640513,\n",
       " 0.04986893260437549,\n",
       " 0.04986893260437549,\n",
       " 0.049938845570408286,\n",
       " 0.049938845570408286,\n",
       " 0.050009239929146264,\n",
       " 0.05008012174198254,\n",
       " 0.05008012174198254,\n",
       " 0.05015149717954078,\n",
       " 0.05015149717954078,\n",
       " 0.050223372524226095,\n",
       " 0.050223372524226095,\n",
       " 0.05029575417284937,\n",
       " 0.05036864863932711,\n",
       " 0.05036864863932711,\n",
       " 0.05044206255745983,\n",
       " 0.05044206255745983,\n",
       " 0.05051600268379145,\n",
       " 0.05051600268379145,\n",
       " 0.050590475900552496,\n",
       " 0.050590475900552496,\n",
       " 0.05066548921869016,\n",
       " 0.05066548921869016,\n",
       " 0.050741049780988166,\n",
       " 0.050741049780988166,\n",
       " 0.05081716486527969,\n",
       " 0.05081716486527969,\n",
       " 0.05089384188775649,\n",
       " 0.05089384188775649,\n",
       " 0.050971088406377874,\n",
       " 0.050971088406377874,\n",
       " 0.05104891212438297,\n",
       " 0.05104891212438297,\n",
       " 0.05104891212438297,\n",
       " 0.05112732089390997,\n",
       " 0.05112732089390997,\n",
       " 0.05120632271972632,\n",
       " 0.05120632271972632,\n",
       " 0.05128592576307392,\n",
       " 0.05128592576307392,\n",
       " 0.05128592576307392,\n",
       " 0.05136613834563353,\n",
       " 0.05136613834563353,\n",
       " 0.0514469689536126,\n",
       " 0.0514469689536126,\n",
       " 0.05152842624196143,\n",
       " 0.0514469689536126,\n",
       " 0.0514469689536126,\n",
       " 0.0514469689536126,\n",
       " 0.0514469689536126,\n",
       " 0.0514469689536126,\n",
       " 0.0514469689536126,\n",
       " 0.0514469689536126,\n",
       " 0.0514469689536126,\n",
       " 0.0514469689536126,\n",
       " 0.0514469689536126,\n",
       " 0.0514469689536126,\n",
       " 0.0514469689536126,\n",
       " 0.0514469689536126,\n",
       " 0.0514469689536126,\n",
       " 0.0514469689536126,\n",
       " 0.0514469689536126,\n",
       " 0.0514469689536126,\n",
       " 0.0514469689536126,\n",
       " 0.0514469689536126,\n",
       " 0.0514469689536126,\n",
       " 0.0514469689536126,\n",
       " 0.0514469689536126,\n",
       " 0.0514469689536126,\n",
       " 0.0514469689536126,\n",
       " 0.0514469689536126,\n",
       " 0.0514469689536126,\n",
       " 0.0514469689536126,\n",
       " 0.0514469689536126,\n",
       " 0.0514469689536126,\n",
       " 0.0514469689536126,\n",
       " 0.0514469689536126,\n",
       " 0.0514469689536126,\n",
       " 0.0514469689536126,\n",
       " 0.0514469689536126,\n",
       " 0.0514469689536126,\n",
       " 0.0514469689536126,\n",
       " 0.0514469689536126,\n",
       " 0.0514469689536126,\n",
       " 0.0514469689536126,\n",
       " 0.0514469689536126,\n",
       " 0.0514469689536126,\n",
       " 0.0514469689536126,\n",
       " 0.0514469689536126,\n",
       " 0.0514469689536126,\n",
       " 0.0514469689536126,\n",
       " 0.0514469689536126,\n",
       " 0.0514469689536126,\n",
       " 0.0514469689536126,\n",
       " 0.0514469689536126,\n",
       " 0.0514469689536126,\n",
       " 0.0514469689536126,\n",
       " 0.0514469689536126,\n",
       " 0.0514469689536126,\n",
       " 0.0514469689536126,\n",
       " 0.0514469689536126,\n",
       " 0.0514469689536126,\n",
       " 0.0514469689536126,\n",
       " 0.0514469689536126,\n",
       " 0.0514469689536126,\n",
       " 0.0514469689536126,\n",
       " 0.0514469689536126,\n",
       " 0.0514469689536126,\n",
       " 0.0514469689536126,\n",
       " 0.0514469689536126,\n",
       " 0.0514469689536126,\n",
       " 0.0514469689536126,\n",
       " 0.0514469689536126,\n",
       " 0.0514469689536126,\n",
       " 0.0514469689536126,\n",
       " 0.0514469689536126,\n",
       " 0.0514469689536126,\n",
       " 0.0514469689536126,\n",
       " 0.0514469689536126,\n",
       " 0.0514469689536126,\n",
       " 0.0514469689536126,\n",
       " 0.0514469689536126,\n",
       " 0.0514469689536126,\n",
       " 0.0514469689536126,\n",
       " 0.0514469689536126,\n",
       " 0.0514469689536126,\n",
       " 0.0514469689536126,\n",
       " 0.0514469689536126,\n",
       " 0.0514469689536126,\n",
       " 0.0514469689536126,\n",
       " 0.0514469689536126,\n",
       " 0.0514469689536126,\n",
       " 0.0514469689536126,\n",
       " 0.0514469689536126,\n",
       " 0.0514469689536126,\n",
       " 0.0514469689536126,\n",
       " 0.0514469689536126,\n",
       " 0.0514469689536126,\n",
       " 0.0514469689536126,\n",
       " 0.0514469689536126,\n",
       " 0.0514469689536126,\n",
       " 0.0514469689536126,\n",
       " 0.0514469689536126,\n",
       " 0.0514469689536126,\n",
       " 0.0514469689536126,\n",
       " 0.0514469689536126,\n",
       " 0.0514469689536126,\n",
       " 0.0514469689536126,\n",
       " 0.0514469689536126,\n",
       " 0.0514469689536126,\n",
       " 0.0514469689536126,\n",
       " 0.0514469689536126,\n",
       " 0.0514469689536126]"
      ]
     },
     "execution_count": 9,
     "metadata": {},
     "output_type": "execute_result"
    }
   ],
   "source": [
    "fs = []\n",
    "for xc in sim.xcs:\n",
    "    fs.append(xc.f)\n",
    "fs"
   ]
  },
  {
   "cell_type": "code",
   "execution_count": 3,
   "metadata": {},
   "outputs": [],
   "source": [
    "xc = sim.xcs[0]\n",
    "xc5 = sim.xcs[5]\n",
    "xc20 = sim.xcs[20]"
   ]
  },
  {
   "cell_type": "code",
   "execution_count": 10,
   "metadata": {},
   "outputs": [
    {
     "data": {
      "text/plain": [
       "[<matplotlib.lines.Line2D at 0x7f0803816250>]"
      ]
     },
     "execution_count": 10,
     "metadata": {},
     "output_type": "execute_result"
    },
    {
     "data": {
      "image/png": "[encoded data removed]",
      "text/plain": [
       "<Figure size 432x288 with 1 Axes>"
      ]
     },
     "metadata": {
      "needs_background": "light"
     },
     "output_type": "display_data"
    }
   ],
   "source": [
    "plot(sim.x_arr*ft_per_m, sim.h*ft_per_m)\n",
    "plot(sim.x_arr*ft_per_m, sim.z_arr*ft_per_m)\n"
   ]
  },
  {
   "cell_type": "code",
   "execution_count": 4,
   "metadata": {},
   "outputs": [
    {
     "data": {
      "text/plain": [
       "[<matplotlib.lines.Line2D at 0x7f7c43daa340>]"
      ]
     },
     "execution_count": 4,
     "metadata": {},
     "output_type": "execute_result"
    },
    {
     "data": {
      "image/png": "[encoded data removed]",
      "text/plain": [
       "<Figure size 432x288 with 1 Axes>"
      ]
     },
     "metadata": {
      "needs_background": "light"
     },
     "output_type": "display_data"
    }
   ],
   "source": [
    "plot(xc.x, xc.y + sim.ymins[0])\n",
    "plot(xc5.x, xc5.y)\n",
    "plot(xc20.x, xc20.y)"
   ]
  },
  {
   "cell_type": "code",
   "execution_count": 12,
   "metadata": {},
   "outputs": [],
   "source": [
    "sim.run_one_step()"
   ]
  },
  {
   "cell_type": "code",
   "execution_count": 5,
   "metadata": {},
   "outputs": [
    {
     "data": {
      "text/plain": [
       "1.257078722109418"
      ]
     },
     "execution_count": 5,
     "metadata": {},
     "output_type": "execute_result"
    }
   ],
   "source": [
    "sqrt(8)/1.5**2"
   ]
  },
  {
   "cell_type": "code",
   "execution_count": 6,
   "metadata": {},
   "outputs": [
    {
     "data": {
      "text/plain": [
       "12.699208415745595"
      ]
     },
     "execution_count": 6,
     "metadata": {},
     "output_type": "execute_result"
    }
   ],
   "source": [
    "2/0.25**(4/3)"
   ]
  },
  {
   "cell_type": "code",
   "execution_count": 7,
   "metadata": {},
   "outputs": [
    {
     "data": {
      "text/plain": [
       "1.1140921108647988"
      ]
     },
     "execution_count": 7,
     "metadata": {},
     "output_type": "execute_result"
    }
   ],
   "source": [
    "(3.54/2.56)**(1/3) \n",
    "#Size of effect in friction slope from using\n",
    "# only one f value to represent n."
   ]
  },
  {
   "cell_type": "code",
   "execution_count": null,
   "metadata": {},
   "outputs": [],
   "source": []
  },
  {
   "cell_type": "markdown",
   "metadata": {},
   "source": [
    "Need to enable friction factor to change with cross-section and to be set using Manning's n, which varies with D_H. However, could first try with fixed value, calculated below. (did this already)"
   ]
  },
  {
   "cell_type": "code",
   "execution_count": 12,
   "metadata": {},
   "outputs": [
    {
     "data": {
      "text/plain": [
       "0.051297887908433246"
      ]
     },
     "execution_count": 12,
     "metadata": {},
     "output_type": "execute_result"
    }
   ],
   "source": [
    "g = 9.8 * ft_per_m\n",
    "R_h_approx = 2.7 # feet\n",
    "K = 1.5\n",
    "f = 8*g*Manning_n**2/K**2/R_h_approx**(1/3)\n",
    "f"
   ]
  },
  {
   "cell_type": "code",
   "execution_count": 25,
   "metadata": {},
   "outputs": [
    {
     "data": {
      "text/plain": [
       "3"
      ]
     },
     "execution_count": 25,
     "metadata": {},
     "output_type": "execute_result"
    }
   ],
   "source": [
    "np.size([1,2,3])"
   ]
  },
  {
   "cell_type": "markdown",
   "metadata": {},
   "source": [
    "11/29/2022 - Created Chow test and now regular flow solver fails many tests because of use of f in flow calcs (at least calcNormalFlowDepth). Need for multiXC to initialize XC's correctly accounting for f or n_mann. Maybe create XC initialization function that can be inherited by multiXCGVF. Are the initialization processes similar enough to do this?"
   ]
  },
  {
   "cell_type": "markdown",
   "metadata": {},
   "source": []
  }
 ],
 "metadata": {
  "kernelspec": {
   "display_name": "Python 3.9.12 ('base')",
   "language": "python",
   "name": "python3"
  },
  "language_info": {
   "codemirror_mode": {
    "name": "ipython",
    "version": 3
   },
   "file_extension": ".py",
   "mimetype": "text/x-python",
   "name": "python",
   "nbconvert_exporter": "python",
   "pygments_lexer": "ipython3",
   "version": "3.9.12"
  },
  "orig_nbformat": 4,
  "vscode": {
   "interpreter": {
    "hash": "2e4f07d89bcef8839175736985d4e8cf75ce0fb43bc1431edf121e8f8c897247"
   }
  }
 },
 "nbformat": 4,
 "nbformat_minor": 2
}
