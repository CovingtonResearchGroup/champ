{
 "cells": [
  {
   "cell_type": "code",
   "execution_count": 1,
   "metadata": {},
   "outputs": [
    {
     "name": "stdout",
     "output_type": "stream",
     "text": [
      "%pylab is deprecated, use %matplotlib inline and import the required libraries.\n",
      "Populating the interactive namespace from numpy and matplotlib\n"
     ]
    }
   ],
   "source": [
    "%pylab inline\n",
    "from champ.sim import multiXCGVF, multiXC"
   ]
  },
  {
   "cell_type": "code",
   "execution_count": 6,
   "metadata": {},
   "outputs": [
    {
     "name": "stdout",
     "output_type": "stream",
     "text": [
      "1.524390243902439\n",
      "i= 0   err= -8.483294668337749e-05  fd= 1.514630863917198\n",
      "1.514630863917198\n",
      "i= 1   err= -9.678905379528757e-05  fd= 1.5044945636965488\n",
      "1.5044945636965488\n",
      "i= 2   err= -0.00011086905972113037  fd= 1.4948893925565407\n",
      "1.4948893925565407\n",
      "i= 3   err= -0.00015979609453298238  fd= 1.484926611199444\n",
      "1.484926611199444\n",
      "i= 4   err= -0.00018596066429221736  fd= 1.4755330113163216\n",
      "1.4755330113163216\n",
      "i= 5   err= -0.00015996194414991116  fd= 1.4656882085768899\n",
      "1.4656882085768899\n",
      "i= 6   err= -0.00018745265674047218  fd= 1.4564415407632498\n",
      "1.4564415407632498\n",
      "i= 7   err= -8.283444068246659e-05  fd= 1.4471408475725447\n",
      "1.4471408475725447\n",
      "i= 8   err= 0.00013974858021303938  fd= 1.4371657925129924\n",
      "1.4371657925129924\n",
      "i= 9   err= -0.00013009586518042404  fd= 1.4280708709085201\n",
      "1.4280708709085201\n",
      "i= 10   err= 0.00012078455966424428  fd= 1.4182519963357456\n",
      "1.4182519963357456\n",
      "i= 11   err= 9.179296768913048e-05  fd= 1.4091044299200741\n",
      "1.4091044299200741\n",
      "i= 12   err= -0.00013249771736911775  fd= 1.4002401045296469\n",
      "1.4002401045296469\n",
      "i= 13   err= 6.403527306497736e-05  fd= 1.3906758066593679\n",
      "1.3906758066593679\n",
      "i= 14   err= -0.0001001868160497299  fd= 1.3819641157396578\n",
      "1.3819641157396578\n",
      "i= 15   err= -0.00013785222944373565  fd= 1.3733545603128008\n",
      "1.3733545603128008\n",
      "i= 16   err= 2.51434466200795e-05  fd= 1.364045745029179\n",
      "1.364045745029179\n",
      "i= 17   err= -0.00010272050404180888  fd= 1.355603485664609\n",
      "1.355603485664609\n",
      "i= 18   err= -0.0001465867860168668  fd= 1.3472757145868026\n",
      "1.3472757145868026\n",
      "i= 19   err= 3.0133362135309483e-05  fd= 1.3381994349516582\n",
      "1.3381994349516582\n",
      "i= 20   err= 3.872600057630571e-05  fd= 1.3299082836008727\n",
      "1.3299082836008727\n",
      "i= 21   err= -0.00014199138002046752  fd= 1.3218753422342924\n",
      "1.3218753422342924\n",
      "i= 22   err= 0.00018143565592598776  fd= 1.3135983077990867\n",
      "1.3135983077990867\n",
      "i= 23   err= 3.944291566848612e-05  fd= 1.3048428620997417\n",
      "1.3048428620997417\n",
      "i= 24   err= 4.282931441546012e-05  fd= 1.2969540213608377\n",
      "1.2969540213608377\n",
      "i= 25   err= 0.00017309456001490808  fd= 1.289022161274879\n",
      "1.289022161274879\n",
      "i= 26   err= 0.00010185395429518351  fd= 1.2812509117555742\n",
      "1.2812509117555742\n",
      "i= 27   err= 4.7319731921291464e-05  fd= 1.2736257529618125\n",
      "1.2736257529618125\n",
      "i= 28   err= -1.186412128295622e-05  fd= 1.2661535857119608\n",
      "1.2661535857119608\n",
      "i= 29   err= 0.0  fd= 1.2579721340431782\n",
      "1.2579721340431782\n",
      "i= 30   err= 6.456006659205649e-05  fd= 1.250719153585986\n",
      "1.250719153585986\n",
      "i= 31   err= -4.2484009280086e-05  fd= 1.2436767225261718\n",
      "1.2436767225261718\n",
      "i= 32   err= -0.00014460632967150389  fd= 1.2368425291808154\n",
      "1.2368425291808154\n",
      "i= 33   err= 0.00013302381145186004  fd= 1.2298395107649767\n",
      "1.2298395107649767\n",
      "i= 34   err= -4.1780955085446436e-05  fd= 1.223122874329556\n",
      "1.223122874329556\n",
      "i= 35   err= -0.00011906978296472026  fd= 1.2165979615274312\n",
      "1.2165979615274312\n",
      "i= 36   err= 0.00011425358962569021  fd= 1.2099571063041976\n",
      "1.2099571063041976\n",
      "i= 37   err= 5.115799629540341e-05  fd= 1.203499765563129\n",
      "1.203499765563129\n",
      "i= 38   err= 6.568480972846125e-05  fd= 1.1971514499996256\n",
      "1.1971514499996256\n",
      "i= 39   err= 0.00014115326472685652  fd= 1.1908544497559599\n",
      "1.1908544497559599\n",
      "i= 40   err= -0.0001731494735282002  fd= 1.1859727235497817\n",
      "1.1859727235497817\n",
      "i= 41   err= 0.00010341827969795325  fd= 1.179843576198625\n",
      "1.179843576198625\n",
      "i= 42   err= 7.4867505100773e-05  fd= 1.1738765378357008\n",
      "1.1738765378357008\n",
      "i= 43   err= 9.21242355900187e-05  fd= 1.168029351425573\n",
      "1.168029351425573\n",
      "i= 44   err= 0.00011031219811297177  fd= 1.1623047505327448\n",
      "1.1623047505327448\n",
      "i= 45   err= 7.486493155073326e-05  fd= 1.1567601538550971\n",
      "1.1567601538550971\n",
      "i= 46   err= -0.00013381433588754987  fd= 1.1526405802418909\n",
      "1.1526405802418909\n",
      "i= 47   err= -8.023314874283649e-05  fd= 1.1473995452706183\n",
      "1.1473995452706183\n",
      "i= 48   err= 0.00012336788883238192  fd= 1.142107407510987\n",
      "1.142107407510987\n",
      "i= 49   err= -0.00014627876600892264  fd= 1.1383516783155858\n",
      "1.1383516783155858\n",
      "i= 50   err= -0.00015006532170280806  fd= 1.133489639532204\n",
      "1.133489639532204\n",
      "i= 51   err= -0.00016214086885835144  fd= 1.128800647640607\n",
      "1.128800647640607\n",
      "i= 52   err= -0.00011349774459512574  fd= 1.1253828697752557\n",
      "1.1253828697752557\n",
      "i= 53   err= -0.00014598177065017204  fd= 1.1208431391730933\n",
      "1.1208431391730933\n",
      "i= 54   err= 0.00016231909231589903  fd= 1.1161651262489571\n",
      "1.1161651262489571\n",
      "i= 55   err= 0.00011293742339679724  fd= 1.1129122998648364\n",
      "1.1129122998648364\n",
      "i= 56   err= -0.00013667767127367725  fd= 1.108708055412357\n",
      "1.108708055412357\n",
      "i= 57   err= -0.00014844535366109746  fd= 1.105920485581257\n",
      "1.105920485581257\n",
      "i= 58   err= -0.00010593006979164876  fd= 1.101865179590048\n",
      "1.101865179590048\n",
      "i= 59   err= 8.779596262997735e-05  fd= 1.0990509417554926\n",
      "1.0990509417554926\n",
      "i= 60   err= 1.7959325185445962e-05  fd= 1.0950565144328428\n",
      "1.0950565144328428\n",
      "i= 61   err= 0.0001277243751833801  fd= 1.0924178146802617\n",
      "1.0924178146802617\n",
      "i= 62   err= 0.0001328337820818426  fd= 1.088498537369171\n",
      "1.088498537369171\n",
      "i= 63   err= -6.709463318532727e-05  fd= 1.0862762177301069\n",
      "1.0862762177301069\n",
      "i= 64   err= 0.00010900077526687646  fd= 1.0825762357767408\n",
      "1.0825762357767408\n",
      "i= 65   err= 7.570867516548674e-05  fd= 1.0804389781206911\n",
      "1.0804389781206911\n",
      "i= 66   err= 0.00010215929865964313  fd= 1.0782752698411469\n",
      "1.0782752698411469\n",
      "i= 67   err= 0.00012424157265433777  fd= 1.0747611362068263\n",
      "1.0747611362068263\n",
      "i= 68   err= -0.00015704533939420173  fd= 1.0730910201469852\n",
      "1.0730910201469852\n",
      "i= 69   err= -0.0001533814469971695  fd= 1.0714172401947475\n",
      "1.0714172401947475\n",
      "i= 70   err= -9.814324565349253e-05  fd= 1.0683324038991826\n",
      "1.0683324038991826\n",
      "i= 71   err= -9.156148578925993e-05  fd= 1.0668379408924094\n",
      "1.0668379408924094\n",
      "i= 72   err= -8.816146409151848e-05  fd= 1.0653400778639386\n",
      "1.0653400778639386\n",
      "i= 73   err= 0.00012470222872984493  fd= 1.0622453367810905\n",
      "1.0622453367810905\n",
      "i= 74   err= 8.059261679771446e-05  fd= 1.0608268422926561\n",
      "1.0608268422926561\n",
      "i= 75   err= -1.9772243599947004e-05  fd= 1.0595087126646192\n",
      "1.0595087126646192\n",
      "i= 76   err= 6.258715438955953e-05  fd= 1.058108223638593\n",
      "1.058108223638593\n",
      "i= 77   err= -0.00011527276906297956  fd= 1.0554726396827667\n",
      "1.0554726396827667\n",
      "i= 78   err= 0.00015246613781805252  fd= 1.0542376261989626\n",
      "1.0542376261989626\n",
      "i= 79   err= -0.00013143233800483323  fd= 1.0532865111909813\n",
      "1.0532865111909813\n",
      "i= 80   err= -0.0001290385206518252  fd= 1.0523330023656472\n",
      "1.0523330023656472\n",
      "i= 81   err= -0.00013920090465413537  fd= 1.0513896559243152\n",
      "1.0513896559243152\n",
      "i= 82   err= -3.677796977896719e-05  fd= 1.0489012229387555\n",
      "1.0489012229387555\n",
      "i= 83   err= -8.400350628301467e-05  fd= 1.0481655219922106\n",
      "1.0481655219922106\n",
      "i= 84   err= -5.68198743566839e-05  fd= 1.0474026374137393\n",
      "1.0474026374137393\n",
      "i= 85   err= -5.482986166049919e-05  fd= 1.0466377628225718\n",
      "1.0466377628225718\n",
      "i= 86   err= -5.283243747578048e-05  fd= 1.04587089080722\n",
      "1.04587089080722\n",
      "i= 87   err= -5.0827560226229807e-05  fd= 1.0451020139146185\n",
      "1.0451020139146185\n",
      "i= 88   err= 0.00010291431013942365  fd= 1.0427062296122884\n",
      "1.0427062296122884\n",
      "i= 89   err= 0.0  fd= 1.042157123652105\n",
      "1.042157123652105\n",
      "i= 90   err= 0.0  fd= 1.0416080176919216\n",
      "1.0416080176919216\n",
      "i= 91   err= 0.0  fd= 1.041058911731738\n",
      "1.041058911731738\n",
      "i= 92   err= 0.0  fd= 1.0405098057715547\n",
      "1.0405098057715547\n",
      "i= 93   err= 0.0  fd= 1.039960699811371\n",
      "1.039960699811371\n",
      "i= 94   err= 0.0  fd= 1.0394115938511874\n",
      "1.0394115938511874\n",
      "i= 95   err= 0.0  fd= 1.0388624878910042\n",
      "1.0388624878910042\n",
      "i= 96   err= 0.0  fd= 1.0383133819308206\n",
      "1.0383133819308206\n",
      "i= 97   err= -0.00011958068969497582  fd= 1.036379370149658\n",
      "1.036379370149658\n",
      "i= 98   err= -0.00014878684461883118  fd= 1.0362576836516892\n"
     ]
    }
   ],
   "source": [
    "ft_per_m = 3.28\n",
    "bottom_width = 20./ft_per_m\n",
    "height = 6./ft_per_m\n",
    "Q_cfs = 400.\n",
    "cumecs_per_cfs = 0.0283\n",
    "Q = Q_cfs * cumecs_per_cfs\n",
    "Manning_n = 0.025\n",
    "g = 9.8 * ft_per_m\n",
    "R_h_approx = 2.7 # feet\n",
    "K = 1.5\n",
    "f = 8*g*Manning_n**2/K**2/R_h_approx**(1/3)\n",
    "L = 2500/ft_per_m\n",
    "\n",
    "shape_dict = {'name': 'trapezoid', 'bottom_width':bottom_width, 'side_slope':2, 'height':height}\n",
    "x = linspace(0,L, 100)\n",
    "bed_slope = 0.0016\n",
    "z = bed_slope * x\n",
    "sim = multiXCGVF(x, z, shape_dict=shape_dict, n_mann=Manning_n, Q_w=Q)\n",
    "sim.calc_flow(h0=5/ft_per_m)"
   ]
  },
  {
   "cell_type": "code",
   "execution_count": 3,
   "metadata": {},
   "outputs": [
    {
     "data": {
      "text/plain": [
       "(-0.2, 0.1)"
      ]
     },
     "execution_count": 3,
     "metadata": {},
     "output_type": "execute_result"
    },
    {
     "data": {
      "image/png": "[encoded data removed]",
      "text/plain": [
       "<Figure size 432x288 with 1 Axes>"
      ]
     },
     "metadata": {
      "needs_background": "light"
     },
     "output_type": "display_data"
    }
   ],
   "source": [
    "n=100\n",
    "i=91\n",
    "fds = linspace(0.1*1.5, 1.5*1.5, n)\n",
    "res = []\n",
    "xc = sim.xcs[i]\n",
    "h0 = sim.h[i]# 5/ft_per_m\n",
    "A_down = xc.calcA(depth=h0)\n",
    "P_down = xc.calcP(depth=h0)\n",
    "D_H_down = 4 * A_down / P_down\n",
    "V_down = Q / A_down\n",
    "alpha = 1.1\n",
    "V_head_down = alpha * V_down ** 2 / (2 * xc.g)\n",
    "            \n",
    "S_f_down = xc.f * V_down ** 2 / (2 * xc.g * D_H_down)\n",
    "dx = sim.x_arr[i + 1] - sim.x_arr[i]\n",
    "for fd in fds:\n",
    "    res.append(sim.fd_residual(fd, i+1, h0, S_f_down, dx))\n",
    "plot(fds, res)\n",
    "xlim([1,1.2])\n",
    "ylim([-.2,.1])"
   ]
  },
  {
   "cell_type": "code",
   "execution_count": 7,
   "metadata": {},
   "outputs": [
    {
     "data": {
      "text/plain": [
       "[<matplotlib.lines.Line2D at 0x7f341b3b4e20>]"
      ]
     },
     "execution_count": 7,
     "metadata": {},
     "output_type": "execute_result"
    },
    {
     "data": {
      "image/png": "[encoded data removed]",
      "text/plain": [
       "<Figure size 432x288 with 1 Axes>"
      ]
     },
     "metadata": {
      "needs_background": "light"
     },
     "output_type": "display_data"
    }
   ],
   "source": [
    "plot(sim.x_arr*ft_per_m, sim.fd*ft_per_m)\n",
    "x_chow = array([155,318,493,684,898,1155,1314,1515,1641,1797,1917,2075,2214,2401])\n",
    "fd_chow = array([4.8, 4.6, 4.4, 4.2, 4, 3.8, 3.7, 3.6, 3.55, 3.5, 3.47, 3.44, 3.42, 3.4])\n",
    "plot(x_chow, fd_chow, 'o')\n"
   ]
  },
  {
   "cell_type": "code",
   "execution_count": 4,
   "metadata": {},
   "outputs": [
    {
     "data": {
      "text/plain": [
       "3.3735898168045355"
      ]
     },
     "execution_count": 4,
     "metadata": {},
     "output_type": "execute_result"
    }
   ],
   "source": [
    "sim.xcs[-1].calcNormalFlowDepth(Q, bed_slope)*ft_per_m"
   ]
  },
  {
   "cell_type": "code",
   "execution_count": 5,
   "metadata": {},
   "outputs": [
    {
     "data": {
      "text/plain": [
       "2.1648781443695433"
      ]
     },
     "execution_count": 5,
     "metadata": {},
     "output_type": "execute_result"
    }
   ],
   "source": [
    "sim.xcs[-1].calcCritFlowDepth(Q)*ft_per_m"
   ]
  },
  {
   "cell_type": "code",
   "execution_count": 3,
   "metadata": {},
   "outputs": [
    {
     "data": {
      "text/plain": [
       "3.7949599999999997"
      ]
     },
     "execution_count": 3,
     "metadata": {},
     "output_type": "execute_result"
    }
   ],
   "source": [
    "1.157*ft_per_m"
   ]
  },
  {
   "cell_type": "code",
   "execution_count": 16,
   "metadata": {},
   "outputs": [
    {
     "data": {
      "text/plain": [
       "5.3669931290301065e-06"
      ]
     },
     "execution_count": 16,
     "metadata": {},
     "output_type": "execute_result"
    }
   ],
   "source": [
    "xc = sim.xcs[1]\n",
    "xc.abs_normal_discharge_residual(3.373589/ft_per_m, bed_slope, Q)"
   ]
  },
  {
   "cell_type": "code",
   "execution_count": 9,
   "metadata": {},
   "outputs": [],
   "source": [
    "from scipy.interpolate import interp1d\n",
    "f = interp1d(sim.x_arr*ft_per_m, sim.fd*ft_per_m)"
   ]
  },
  {
   "cell_type": "code",
   "execution_count": 10,
   "metadata": {},
   "outputs": [
    {
     "data": {
      "text/plain": [
       "[<matplotlib.lines.Line2D at 0x7f341b1539d0>]"
      ]
     },
     "execution_count": 10,
     "metadata": {},
     "output_type": "execute_result"
    },
    {
     "data": {
      "image/png": "[encoded data removed]",
      "text/plain": [
       "<Figure size 432x288 with 1 Axes>"
      ]
     },
     "metadata": {
      "needs_background": "light"
     },
     "output_type": "display_data"
    }
   ],
   "source": [
    "fd_mod = f(x_chow)\n",
    "\n",
    "rel_err = (fd_mod - fd_chow)/fd_mod\n",
    "plot(x_chow, rel_err)"
   ]
  },
  {
   "cell_type": "code",
   "execution_count": 9,
   "metadata": {},
   "outputs": [
    {
     "data": {
      "text/plain": [
       "[0.04779768656073045,\n",
       " 0.047854523090260614,\n",
       " 0.047854523090260614,\n",
       " 0.04791168901208248,\n",
       " 0.04796918784839909,\n",
       " 0.0480270231755507,\n",
       " 0.0480270231755507,\n",
       " 0.048085198625093806,\n",
       " 0.04814371788490634,\n",
       " 0.04820258470032029,\n",
       " 0.04820258470032029,\n",
       " 0.048261802875282124,\n",
       " 0.04832137627354215,\n",
       " 0.04832137627354215,\n",
       " 0.04838130881987336,\n",
       " 0.0484416045013209,\n",
       " 0.04850226736848299,\n",
       " 0.04850226736848299,\n",
       " 0.04856330153682414,\n",
       " 0.048624711188021676,\n",
       " 0.048624711188021676,\n",
       " 0.0486865005713468,\n",
       " 0.048748674005080754,\n",
       " 0.048748674005080754,\n",
       " 0.048811235877967686,\n",
       " 0.04887419065070499,\n",
       " 0.048937542857472344,\n",
       " 0.048937542857472344,\n",
       " 0.049001297107500785,\n",
       " 0.0490654580866828,\n",
       " 0.0490654580866828,\n",
       " 0.049130030559225046,\n",
       " 0.049195019369344714,\n",
       " 0.049195019369344714,\n",
       " 0.04926042944301109,\n",
       " 0.04932626578973369,\n",
       " 0.04932626578973369,\n",
       " 0.04939253350439853,\n",
       " 0.04939253350439853,\n",
       " 0.04945923776915391,\n",
       " 0.04952638385534741,\n",
       " 0.04952638385534741,\n",
       " 0.04959397712551583,\n",
       " 0.049662023035429555,\n",
       " 0.049662023035429555,\n",
       " 0.04973052713619329,\n",
       " 0.04973052713619329,\n",
       " 0.04979949507640513,\n",
       " 0.04986893260437549,\n",
       " 0.04986893260437549,\n",
       " 0.049938845570408286,\n",
       " 0.049938845570408286,\n",
       " 0.050009239929146264,\n",
       " 0.05008012174198254,\n",
       " 0.05008012174198254,\n",
       " 0.05015149717954078,\n",
       " 0.05015149717954078,\n",
       " 0.050223372524226095,\n",
       " 0.050223372524226095,\n",
       " 0.05029575417284937,\n",
       " 0.05036864863932711,\n",
       " 0.05036864863932711,\n",
       " 0.05044206255745983,\n",
       " 0.05044206255745983,\n",
       " 0.05051600268379145,\n",
       " 0.05051600268379145,\n",
       " 0.050590475900552496,\n",
       " 0.050590475900552496,\n",
       " 0.05066548921869016,\n",
       " 0.05066548921869016,\n",
       " 0.050741049780988166,\n",
       " 0.050741049780988166,\n",
       " 0.05081716486527969,\n",
       " 0.05081716486527969,\n",
       " 0.05089384188775649,\n",
       " 0.05089384188775649,\n",
       " 0.050971088406377874,\n",
       " 0.050971088406377874,\n",
       " 0.05104891212438297,\n",
       " 0.05104891212438297,\n",
       " 0.05104891212438297,\n",
       " 0.05112732089390997,\n",
       " 0.05112732089390997,\n",
       " 0.05120632271972632,\n",
       " 0.05120632271972632,\n",
       " 0.05128592576307392,\n",
       " 0.05128592576307392,\n",
       " 0.05128592576307392,\n",
       " 0.05136613834563353,\n",
       " 0.05136613834563353,\n",
       " 0.0514469689536126,\n",
       " 0.0514469689536126,\n",
       " 0.05152842624196143,\n",
       " 0.0514469689536126,\n",
       " 0.0514469689536126,\n",
       " 0.0514469689536126,\n",
       " 0.0514469689536126,\n",
       " 0.0514469689536126,\n",
       " 0.0514469689536126,\n",
       " 0.0514469689536126,\n",
       " 0.0514469689536126,\n",
       " 0.0514469689536126,\n",
       " 0.0514469689536126,\n",
       " 0.0514469689536126,\n",
       " 0.0514469689536126,\n",
       " 0.0514469689536126,\n",
       " 0.0514469689536126,\n",
       " 0.0514469689536126,\n",
       " 0.0514469689536126,\n",
       " 0.0514469689536126,\n",
       " 0.0514469689536126,\n",
       " 0.0514469689536126,\n",
       " 0.0514469689536126,\n",
       " 0.0514469689536126,\n",
       " 0.0514469689536126,\n",
       " 0.0514469689536126,\n",
       " 0.0514469689536126,\n",
       " 0.0514469689536126,\n",
       " 0.0514469689536126,\n",
       " 0.0514469689536126,\n",
       " 0.0514469689536126,\n",
       " 0.0514469689536126,\n",
       " 0.0514469689536126,\n",
       " 0.0514469689536126,\n",
       " 0.0514469689536126,\n",
       " 0.0514469689536126,\n",
       " 0.0514469689536126,\n",
       " 0.0514469689536126,\n",
       " 0.0514469689536126,\n",
       " 0.0514469689536126,\n",
       " 0.0514469689536126,\n",
       " 0.0514469689536126,\n",
       " 0.0514469689536126,\n",
       " 0.0514469689536126,\n",
       " 0.0514469689536126,\n",
       " 0.0514469689536126,\n",
       " 0.0514469689536126,\n",
       " 0.0514469689536126,\n",
       " 0.0514469689536126,\n",
       " 0.0514469689536126,\n",
       " 0.0514469689536126,\n",
       " 0.0514469689536126,\n",
       " 0.0514469689536126,\n",
       " 0.0514469689536126,\n",
       " 0.0514469689536126,\n",
       " 0.0514469689536126,\n",
       " 0.0514469689536126,\n",
       " 0.0514469689536126,\n",
       " 0.0514469689536126,\n",
       " 0.0514469689536126,\n",
       " 0.0514469689536126,\n",
       " 0.0514469689536126,\n",
       " 0.0514469689536126,\n",
       " 0.0514469689536126,\n",
       " 0.0514469689536126,\n",
       " 0.0514469689536126,\n",
       " 0.0514469689536126,\n",
       " 0.0514469689536126,\n",
       " 0.0514469689536126,\n",
       " 0.0514469689536126,\n",
       " 0.0514469689536126,\n",
       " 0.0514469689536126,\n",
       " 0.0514469689536126,\n",
       " 0.0514469689536126,\n",
       " 0.0514469689536126,\n",
       " 0.0514469689536126,\n",
       " 0.0514469689536126,\n",
       " 0.0514469689536126,\n",
       " 0.0514469689536126,\n",
       " 0.0514469689536126,\n",
       " 0.0514469689536126,\n",
       " 0.0514469689536126,\n",
       " 0.0514469689536126,\n",
       " 0.0514469689536126,\n",
       " 0.0514469689536126,\n",
       " 0.0514469689536126,\n",
       " 0.0514469689536126,\n",
       " 0.0514469689536126,\n",
       " 0.0514469689536126,\n",
       " 0.0514469689536126,\n",
       " 0.0514469689536126,\n",
       " 0.0514469689536126,\n",
       " 0.0514469689536126,\n",
       " 0.0514469689536126,\n",
       " 0.0514469689536126,\n",
       " 0.0514469689536126,\n",
       " 0.0514469689536126,\n",
       " 0.0514469689536126,\n",
       " 0.0514469689536126,\n",
       " 0.0514469689536126,\n",
       " 0.0514469689536126,\n",
       " 0.0514469689536126,\n",
       " 0.0514469689536126,\n",
       " 0.0514469689536126,\n",
       " 0.0514469689536126,\n",
       " 0.0514469689536126,\n",
       " 0.0514469689536126,\n",
       " 0.0514469689536126,\n",
       " 0.0514469689536126,\n",
       " 0.0514469689536126]"
      ]
     },
     "execution_count": 9,
     "metadata": {},
     "output_type": "execute_result"
    }
   ],
   "source": [
    "fs = []\n",
    "for xc in sim.xcs:\n",
    "    fs.append(xc.f)\n",
    "fs"
   ]
  },
  {
   "cell_type": "code",
   "execution_count": 3,
   "metadata": {},
   "outputs": [],
   "source": [
    "xc = sim.xcs[0]\n",
    "xc5 = sim.xcs[5]\n",
    "xc20 = sim.xcs[20]"
   ]
  },
  {
   "cell_type": "code",
   "execution_count": 10,
   "metadata": {},
   "outputs": [
    {
     "data": {
      "text/plain": [
       "[<matplotlib.lines.Line2D at 0x7f0803816250>]"
      ]
     },
     "execution_count": 10,
     "metadata": {},
     "output_type": "execute_result"
    },
    {
     "data": {
      "image/png": "[encoded data removed]",
      "text/plain": [
       "<Figure size 432x288 with 1 Axes>"
      ]
     },
     "metadata": {
      "needs_background": "light"
     },
     "output_type": "display_data"
    }
   ],
   "source": [
    "plot(sim.x_arr*ft_per_m, sim.h*ft_per_m)\n",
    "plot(sim.x_arr*ft_per_m, sim.z_arr*ft_per_m)\n"
   ]
  },
  {
   "cell_type": "code",
   "execution_count": 4,
   "metadata": {},
   "outputs": [
    {
     "data": {
      "text/plain": [
       "[<matplotlib.lines.Line2D at 0x7f7c43daa340>]"
      ]
     },
     "execution_count": 4,
     "metadata": {},
     "output_type": "execute_result"
    },
    {
     "data": {
      "image/png": "[encoded data removed]",
      "text/plain": [
       "<Figure size 432x288 with 1 Axes>"
      ]
     },
     "metadata": {
      "needs_background": "light"
     },
     "output_type": "display_data"
    }
   ],
   "source": [
    "plot(xc.x, xc.y + sim.ymins[0])\n",
    "plot(xc5.x, xc5.y)\n",
    "plot(xc20.x, xc20.y)"
   ]
  },
  {
   "cell_type": "code",
   "execution_count": 12,
   "metadata": {},
   "outputs": [],
   "source": [
    "sim.run_one_step()"
   ]
  },
  {
   "cell_type": "code",
   "execution_count": 5,
   "metadata": {},
   "outputs": [
    {
     "data": {
      "text/plain": [
       "1.257078722109418"
      ]
     },
     "execution_count": 5,
     "metadata": {},
     "output_type": "execute_result"
    }
   ],
   "source": [
    "sqrt(8)/1.5**2"
   ]
  },
  {
   "cell_type": "code",
   "execution_count": 6,
   "metadata": {},
   "outputs": [
    {
     "data": {
      "text/plain": [
       "12.699208415745595"
      ]
     },
     "execution_count": 6,
     "metadata": {},
     "output_type": "execute_result"
    }
   ],
   "source": [
    "2/0.25**(4/3)"
   ]
  },
  {
   "cell_type": "code",
   "execution_count": 7,
   "metadata": {},
   "outputs": [
    {
     "data": {
      "text/plain": [
       "1.1140921108647988"
      ]
     },
     "execution_count": 7,
     "metadata": {},
     "output_type": "execute_result"
    }
   ],
   "source": [
    "(3.54/2.56)**(1/3) \n",
    "#Size of effect in friction slope from using\n",
    "# only one f value to represent n."
   ]
  },
  {
   "cell_type": "code",
   "execution_count": null,
   "metadata": {},
   "outputs": [],
   "source": []
  },
  {
   "cell_type": "markdown",
   "metadata": {},
   "source": [
    "Need to enable friction factor to change with cross-section and to be set using Manning's n, which varies with D_H. However, could first try with fixed value, calculated below."
   ]
  },
  {
   "cell_type": "code",
   "execution_count": 12,
   "metadata": {},
   "outputs": [
    {
     "data": {
      "text/plain": [
       "0.051297887908433246"
      ]
     },
     "execution_count": 12,
     "metadata": {},
     "output_type": "execute_result"
    }
   ],
   "source": [
    "g = 9.8 * ft_per_m\n",
    "R_h_approx = 2.7 # feet\n",
    "K = 1.5\n",
    "f = 8*g*Manning_n**2/K**2/R_h_approx**(1/3)\n",
    "f"
   ]
  },
  {
   "cell_type": "code",
   "execution_count": 25,
   "metadata": {},
   "outputs": [
    {
     "data": {
      "text/plain": [
       "3"
      ]
     },
     "execution_count": 25,
     "metadata": {},
     "output_type": "execute_result"
    }
   ],
   "source": [
    "np.size([1,2,3])"
   ]
  },
  {
   "cell_type": "code",
   "execution_count": null,
   "metadata": {},
   "outputs": [],
   "source": []
  }
 ],
 "metadata": {
  "kernelspec": {
   "display_name": "Python 3.9.12 ('base')",
   "language": "python",
   "name": "python3"
  },
  "language_info": {
   "codemirror_mode": {
    "name": "ipython",
    "version": 3
   },
   "file_extension": ".py",
   "mimetype": "text/x-python",
   "name": "python",
   "nbconvert_exporter": "python",
   "pygments_lexer": "ipython3",
   "version": "3.9.12"
  },
  "orig_nbformat": 4,
  "vscode": {
   "interpreter": {
    "hash": "2e4f07d89bcef8839175736985d4e8cf75ce0fb43bc1431edf121e8f8c897247"
   }
  }
 },
 "nbformat": 4,
 "nbformat_minor": 2
}
