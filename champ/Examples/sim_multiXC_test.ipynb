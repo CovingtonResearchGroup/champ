version https://git-lfs.github.com/spec/v1
oid sha256:c2bd841ece8277b80e8792539186ae808984144969b8323cfe0e1c6dfffff966
size 115309
