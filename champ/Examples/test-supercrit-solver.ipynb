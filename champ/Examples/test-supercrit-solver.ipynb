version https://git-lfs.github.com/spec/v1
oid sha256:a6d6bc96857cbb512d12e844d27f1300fe5d2dca4598518d2d3ffead093169c2
size 336944
