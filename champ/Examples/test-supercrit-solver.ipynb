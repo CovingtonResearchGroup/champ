version https://git-lfs.github.com/spec/v1
oid sha256:2eb7cf28c29eafcc7ef991eb39dc83f7b731526c8b3f0c720429d7db521c3e25
size 366395
