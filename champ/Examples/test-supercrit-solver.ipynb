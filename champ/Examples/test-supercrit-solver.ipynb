version https://git-lfs.github.com/spec/v1
oid sha256:e3b32665c91551d5419df20260c33234351cd0430517a369bf602cd1e3dfc36c
size 355632
