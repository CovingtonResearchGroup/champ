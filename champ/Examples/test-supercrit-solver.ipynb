version https://git-lfs.github.com/spec/v1
oid sha256:5aa0c733e3ba446bbb2056b72cb660d911cd13b559d4d7194f83bb44eda86aee
size 377956
