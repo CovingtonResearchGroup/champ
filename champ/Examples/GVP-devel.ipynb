{
 "cells": [
  {
   "cell_type": "code",
   "execution_count": 1,
   "metadata": {},
   "outputs": [
    {
     "name": "stdout",
     "output_type": "stream",
     "text": [
      "%pylab is deprecated, use %matplotlib inline and import the required libraries.\n",
      "Populating the interactive namespace from numpy and matplotlib\n"
     ]
    }
   ],
   "source": [
    "%pylab inline\n",
    "from champ.sim import multiXC, multiXCGVP\n",
    "from scipy.optimize import root_scalar"
   ]
  },
  {
   "cell_type": "code",
   "execution_count": 1,
   "metadata": {},
   "outputs": [
    {
     "ename": "NameError",
     "evalue": "name 'linspace' is not defined",
     "output_type": "error",
     "traceback": [
      "\u001b[0;31m---------------------------------------------------------------------------\u001b[0m",
      "\u001b[0;31mNameError\u001b[0m                                 Traceback (most recent call last)",
      "\u001b[1;32m/home/mcoving/github/champ/champ/Examples/GVP-devel.ipynb Cell 2\u001b[0m in \u001b[0;36m<cell line: 2>\u001b[0;34m()\u001b[0m\n\u001b[1;32m      <a href='vscode-notebook-cell:/home/mcoving/github/champ/champ/Examples/GVP-devel.ipynb#W1sZmlsZQ%3D%3D?line=0'>1</a>\u001b[0m n \u001b[39m=\u001b[39m \u001b[39m10\u001b[39m\n\u001b[0;32m----> <a href='vscode-notebook-cell:/home/mcoving/github/champ/champ/Examples/GVP-devel.ipynb#W1sZmlsZQ%3D%3D?line=1'>2</a>\u001b[0m x_arr \u001b[39m=\u001b[39m linspace(\u001b[39m0\u001b[39m,\u001b[39m100\u001b[39m,n)\n\u001b[1;32m      <a href='vscode-notebook-cell:/home/mcoving/github/champ/champ/Examples/GVP-devel.ipynb#W1sZmlsZQ%3D%3D?line=2'>3</a>\u001b[0m z_arr \u001b[39m=\u001b[39m linspace(\u001b[39m0\u001b[39m,\u001b[39m1\u001b[39m,n)\n\u001b[1;32m      <a href='vscode-notebook-cell:/home/mcoving/github/champ/champ/Examples/GVP-devel.ipynb#W1sZmlsZQ%3D%3D?line=3'>4</a>\u001b[0m sim \u001b[39m=\u001b[39m multiXC(x_arr,z_arr,\u001b[39m0.1\u001b[39m, init_radii\u001b[39m=\u001b[39m\u001b[39m2.0\u001b[39m)\n",
      "\u001b[0;31mNameError\u001b[0m: name 'linspace' is not defined"
     ]
    }
   ],
   "source": [
    "n = 10\n",
    "x_arr = linspace(0,100,n)\n",
    "z_arr = linspace(0,1,n)\n",
    "sim = multiXC(x_arr,z_arr,0.1, init_radii=2.0)"
   ]
  },
  {
   "cell_type": "code",
   "execution_count": 28,
   "metadata": {},
   "outputs": [
    {
     "data": {
      "text/plain": [
       "0.40084796343254675"
      ]
     },
     "execution_count": 28,
     "metadata": {},
     "output_type": "execute_result"
    }
   ],
   "source": [
    "h0 = sim.z_arr[0] + 0.5\n",
    "hguess = h0+0.1\n",
    "g=9.8\n",
    "f=0.1\n",
    "L = sim.x_arr[1] - sim.x_arr[0]\n",
    "fd_down = h0 - sim.z_arr[0]\n",
    "fd_guess = 0.40084796343254675# WSnew #hguess - sim.z_arr[1]\n",
    "xc_up = sim.xcs[1]\n",
    "xc_down = sim.xcs[0]\n",
    "\n",
    "\n",
    "\n",
    "A_guess = xc_up.calcA(depth=fd_guess)\n",
    "Pw_guess = xc_up.calcP(depth=fd_guess)\n",
    "K_guess = A_guess * np.sqrt(2*g*(4*A_guess/Pw_guess)/f)\n",
    "S_f_guess = sim.Q_w**2 / K_guess\n",
    "h_e_guess = S_f_guess * L\n",
    "\n",
    "\n",
    "A_down = xc_down.calcA(depth=fd_down)\n",
    "Pw_down = xc_down.calcP(depth=fd_down)\n",
    "\n",
    "\n",
    "V_down = sim.Q_w/A_down\n",
    "V_up_guess = sim.Q_w/A_guess\n",
    "\n",
    "V_head_down = V_down**2/(2*g)\n",
    "V_head_up_guess = V_up_guess**2/(2*g)\n",
    "\n",
    "fd_calc_from_guess = sim.z_arr[0] - sim.z_arr[1] + fd_down + V_head_down - V_head_up_guess + h_e_guess\n",
    "fd_calc_from_guess"
   ]
  },
  {
   "cell_type": "code",
   "execution_count": 20,
   "metadata": {},
   "outputs": [
    {
     "data": {
      "text/plain": [
       "0.4248353727310991"
      ]
     },
     "execution_count": 20,
     "metadata": {},
     "output_type": "execute_result"
    }
   ],
   "source": [
    "WSnew = fd_guess + 0.7 * (fd_calc_from_guess - fd_guess)\n",
    "WSnew"
   ]
  },
  {
   "cell_type": "code",
   "execution_count": 7,
   "metadata": {},
   "outputs": [
    {
     "data": {
      "text/plain": [
       "-1.399990209518333"
      ]
     },
     "execution_count": 7,
     "metadata": {},
     "output_type": "execute_result"
    }
   ],
   "source": []
  },
  {
   "cell_type": "code",
   "execution_count": 31,
   "metadata": {},
   "outputs": [],
   "source": [
    "def fd_res(fd_guess):\n",
    "    A_guess = xc_up.calcA(depth=fd_guess)\n",
    "    Pw_guess = xc_up.calcP(depth=fd_guess)\n",
    "    K_guess = A_guess * np.sqrt(2*g*(4*A_guess/Pw_guess)/f)\n",
    "    # S_f_guess = sim.Q_w**2 / K_guess\n",
    "\n",
    "\n",
    "    A_down = xc_down.calcA(depth=fd_down)\n",
    "    Pw_down = xc_down.calcP(depth=fd_down)\n",
    "    K_down = A_down * np.sqrt(2*g*(4*A_down/Pw_down)/f)\n",
    "\n",
    "    S_f_guess = (2 * sim.Q_w / (K_down + K_guess) )**2\n",
    "    h_e_guess = S_f_guess * L\n",
    "\n",
    "    V_down = sim.Q_w/A_down\n",
    "    V_up_guess = sim.Q_w/A_guess\n",
    "\n",
    "    V_head_down = V_down**2/(2*g)\n",
    "    V_head_up_guess = V_up_guess**2/(2*g)\n",
    "\n",
    "    fd_calc_from_guess = sim.z_arr[0] - sim.z_arr[1] + fd_down + V_head_down - V_head_up_guess + h_e_guess\n",
    "    return fd_guess - fd_calc_from_guess"
   ]
  },
  {
   "cell_type": "code",
   "execution_count": 34,
   "metadata": {},
   "outputs": [],
   "source": [
    "sol = root_scalar(fd_res, x0=0.4, x1=0.45)"
   ]
  },
  {
   "cell_type": "code",
   "execution_count": 35,
   "metadata": {},
   "outputs": [
    {
     "data": {
      "text/plain": [
       "0.3890728672941937"
      ]
     },
     "execution_count": 35,
     "metadata": {},
     "output_type": "execute_result"
    }
   ],
   "source": [
    "sol.root"
   ]
  },
  {
   "cell_type": "code",
   "execution_count": 39,
   "metadata": {},
   "outputs": [],
   "source": [
    "n = 100\n",
    "x_arr = linspace(0,1000,n)\n",
    "z_arr = linspace(0,1,n)\n",
    "sim = multiXCGVP(x_arr,z_arr,0.1, init_radii=5.0)"
   ]
  },
  {
   "cell_type": "code",
   "execution_count": 30,
   "metadata": {},
   "outputs": [
    {
     "name": "stderr",
     "output_type": "stream",
     "text": [
      "/home/mcoving/anaconda3/lib/python3.9/site-packages/champ-0.2-py3.9-linux-x86_64.egg/champ/crossSection.py:366: RuntimeWarning: divide by zero encountered in double_scalars\n",
      "  self.psi = g * self.eSlope / sum\n",
      "/home/mcoving/anaconda3/lib/python3.9/site-packages/champ-0.2-py3.9-linux-x86_64.egg/champ/crossSection.py:341: RuntimeWarning: invalid value encountered in multiply\n",
      "  self.T_b = psi * rho_w * Awet * vgrad2\n"
     ]
    }
   ],
   "source": [
    "sim.run_one_step()"
   ]
  },
  {
   "cell_type": "code",
   "execution_count": 40,
   "metadata": {},
   "outputs": [],
   "source": [
    "sim.calc_flow()"
   ]
  },
  {
   "cell_type": "code",
   "execution_count": 41,
   "metadata": {},
   "outputs": [
    {
     "data": {
      "text/plain": [
       "[<matplotlib.lines.Line2D at 0x7f5aa42a0820>]"
      ]
     },
     "execution_count": 41,
     "metadata": {},
     "output_type": "execute_result"
    },
    {
     "data": {
      "image/png": "[encoded data removed]",
      "text/plain": [
       "<Figure size 432x288 with 1 Axes>"
      ]
     },
     "metadata": {
      "needs_background": "light"
     },
     "output_type": "display_data"
    }
   ],
   "source": [
    "plot(sim.x_arr, sim.h)\n",
    "plot(sim.x_arr, sim.z_arr)"
   ]
  },
  {
   "cell_type": "code",
   "execution_count": 42,
   "metadata": {},
   "outputs": [
    {
     "name": "stdout",
     "output_type": "stream",
     "text": [
      "0.0018699285063254602\n",
      "0.0009932855530891736\n",
      "0.0006936239361032359\n",
      "0.0004921570173169648\n",
      "0.0003855953714770291\n",
      "0.0003022318835499295\n",
      "0.00024027541155222058\n",
      "0.00020652278862839327\n",
      "0.0001780361184516442\n",
      "0.00015391574291585044\n",
      "0.00012401904925864944\n",
      "0.00010106172903315938\n",
      "9.450766682647748e-05\n",
      "8.828403086421781e-05\n",
      "7.730608718706637e-05\n",
      "6.78496315213619e-05\n",
      "5.96831005640334e-05\n",
      "5.261320026792745e-05\n",
      "4.647809887940191e-05\n",
      "4.114191368146172e-05\n",
      "3.649023030114764e-05\n",
      "3.44121514420061e-05\n",
      "3.242644913952166e-05\n",
      "2.886879668373466e-05\n",
      "2.5747873102547224e-05\n",
      "2.3004633826541364e-05\n",
      "2.1770784584714814e-05\n",
      "2.0588723452077535e-05\n",
      "1.8457096562099452e-05\n",
      "1.749534858382355e-05\n",
      "1.6572872903843483e-05\n",
      "1.4904384552581627e-05\n",
      "1.3424380798680229e-05\n",
      "1.2753713881199927e-05\n",
      "1.2109362968491696e-05\n",
      "1.0939026573933136e-05\n",
      "1.0407240977842334e-05\n",
      "9.895792350456674e-06\n",
      "8.964411098982846e-06\n",
      "8.540107961351298e-06\n",
      "8.131629959268195e-06\n",
      "7.385909939900439e-06\n",
      "7.045350477938368e-06\n",
      "6.717186316069426e-06\n",
      "6.1166649615066965e-06\n",
      "5.841772088346009e-06\n",
      "5.576648869869367e-06\n",
      "5.090390094604799e-06\n",
      "4.867303523060247e-06\n",
      "4.651963135883966e-06\n",
      "4.256156461299321e-06\n",
      "4.074179511053918e-06\n",
      "3.898379389996206e-06\n",
      "3.7337171631540258e-06\n",
      "3.5745820189239463e-06\n",
      "3.281186242054743e-06\n",
      "3.145884739940754e-06\n",
      "3.015026222561274e-06\n",
      "2.8921660010134283e-06\n",
      "2.7732969352928377e-06\n",
      "2.6616084030605944e-06\n",
      "2.5535096115752823e-06\n",
      "2.353453097823756e-06\n",
      "2.260849428798899e-06\n",
      "2.1711602897809092e-06\n",
      "2.0867042095960602e-06\n",
      "2.0048789303566043e-06\n",
      "1.927773840846009e-06\n",
      "1.8530461651354509e-06\n",
      "1.7142663389981518e-06\n",
      "1.6498049617202687e-06\n",
      "1.5872915927430302e-06\n",
      "1.5282651352530408e-06\n",
      "1.471004882384206e-06\n",
      "1.4169034587821032e-06\n",
      "1.3644050978373753e-06\n",
      "1.3147713007822158e-06\n",
      "1.2665940035544606e-06\n",
      "1.2210170410992707e-06\n",
      "1.1767647626403929e-06\n",
      "1.0941918391657684e-06\n",
      "1.0556574563884366e-06\n",
      "1.0182221016850257e-06\n",
      "9.827432847514387e-07\n",
      "9.482669751386155e-07\n",
      "9.155735783729608e-07\n",
      "8.837955089939725e-07\n",
      "8.536436260072593e-07\n",
      "8.243282471956072e-07\n",
      "7.964974412288433e-07\n",
      "7.69431800696268e-07\n",
      "7.43722649978881e-07\n",
      "7.187140364049596e-07\n",
      "6.949459561857475e-07\n",
      "6.718198076305282e-07\n",
      "6.498291155043458e-07\n",
      "6.284271607891793e-07\n",
      "6.08065356227403e-07\n",
      "5.882439615068781e-07\n"
     ]
    }
   ],
   "source": [
    "for xc in sim.xcs:\n",
    "    print(xc.eSlope)"
   ]
  },
  {
   "cell_type": "code",
   "execution_count": null,
   "metadata": {},
   "outputs": [],
   "source": []
  }
 ],
 "metadata": {
  "kernelspec": {
   "display_name": "Python 3.9.12 ('base')",
   "language": "python",
   "name": "python3"
  },
  "language_info": {
   "codemirror_mode": {
    "name": "ipython",
    "version": 3
   },
   "file_extension": ".py",
   "mimetype": "text/x-python",
   "name": "python",
   "nbconvert_exporter": "python",
   "pygments_lexer": "ipython3",
   "version": "3.9.12"
  },
  "orig_nbformat": 4,
  "vscode": {
   "interpreter": {
    "hash": "2e4f07d89bcef8839175736985d4e8cf75ce0fb43bc1431edf121e8f8c897247"
   }
  }
 },
 "nbformat": 4,
 "nbformat_minor": 2
}
