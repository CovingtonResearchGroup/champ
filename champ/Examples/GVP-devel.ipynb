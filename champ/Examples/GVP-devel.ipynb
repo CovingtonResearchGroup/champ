{
 "cells": [
  {
   "cell_type": "code",
   "execution_count": 1,
   "metadata": {},
   "outputs": [
    {
     "name": "stdout",
     "output_type": "stream",
     "text": [
      "%pylab is deprecated, use %matplotlib inline and import the required libraries.\n",
      "Populating the interactive namespace from numpy and matplotlib\n"
     ]
    }
   ],
   "source": [
    "%pylab inline\n",
    "from champ.sim import multiXC\n",
    "from scipy.optimize import root_scalar"
   ]
  },
  {
   "cell_type": "code",
   "execution_count": 2,
   "metadata": {},
   "outputs": [],
   "source": [
    "n = 10\n",
    "x_arr = linspace(0,100,n)\n",
    "z_arr = linspace(0,1,n)\n",
    "sim = multiXC(x_arr,z_arr,0.1, init_radii=2.0)"
   ]
  },
  {
   "cell_type": "code",
   "execution_count": 28,
   "metadata": {},
   "outputs": [
    {
     "data": {
      "text/plain": [
       "0.40084796343254675"
      ]
     },
     "execution_count": 28,
     "metadata": {},
     "output_type": "execute_result"
    }
   ],
   "source": [
    "h0 = sim.z_arr[0] + 0.5\n",
    "hguess = h0+0.1\n",
    "g=9.8\n",
    "f=0.1\n",
    "L = sim.x_arr[1] - sim.x_arr[0]\n",
    "fd_down = h0 - sim.z_arr[0]\n",
    "fd_guess = 0.40084796343254675# WSnew #hguess - sim.z_arr[1]\n",
    "xc_up = sim.xcs[1]\n",
    "xc_down = sim.xcs[0]\n",
    "\n",
    "\n",
    "\n",
    "A_guess = xc_up.calcA(depth=fd_guess)\n",
    "Pw_guess = xc_up.calcP(depth=fd_guess)\n",
    "K_guess = A_guess * np.sqrt(2*g*(4*A_guess/Pw_guess)/f)\n",
    "S_f_guess = sim.Q_w**2 / K_guess\n",
    "h_e_guess = S_f_guess * L\n",
    "\n",
    "\n",
    "A_down = xc_down.calcA(depth=fd_down)\n",
    "Pw_down = xc_down.calcP(depth=fd_down)\n",
    "\n",
    "\n",
    "V_down = sim.Q_w/A_down\n",
    "V_up_guess = sim.Q_w/A_guess\n",
    "\n",
    "V_head_down = V_down**2/(2*g)\n",
    "V_head_up_guess = V_up_guess**2/(2*g)\n",
    "\n",
    "fd_calc_from_guess = sim.z_arr[0] - sim.z_arr[1] + fd_down + V_head_down - V_head_up_guess + h_e_guess\n",
    "fd_calc_from_guess"
   ]
  },
  {
   "cell_type": "code",
   "execution_count": 20,
   "metadata": {},
   "outputs": [
    {
     "data": {
      "text/plain": [
       "0.4248353727310991"
      ]
     },
     "execution_count": 20,
     "metadata": {},
     "output_type": "execute_result"
    }
   ],
   "source": [
    "WSnew = fd_guess + 0.7 * (fd_calc_from_guess - fd_guess)\n",
    "WSnew"
   ]
  },
  {
   "cell_type": "code",
   "execution_count": 7,
   "metadata": {},
   "outputs": [
    {
     "data": {
      "text/plain": [
       "-1.399990209518333"
      ]
     },
     "execution_count": 7,
     "metadata": {},
     "output_type": "execute_result"
    }
   ],
   "source": []
  },
  {
   "cell_type": "code",
   "execution_count": 31,
   "metadata": {},
   "outputs": [],
   "source": [
    "def fd_res(fd_guess):\n",
    "    A_guess = xc_up.calcA(depth=fd_guess)\n",
    "    Pw_guess = xc_up.calcP(depth=fd_guess)\n",
    "    K_guess = A_guess * np.sqrt(2*g*(4*A_guess/Pw_guess)/f)\n",
    "    # S_f_guess = sim.Q_w**2 / K_guess\n",
    "\n",
    "\n",
    "    A_down = xc_down.calcA(depth=fd_down)\n",
    "    Pw_down = xc_down.calcP(depth=fd_down)\n",
    "    K_down = A_down * np.sqrt(2*g*(4*A_down/Pw_down)/f)\n",
    "\n",
    "    S_f_guess = (2 * sim.Q_w / (K_down + K_guess) )**2\n",
    "    h_e_guess = S_f_guess * L\n",
    "\n",
    "    V_down = sim.Q_w/A_down\n",
    "    V_up_guess = sim.Q_w/A_guess\n",
    "\n",
    "    V_head_down = V_down**2/(2*g)\n",
    "    V_head_up_guess = V_up_guess**2/(2*g)\n",
    "\n",
    "    fd_calc_from_guess = sim.z_arr[0] - sim.z_arr[1] + fd_down + V_head_down - V_head_up_guess + h_e_guess\n",
    "    return fd_guess - fd_calc_from_guess"
   ]
  },
  {
   "cell_type": "code",
   "execution_count": 32,
   "metadata": {},
   "outputs": [],
   "source": [
    "sol = root_scalar(fd_res, x0=0.4, x1=0.35)"
   ]
  },
  {
   "cell_type": "code",
   "execution_count": 33,
   "metadata": {},
   "outputs": [
    {
     "data": {
      "text/plain": [
       "0.3890728672941937"
      ]
     },
     "execution_count": 33,
     "metadata": {},
     "output_type": "execute_result"
    }
   ],
   "source": [
    "sol.root"
   ]
  },
  {
   "cell_type": "code",
   "execution_count": null,
   "metadata": {},
   "outputs": [],
   "source": []
  }
 ],
 "metadata": {
  "kernelspec": {
   "display_name": "Python 3.9.12 ('base')",
   "language": "python",
   "name": "python3"
  },
  "language_info": {
   "codemirror_mode": {
    "name": "ipython",
    "version": 3
   },
   "file_extension": ".py",
   "mimetype": "text/x-python",
   "name": "python",
   "nbconvert_exporter": "python",
   "pygments_lexer": "ipython3",
   "version": "3.9.12"
  },
  "orig_nbformat": 4,
  "vscode": {
   "interpreter": {
    "hash": "2e4f07d89bcef8839175736985d4e8cf75ce0fb43bc1431edf121e8f8c897247"
   }
  }
 },
 "nbformat": 4,
 "nbformat_minor": 2
}
