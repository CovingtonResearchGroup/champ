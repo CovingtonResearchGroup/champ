version https://git-lfs.github.com/spec/v1
oid sha256:ccc428e98e16ea0f355ff37c7d602ebcf54017afdeec2c878e6f750e629771a0
size 1505885
