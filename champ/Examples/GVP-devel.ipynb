{
 "cells": [
  {
   "cell_type": "code",
   "execution_count": 1,
   "metadata": {},
   "outputs": [
    {
     "name": "stdout",
     "output_type": "stream",
     "text": [
      "%pylab is deprecated, use %matplotlib inline and import the required libraries.\n",
      "Populating the interactive namespace from numpy and matplotlib\n"
     ]
    }
   ],
   "source": [
    "%pylab inline\n",
    "from champ.sim import multiXC, multiXCGVP\n",
    "from scipy.optimize import root_scalar"
   ]
  },
  {
   "cell_type": "code",
   "execution_count": 1,
   "metadata": {},
   "outputs": [
    {
     "ename": "NameError",
     "evalue": "name 'linspace' is not defined",
     "output_type": "error",
     "traceback": [
      "\u001b[0;31m---------------------------------------------------------------------------\u001b[0m",
      "\u001b[0;31mNameError\u001b[0m                                 Traceback (most recent call last)",
      "\u001b[1;32m/home/mcoving/github/champ/champ/Examples/GVP-devel.ipynb Cell 2\u001b[0m in \u001b[0;36m<cell line: 2>\u001b[0;34m()\u001b[0m\n\u001b[1;32m      <a href='vscode-notebook-cell:/home/mcoving/github/champ/champ/Examples/GVP-devel.ipynb#W1sZmlsZQ%3D%3D?line=0'>1</a>\u001b[0m n \u001b[39m=\u001b[39m \u001b[39m10\u001b[39m\n\u001b[0;32m----> <a href='vscode-notebook-cell:/home/mcoving/github/champ/champ/Examples/GVP-devel.ipynb#W1sZmlsZQ%3D%3D?line=1'>2</a>\u001b[0m x_arr \u001b[39m=\u001b[39m linspace(\u001b[39m0\u001b[39m,\u001b[39m100\u001b[39m,n)\n\u001b[1;32m      <a href='vscode-notebook-cell:/home/mcoving/github/champ/champ/Examples/GVP-devel.ipynb#W1sZmlsZQ%3D%3D?line=2'>3</a>\u001b[0m z_arr \u001b[39m=\u001b[39m linspace(\u001b[39m0\u001b[39m,\u001b[39m1\u001b[39m,n)\n\u001b[1;32m      <a href='vscode-notebook-cell:/home/mcoving/github/champ/champ/Examples/GVP-devel.ipynb#W1sZmlsZQ%3D%3D?line=3'>4</a>\u001b[0m sim \u001b[39m=\u001b[39m multiXC(x_arr,z_arr,\u001b[39m0.1\u001b[39m, init_radii\u001b[39m=\u001b[39m\u001b[39m2.0\u001b[39m)\n",
      "\u001b[0;31mNameError\u001b[0m: name 'linspace' is not defined"
     ]
    }
   ],
   "source": [
    "n = 10\n",
    "x_arr = linspace(0,100,n)\n",
    "z_arr = linspace(0,1,n)\n",
    "sim = multiXC(x_arr,z_arr,0.1, init_radii=2.0)"
   ]
  },
  {
   "cell_type": "code",
   "execution_count": 28,
   "metadata": {},
   "outputs": [
    {
     "data": {
      "text/plain": [
       "0.40084796343254675"
      ]
     },
     "execution_count": 28,
     "metadata": {},
     "output_type": "execute_result"
    }
   ],
   "source": [
    "h0 = sim.z_arr[0] + 0.5\n",
    "hguess = h0+0.1\n",
    "g=9.8\n",
    "f=0.1\n",
    "L = sim.x_arr[1] - sim.x_arr[0]\n",
    "fd_down = h0 - sim.z_arr[0]\n",
    "fd_guess = 0.40084796343254675# WSnew #hguess - sim.z_arr[1]\n",
    "xc_up = sim.xcs[1]\n",
    "xc_down = sim.xcs[0]\n",
    "\n",
    "\n",
    "\n",
    "A_guess = xc_up.calcA(depth=fd_guess)\n",
    "Pw_guess = xc_up.calcP(depth=fd_guess)\n",
    "K_guess = A_guess * np.sqrt(2*g*(4*A_guess/Pw_guess)/f)\n",
    "S_f_guess = sim.Q_w**2 / K_guess\n",
    "h_e_guess = S_f_guess * L\n",
    "\n",
    "\n",
    "A_down = xc_down.calcA(depth=fd_down)\n",
    "Pw_down = xc_down.calcP(depth=fd_down)\n",
    "\n",
    "\n",
    "V_down = sim.Q_w/A_down\n",
    "V_up_guess = sim.Q_w/A_guess\n",
    "\n",
    "V_head_down = V_down**2/(2*g)\n",
    "V_head_up_guess = V_up_guess**2/(2*g)\n",
    "\n",
    "fd_calc_from_guess = sim.z_arr[0] - sim.z_arr[1] + fd_down + V_head_down - V_head_up_guess + h_e_guess\n",
    "fd_calc_from_guess"
   ]
  },
  {
   "cell_type": "code",
   "execution_count": 20,
   "metadata": {},
   "outputs": [
    {
     "data": {
      "text/plain": [
       "0.4248353727310991"
      ]
     },
     "execution_count": 20,
     "metadata": {},
     "output_type": "execute_result"
    }
   ],
   "source": [
    "WSnew = fd_guess + 0.7 * (fd_calc_from_guess - fd_guess)\n",
    "WSnew"
   ]
  },
  {
   "cell_type": "code",
   "execution_count": 7,
   "metadata": {},
   "outputs": [
    {
     "data": {
      "text/plain": [
       "-1.399990209518333"
      ]
     },
     "execution_count": 7,
     "metadata": {},
     "output_type": "execute_result"
    }
   ],
   "source": []
  },
  {
   "cell_type": "code",
   "execution_count": 31,
   "metadata": {},
   "outputs": [],
   "source": [
    "def fd_res(fd_guess):\n",
    "    A_guess = xc_up.calcA(depth=fd_guess)\n",
    "    Pw_guess = xc_up.calcP(depth=fd_guess)\n",
    "    K_guess = A_guess * np.sqrt(2*g*(4*A_guess/Pw_guess)/f)\n",
    "    # S_f_guess = sim.Q_w**2 / K_guess\n",
    "\n",
    "\n",
    "    A_down = xc_down.calcA(depth=fd_down)\n",
    "    Pw_down = xc_down.calcP(depth=fd_down)\n",
    "    K_down = A_down * np.sqrt(2*g*(4*A_down/Pw_down)/f)\n",
    "\n",
    "    S_f_guess = (2 * sim.Q_w / (K_down + K_guess) )**2\n",
    "    h_e_guess = S_f_guess * L\n",
    "\n",
    "    V_down = sim.Q_w/A_down\n",
    "    V_up_guess = sim.Q_w/A_guess\n",
    "\n",
    "    V_head_down = V_down**2/(2*g)\n",
    "    V_head_up_guess = V_up_guess**2/(2*g)\n",
    "\n",
    "    fd_calc_from_guess = sim.z_arr[0] - sim.z_arr[1] + fd_down + V_head_down - V_head_up_guess + h_e_guess\n",
    "    return fd_guess - fd_calc_from_guess"
   ]
  },
  {
   "cell_type": "code",
   "execution_count": 34,
   "metadata": {},
   "outputs": [],
   "source": [
    "sol = root_scalar(fd_res, x0=0.4, x1=0.45)"
   ]
  },
  {
   "cell_type": "code",
   "execution_count": 35,
   "metadata": {},
   "outputs": [
    {
     "data": {
      "text/plain": [
       "0.3890728672941937"
      ]
     },
     "execution_count": 35,
     "metadata": {},
     "output_type": "execute_result"
    }
   ],
   "source": [
    "sol.root"
   ]
  },
  {
   "cell_type": "code",
   "execution_count": 12,
   "metadata": {},
   "outputs": [],
   "source": [
    "n = 10\n",
    "x_arr = linspace(0,1000,n)\n",
    "z_arr = linspace(0,5,n)\n",
    "sim = multiXCGVP(x_arr,z_arr,0.1, init_radii=2.0)"
   ]
  },
  {
   "cell_type": "code",
   "execution_count": 3,
   "metadata": {},
   "outputs": [
    {
     "name": "stderr",
     "output_type": "stream",
     "text": [
      "/home/mcoving/anaconda3/lib/python3.9/site-packages/champ-0.2-py3.9-linux-x86_64.egg/champ/crossSection.py:366: RuntimeWarning: divide by zero encountered in double_scalars\n",
      "  self.psi = g * self.eSlope / sum\n",
      "/home/mcoving/anaconda3/lib/python3.9/site-packages/champ-0.2-py3.9-linux-x86_64.egg/champ/crossSection.py:341: RuntimeWarning: invalid value encountered in multiply\n",
      "  self.T_b = psi * rho_w * Awet * vgrad2\n"
     ]
    }
   ],
   "source": [
    "sim.run_one_step()"
   ]
  },
  {
   "cell_type": "code",
   "execution_count": 13,
   "metadata": {},
   "outputs": [
    {
     "ename": "IndexError",
     "evalue": "index 0 is out of bounds for axis 0 with size 0",
     "output_type": "error",
     "traceback": [
      "\u001b[0;31m---------------------------------------------------------------------------\u001b[0m",
      "\u001b[0;31mIndexError\u001b[0m                                Traceback (most recent call last)",
      "\u001b[1;32m/home/mcoving/github/champ/champ/Examples/GVP-devel.ipynb Cell 11\u001b[0m in \u001b[0;36m<cell line: 1>\u001b[0;34m()\u001b[0m\n\u001b[0;32m----> <a href='vscode-notebook-cell:/home/mcoving/github/champ/champ/Examples/GVP-devel.ipynb#X13sZmlsZQ%3D%3D?line=0'>1</a>\u001b[0m sim\u001b[39m.\u001b[39;49mcalc_flow()\n",
      "File \u001b[0;32m~/anaconda3/lib/python3.9/site-packages/champ-0.2-py3.9-linux-x86_64.egg/champ/sim.py:650\u001b[0m, in \u001b[0;36mmultiXCGVP.calc_flow\u001b[0;34m(self)\u001b[0m\n\u001b[1;32m    648\u001b[0m \u001b[39mself\u001b[39m\u001b[39m.\u001b[39mV_w[i] \u001b[39m=\u001b[39m \u001b[39m-\u001b[39m\u001b[39mself\u001b[39m\u001b[39m.\u001b[39mQ_w \u001b[39m/\u001b[39m \u001b[39mself\u001b[39m\u001b[39m.\u001b[39mA_w[i]\n\u001b[1;32m    649\u001b[0m \u001b[39mself\u001b[39m\u001b[39m.\u001b[39mD_H_w[i] \u001b[39m=\u001b[39m \u001b[39m4\u001b[39m \u001b[39m*\u001b[39m \u001b[39mself\u001b[39m\u001b[39m.\u001b[39mA_w[i] \u001b[39m/\u001b[39m \u001b[39mself\u001b[39m\u001b[39m.\u001b[39mP_w[i]\n\u001b[0;32m--> 650\u001b[0m L, R \u001b[39m=\u001b[39m xc\u001b[39m.\u001b[39;49mfindLR(\u001b[39mself\u001b[39;49m\u001b[39m.\u001b[39;49mfd_mids[i])\n\u001b[1;32m    651\u001b[0m \u001b[39mself\u001b[39m\u001b[39m.\u001b[39mW[i] \u001b[39m=\u001b[39m xc\u001b[39m.\u001b[39mx[R] \u001b[39m-\u001b[39m xc\u001b[39m.\u001b[39mx[L]\n\u001b[1;32m    652\u001b[0m \u001b[39m# Set water line in cross-section object\u001b[39;00m\n",
      "File \u001b[0;32m~/anaconda3/lib/python3.9/site-packages/champ-0.2-py3.9-linux-x86_64.egg/champ/crossSection.py:224\u001b[0m, in \u001b[0;36mCrossSection.findLR\u001b[0;34m(self, h)\u001b[0m\n\u001b[1;32m    222\u001b[0m condL \u001b[39m=\u001b[39m logical_and(\u001b[39mself\u001b[39m\u001b[39m.\u001b[39my \u001b[39m>\u001b[39m a_h, a_h \u001b[39m>\u001b[39m\u001b[39m=\u001b[39m \u001b[39mself\u001b[39m\u001b[39m.\u001b[39myp)\n\u001b[1;32m    223\u001b[0m condR \u001b[39m=\u001b[39m logical_and(\u001b[39mself\u001b[39m\u001b[39m.\u001b[39my \u001b[39m<\u001b[39m a_h, a_h \u001b[39m<\u001b[39m\u001b[39m=\u001b[39m \u001b[39mself\u001b[39m\u001b[39m.\u001b[39myp)\n\u001b[0;32m--> 224\u001b[0m L \u001b[39m=\u001b[39m where(condL)[\u001b[39m0\u001b[39;49m][\u001b[39m0\u001b[39;49m] \u001b[39m+\u001b[39m \u001b[39m1\u001b[39m\n\u001b[1;32m    225\u001b[0m R \u001b[39m=\u001b[39m where(condR)[\u001b[39m0\u001b[39m][\u001b[39m0\u001b[39m]\n\u001b[1;32m    226\u001b[0m \u001b[39mreturn\u001b[39;00m L, R\n",
      "\u001b[0;31mIndexError\u001b[0m: index 0 is out of bounds for axis 0 with size 0"
     ]
    }
   ],
   "source": [
    "sim.calc_flow()"
   ]
  },
  {
   "cell_type": "code",
   "execution_count": 14,
   "metadata": {},
   "outputs": [
    {
     "data": {
      "text/plain": [
       "[<matplotlib.lines.Line2D at 0x7f5aa4bcfbe0>]"
      ]
     },
     "execution_count": 14,
     "metadata": {},
     "output_type": "execute_result"
    },
    {
     "data": {
      "image/png": "[encoded data removed]",
      "text/plain": [
       "<Figure size 432x288 with 1 Axes>"
      ]
     },
     "metadata": {
      "needs_background": "light"
     },
     "output_type": "display_data"
    }
   ],
   "source": [
    "plot(sim.x_arr, sim.h)\n",
    "plot(sim.x_arr, sim.z_arr)"
   ]
  },
  {
   "cell_type": "code",
   "execution_count": 11,
   "metadata": {},
   "outputs": [
    {
     "data": {
      "text/plain": [
       "7.688804915842009e-05"
      ]
     },
     "execution_count": 11,
     "metadata": {},
     "output_type": "execute_result"
    }
   ],
   "source": [
    "sim.xcs[1].eSlope"
   ]
  },
  {
   "cell_type": "code",
   "execution_count": null,
   "metadata": {},
   "outputs": [],
   "source": []
  }
 ],
 "metadata": {
  "kernelspec": {
   "display_name": "Python 3.9.12 ('base')",
   "language": "python",
   "name": "python3"
  },
  "language_info": {
   "codemirror_mode": {
    "name": "ipython",
    "version": 3
   },
   "file_extension": ".py",
   "mimetype": "text/x-python",
   "name": "python",
   "nbconvert_exporter": "python",
   "pygments_lexer": "ipython3",
   "version": "3.9.12"
  },
  "orig_nbformat": 4,
  "vscode": {
   "interpreter": {
    "hash": "2e4f07d89bcef8839175736985d4e8cf75ce0fb43bc1431edf121e8f8c897247"
   }
  }
 },
 "nbformat": 4,
 "nbformat_minor": 2
}
