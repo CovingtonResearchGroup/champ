version https://git-lfs.github.com/spec/v1
oid sha256:fcf2fcaa2362696ddb7d2bd9b0caabc62632b5ca2181d5ae9f23102ced7316b9
size 102975
