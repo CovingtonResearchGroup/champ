version https://git-lfs.github.com/spec/v1
oid sha256:2eccff4927fcc8b4577f28ffbb8767357c7944b0ea1cff8731f35e3d7a146b6a
size 381746
