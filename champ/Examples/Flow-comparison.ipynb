version https://git-lfs.github.com/spec/v1
oid sha256:130ab97b1fd86b28fde4e76e791a824b1ea2a57a6aad1893f205a6613a51ea13
size 316185
