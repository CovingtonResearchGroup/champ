{
 "cells": [
  {
   "cell_type": "code",
   "execution_count": 63,
   "metadata": {},
   "outputs": [
    {
     "name": "stdout",
     "output_type": "stream",
     "text": [
      "%pylab is deprecated, use %matplotlib inline and import the required libraries.\n",
      "Populating the interactive namespace from numpy and matplotlib\n"
     ]
    }
   ],
   "source": [
    "%pylab inline\n",
    "import pickle\n",
    "import os.path"
   ]
  },
  {
   "cell_type": "code",
   "execution_count": 64,
   "metadata": {},
   "outputs": [],
   "source": [
    "base_dir = '/home/mcoving/ChampOutputs/flow-comparison/'\n",
    "color_dict = {\n",
    "    'GVF':'tab:blue', 'Normal':'tab:orange', 'Original':'tab:green',\n",
    "    'GVF-high':'tab:blue', 'Normal-high':'tab:orange', 'Original-high':'tab:green',\n",
    "    'GVF-25':'tab:red', 'GVF-spim':'tab:red', 'Normal-spim':'tab:green'\n",
    "             }\n",
    "\n",
    "def load_sims(snapshot, \n",
    "              dirs=['gvf-figs', 'norm-figs', 'orig-figs'],\n",
    "              names=['GVF', 'Normal', 'Original'],\n",
    "              base_dir=base_dir):\n",
    "    timestep_str = \"%08d\" % (snapshot)\n",
    "    snapfilename = 'snapshot-' + timestep_str + '.pkl'\n",
    "    simdir = {}\n",
    "    for i, dir in enumerate(dirs):\n",
    "        try:\n",
    "            snapfile = open(os.path.join(base_dir, dir, snapfilename), 'rb')\n",
    "            sim = pickle.load(snapfile)\n",
    "            snapfile.close()\n",
    "            simdir[names[i]] = sim\n",
    "        except OSError as e:\n",
    "            print('No such snapshot file.')\n",
    "    return simdir\n",
    "\n",
    "\n",
    "def plot_sim_profiles(sims, with_head=True):\n",
    "    legend_list = []\n",
    "    \n",
    "  \n",
    "    for sim_name in sims.keys():\n",
    "        sim = sims[sim_name]\n",
    "        x = sim.x_arr\n",
    "        plot(x, sim.z_arr, color=color_dict[sim_name])\n",
    "        legend_list.append('Z '+ sim_name)\n",
    "        if with_head:\n",
    "            plot(x, sim.h, '--', color=color_dict[sim_name])\n",
    "            legend_list.append('h '+ sim_name)\n",
    "     \n",
    "    legend(legend_list)\n",
    "    xlabel('X position (m)')\n",
    "    ylabel('Elevation (m)')\n",
    "    tight_layout()\n",
    "    #show()\n",
    "\n",
    "def plot_sim_width(sims):\n",
    "    legend_list = []    \n",
    "    for sim_name in sims.keys():\n",
    "        sim = sims[sim_name]\n",
    "        x = sim.x_arr\n",
    "        if len(x) > len(sim.W):\n",
    "            x = x[1:]\n",
    "        plot(x, sim.W, color=color_dict[sim_name])\n",
    "        legend_list.append(sim_name)\n",
    "  \n",
    "    legend(legend_list)\n",
    "    xlabel('X position (m)')\n",
    "    ylabel('Channel Width (m)')\n",
    "    tight_layout()    \n",
    "    #show()\n",
    "\n",
    "\n",
    "def plot_sim_slope(sims):\n",
    "    legend_list = []\n",
    "    for sim_name in sims.keys():\n",
    "        sim = sims[sim_name]\n",
    "        x = sim.x_arr\n",
    "#        if len(x) > len(sim.slopes):\n",
    "#            x = x[1:]\n",
    "        semilogy(x[1:], sim.slopes, color=color_dict[sim_name])\n",
    "        legend_list.append(sim_name)\n",
    "  \n",
    "    legend(legend_list)\n",
    "    xlabel('X position (m)')\n",
    "    ylabel('Bed Slope')\n",
    "    tight_layout() \n",
    "    #show()\n",
    "   \n",
    "    "
   ]
  },
  {
   "cell_type": "code",
   "execution_count": 3,
   "metadata": {},
   "outputs": [
    {
     "name": "stdout",
     "output_type": "stream",
     "text": [
      "No such snapshot file.\n",
      "No such snapshot file.\n",
      "No such snapshot file.\n",
      "No such snapshot file.\n",
      "No such snapshot file.\n",
      "No such snapshot file.\n",
      "No such snapshot file.\n",
      "No such snapshot file.\n",
      "No such snapshot file.\n",
      "No such snapshot file.\n",
      "No such snapshot file.\n",
      "No such snapshot file.\n",
      "No such snapshot file.\n",
      "No such snapshot file.\n",
      "No such snapshot file.\n",
      "No such snapshot file.\n",
      "No such snapshot file.\n",
      "No such snapshot file.\n",
      "No such snapshot file.\n",
      "No such snapshot file.\n",
      "No such snapshot file.\n",
      "No such snapshot file.\n",
      "No such snapshot file.\n",
      "No such snapshot file.\n",
      "No such snapshot file.\n",
      "No such snapshot file.\n",
      "No such snapshot file.\n",
      "No such snapshot file.\n",
      "No such snapshot file.\n",
      "No such snapshot file.\n",
      "No such snapshot file.\n",
      "No such snapshot file.\n",
      "No such snapshot file.\n",
      "No such snapshot file.\n",
      "No such snapshot file.\n",
      "No such snapshot file.\n",
      "No such snapshot file.\n",
      "No such snapshot file.\n",
      "No such snapshot file.\n",
      "No such snapshot file.\n",
      "No such snapshot file.\n",
      "No such snapshot file.\n",
      "No such snapshot file.\n",
      "No such snapshot file.\n",
      "No such snapshot file.\n",
      "No such snapshot file.\n",
      "No such snapshot file.\n",
      "No such snapshot file.\n",
      "No such snapshot file.\n",
      "No such snapshot file.\n",
      "No such snapshot file.\n",
      "No such snapshot file.\n",
      "No such snapshot file.\n",
      "No such snapshot file.\n",
      "No such snapshot file.\n",
      "No such snapshot file.\n",
      "No such snapshot file.\n",
      "No such snapshot file.\n",
      "No such snapshot file.\n",
      "No such snapshot file.\n",
      "No such snapshot file.\n",
      "No such snapshot file.\n",
      "No such snapshot file.\n",
      "No such snapshot file.\n",
      "No such snapshot file.\n",
      "No such snapshot file.\n",
      "No such snapshot file.\n",
      "No such snapshot file.\n",
      "No such snapshot file.\n",
      "No such snapshot file.\n",
      "No such snapshot file.\n",
      "No such snapshot file.\n",
      "No such snapshot file.\n",
      "No such snapshot file.\n",
      "No such snapshot file.\n",
      "No such snapshot file.\n",
      "No such snapshot file.\n",
      "No such snapshot file.\n",
      "No such snapshot file.\n",
      "No such snapshot file.\n",
      "No such snapshot file.\n",
      "No such snapshot file.\n",
      "No such snapshot file.\n",
      "No such snapshot file.\n",
      "No such snapshot file.\n",
      "No such snapshot file.\n",
      "No such snapshot file.\n",
      "No such snapshot file.\n",
      "No such snapshot file.\n",
      "No such snapshot file.\n",
      "No such snapshot file.\n",
      "No such snapshot file.\n",
      "No such snapshot file.\n",
      "No such snapshot file.\n",
      "No such snapshot file.\n",
      "No such snapshot file.\n",
      "No such snapshot file.\n",
      "No such snapshot file.\n",
      "No such snapshot file.\n",
      "No such snapshot file.\n",
      "No such snapshot file.\n",
      "No such snapshot file.\n",
      "No such snapshot file.\n",
      "No such snapshot file.\n",
      "No such snapshot file.\n",
      "No such snapshot file.\n",
      "No such snapshot file.\n",
      "No such snapshot file.\n",
      "No such snapshot file.\n",
      "No such snapshot file.\n",
      "No such snapshot file.\n",
      "No such snapshot file.\n",
      "No such snapshot file.\n",
      "No such snapshot file.\n",
      "No such snapshot file.\n",
      "No such snapshot file.\n",
      "No such snapshot file.\n",
      "No such snapshot file.\n",
      "No such snapshot file.\n",
      "No such snapshot file.\n",
      "No such snapshot file.\n",
      "No such snapshot file.\n",
      "No such snapshot file.\n",
      "No such snapshot file.\n",
      "No such snapshot file.\n",
      "No such snapshot file.\n",
      "No such snapshot file.\n",
      "No such snapshot file.\n",
      "No such snapshot file.\n",
      "No such snapshot file.\n",
      "No such snapshot file.\n",
      "No such snapshot file.\n",
      "No such snapshot file.\n",
      "No such snapshot file.\n",
      "No such snapshot file.\n",
      "No such snapshot file.\n",
      "No such snapshot file.\n",
      "No such snapshot file.\n",
      "No such snapshot file.\n",
      "No such snapshot file.\n",
      "No such snapshot file.\n",
      "No such snapshot file.\n",
      "No such snapshot file.\n",
      "No such snapshot file.\n",
      "No such snapshot file.\n",
      "No such snapshot file.\n",
      "No such snapshot file.\n",
      "No such snapshot file.\n",
      "No such snapshot file.\n",
      "No such snapshot file.\n",
      "No such snapshot file.\n",
      "No such snapshot file.\n",
      "No such snapshot file.\n",
      "No such snapshot file.\n",
      "No such snapshot file.\n",
      "No such snapshot file.\n",
      "No such snapshot file.\n",
      "No such snapshot file.\n",
      "No such snapshot file.\n",
      "No such snapshot file.\n",
      "No such snapshot file.\n",
      "No such snapshot file.\n",
      "No such snapshot file.\n",
      "No such snapshot file.\n",
      "No such snapshot file.\n",
      "No such snapshot file.\n",
      "No such snapshot file.\n",
      "No such snapshot file.\n",
      "No such snapshot file.\n",
      "No such snapshot file.\n",
      "No such snapshot file.\n",
      "No such snapshot file.\n",
      "No such snapshot file.\n",
      "No such snapshot file.\n",
      "No such snapshot file.\n",
      "No such snapshot file.\n",
      "No such snapshot file.\n",
      "No such snapshot file.\n",
      "No such snapshot file.\n",
      "No such snapshot file.\n",
      "No such snapshot file.\n",
      "No such snapshot file.\n",
      "No such snapshot file.\n",
      "No such snapshot file.\n",
      "No such snapshot file.\n",
      "No such snapshot file.\n",
      "No such snapshot file.\n",
      "No such snapshot file.\n",
      "No such snapshot file.\n",
      "No such snapshot file.\n",
      "No such snapshot file.\n",
      "No such snapshot file.\n",
      "No such snapshot file.\n",
      "No such snapshot file.\n",
      "No such snapshot file.\n",
      "No such snapshot file.\n",
      "No such snapshot file.\n",
      "No such snapshot file.\n",
      "No such snapshot file.\n",
      "No such snapshot file.\n",
      "No such snapshot file.\n",
      "No such snapshot file.\n",
      "No such snapshot file.\n",
      "No such snapshot file.\n",
      "No such snapshot file.\n",
      "No such snapshot file.\n",
      "No such snapshot file.\n",
      "No such snapshot file.\n",
      "No such snapshot file.\n",
      "No such snapshot file.\n",
      "No such snapshot file.\n",
      "No such snapshot file.\n",
      "No such snapshot file.\n",
      "No such snapshot file.\n",
      "No such snapshot file.\n",
      "No such snapshot file.\n",
      "No such snapshot file.\n",
      "No such snapshot file.\n",
      "No such snapshot file.\n",
      "No such snapshot file.\n",
      "No such snapshot file.\n",
      "No such snapshot file.\n",
      "No such snapshot file.\n",
      "No such snapshot file.\n",
      "No such snapshot file.\n",
      "No such snapshot file.\n",
      "No such snapshot file.\n",
      "No such snapshot file.\n",
      "No such snapshot file.\n",
      "No such snapshot file.\n",
      "No such snapshot file.\n",
      "No such snapshot file.\n",
      "No such snapshot file.\n",
      "No such snapshot file.\n",
      "No such snapshot file.\n",
      "No such snapshot file.\n",
      "No such snapshot file.\n",
      "No such snapshot file.\n",
      "No such snapshot file.\n",
      "No such snapshot file.\n",
      "No such snapshot file.\n",
      "No such snapshot file.\n",
      "No such snapshot file.\n",
      "No such snapshot file.\n",
      "No such snapshot file.\n",
      "No such snapshot file.\n",
      "No such snapshot file.\n",
      "No such snapshot file.\n",
      "No such snapshot file.\n",
      "No such snapshot file.\n",
      "No such snapshot file.\n",
      "No such snapshot file.\n",
      "No such snapshot file.\n",
      "No such snapshot file.\n",
      "No such snapshot file.\n",
      "No such snapshot file.\n",
      "No such snapshot file.\n",
      "No such snapshot file.\n",
      "No such snapshot file.\n",
      "No such snapshot file.\n",
      "No such snapshot file.\n",
      "No such snapshot file.\n",
      "No such snapshot file.\n",
      "No such snapshot file.\n",
      "No such snapshot file.\n",
      "No such snapshot file.\n",
      "No such snapshot file.\n",
      "No such snapshot file.\n",
      "No such snapshot file.\n",
      "No such snapshot file.\n",
      "No such snapshot file.\n",
      "No such snapshot file.\n",
      "No such snapshot file.\n",
      "No such snapshot file.\n",
      "No such snapshot file.\n",
      "No such snapshot file.\n",
      "No such snapshot file.\n",
      "No such snapshot file.\n",
      "No such snapshot file.\n",
      "No such snapshot file.\n",
      "No such snapshot file.\n"
     ]
    }
   ],
   "source": [
    "ioff()\n",
    "for i in arange(1,201):\n",
    "    snapnum = i*1000\n",
    "    sims = load_sims(snapnum,\n",
    "                     dirs=['gvf-figs', 'norm-figs', 'orig-figs',\n",
    "                           'gvf-n150-figs', 'norm-n150-figs', 'orig-n150-figs'],\n",
    "                     names=['GVF', 'Normal', 'Original',\n",
    "                           'GVF-high', 'Normal-high', 'Original-high'])\n",
    "    figure(figsize=(6,12))\n",
    "    subplot(311)\n",
    "    plot_sim_profiles(sims)\n",
    "    subplot(312)\n",
    "    plot_sim_width(sims)\n",
    "    ylim([0, 5.5])\n",
    "    subplot(313)\n",
    "    plot_sim_slope(sims)\n",
    "    ylim([5e-6, 2e-1])\n",
    "    timestep_str = \"%08d\" % (snapnum)\n",
    "    figpath = os.path.join(base_dir, 'multires-comp-figs', 'Profile-width-comparison-'+timestep_str+'.jpg')\n",
    "    savefig(figpath)\n",
    "    close()\n"
   ]
  },
  {
   "cell_type": "markdown",
   "metadata": {},
   "source": [
    "Comparison of resolutions shows substantive differences for original and normal solvers. GVF solver seems consistent across n=50 and n=150. However, it is much less stable at high res. Trying an example sim at n=25."
   ]
  },
  {
   "cell_type": "code",
   "execution_count": 4,
   "metadata": {},
   "outputs": [],
   "source": [
    "ioff()\n",
    "for i in arange(1,201):\n",
    "    snapnum = i*1000\n",
    "    sims = load_sims(snapnum,\n",
    "                     dirs=['gvf-figs', 'gvf-n25-figs'],\n",
    "                     names=['GVF', 'GVF-25'])\n",
    "    figure(figsize=(6,12))\n",
    "    subplot(311)\n",
    "    plot_sim_profiles(sims)\n",
    "    subplot(312)\n",
    "    plot_sim_width(sims)\n",
    "    ylim([0, 5.5])\n",
    "    subplot(313)\n",
    "    plot_sim_slope(sims)\n",
    "    ylim([5e-6, 2e-1])\n",
    "    timestep_str = \"%08d\" % (snapnum)\n",
    "    figpath = os.path.join(base_dir, 'lowres-gvf-comp-figs', 'Profile-width-comparison-'+timestep_str+'.jpg')\n",
    "    savefig(figpath)\n",
    "    close()\n"
   ]
  },
  {
   "cell_type": "markdown",
   "metadata": {},
   "source": [
    "n=25 and n=50 sims for GVF look quite similar."
   ]
  },
  {
   "cell_type": "code",
   "execution_count": null,
   "metadata": {},
   "outputs": [],
   "source": []
  },
  {
   "cell_type": "code",
   "execution_count": 22,
   "metadata": {},
   "outputs": [
    {
     "data": {
      "image/png": "[encoded data removed]",
      "text/plain": [
       "<Figure size 432x288 with 1 Axes>"
      ]
     },
     "metadata": {
      "needs_background": "light"
     },
     "output_type": "display_data"
    }
   ],
   "source": [
    "sims = load_sims(25000)\n",
    "#plot_sim_width(sims)\n",
    "plot_sim_slope(sims)\n"
   ]
  },
  {
   "cell_type": "code",
   "execution_count": 23,
   "metadata": {},
   "outputs": [
    {
     "data": {
      "image/png": "[encoded data removed]",
      "text/plain": [
       "<Figure size 432x288 with 1 Axes>"
      ]
     },
     "metadata": {
      "needs_background": "light"
     },
     "output_type": "display_data"
    },
    {
     "data": {
      "text/plain": [
       "(-2.0, 1.0)"
      ]
     },
     "execution_count": 23,
     "metadata": {},
     "output_type": "execute_result"
    }
   ],
   "source": [
    "sims = load_sims(8000)\n",
    "plot_sim_profiles(sims)\n",
    "xlim([400,600])\n",
    "ylim([-2,1])"
   ]
  },
  {
   "cell_type": "code",
   "execution_count": 14,
   "metadata": {},
   "outputs": [
    {
     "data": {
      "image/png": "[encoded data removed]",
      "text/plain": [
       "<Figure size 432x288 with 1 Axes>"
      ]
     },
     "metadata": {
      "needs_background": "light"
     },
     "output_type": "display_data"
    }
   ],
   "source": [
    "sims = load_sims(15000)\n",
    "plot_sim_profiles(sims)\n"
   ]
  },
  {
   "cell_type": "code",
   "execution_count": 25,
   "metadata": {},
   "outputs": [
    {
     "data": {
      "image/png": "[encoded data removed]",
      "text/plain": [
       "<Figure size 432x288 with 1 Axes>"
      ]
     },
     "metadata": {
      "needs_background": "light"
     },
     "output_type": "display_data"
    }
   ],
   "source": [
    "sims = load_sims(35000)\n",
    "plot_sim_profiles(sims)"
   ]
  },
  {
   "cell_type": "code",
   "execution_count": 29,
   "metadata": {},
   "outputs": [],
   "source": [
    "ioff()\n",
    "for i in arange(1,201):\n",
    "    snapnum = i*1000\n",
    "    sims = load_sims(snapnum)\n",
    "    figure(figsize=(6,12))\n",
    "    subplot(311)\n",
    "    plot_sim_profiles(sims)\n",
    "    subplot(312)\n",
    "    plot_sim_width(sims)\n",
    "    ylim([0, 5.5])\n",
    "    subplot(313)\n",
    "    plot_sim_slope(sims)\n",
    "    ylim([5e-6, 2e-1])\n",
    "    timestep_str = \"%08d\" % (snapnum)\n",
    "    figpath = os.path.join(base_dir, 'comp-figs', 'Profile-width-comparison-'+timestep_str+'.jpg')\n",
    "    savefig(figpath)\n",
    "    close()"
   ]
  },
  {
   "cell_type": "markdown",
   "metadata": {},
   "source": [
    "Notes: solvers seem to give quite similar results. Biggest differences occur during incision from weak into strong layer. Normal flow and original solver build up steeper knick near bottom as well as deep flow zone in flat spot above knick. Interplay between width and slope produces an oscillation for the normal and original solvers that is not present in GVF solver."
   ]
  },
  {
   "cell_type": "code",
   "execution_count": 88,
   "metadata": {},
   "outputs": [
    {
     "data": {
      "text/plain": [
       "1"
      ]
     },
     "execution_count": 88,
     "metadata": {},
     "output_type": "execute_result"
    }
   ],
   "source": [
    "size(5)"
   ]
  },
  {
   "cell_type": "markdown",
   "metadata": {},
   "source": [
    "Next step. Look at simulations with changing uplift. Need to edit runSim to enable passing a list of uplifts and associating switching times. (runSim now allows this and sims are run)"
   ]
  },
  {
   "cell_type": "code",
   "execution_count": 34,
   "metadata": {},
   "outputs": [
    {
     "name": "stdout",
     "output_type": "stream",
     "text": [
      "No such snapshot file.\n",
      "No such snapshot file.\n",
      "No such snapshot file.\n",
      "No such snapshot file.\n",
      "No such snapshot file.\n",
      "No such snapshot file.\n",
      "No such snapshot file.\n",
      "No such snapshot file.\n",
      "No such snapshot file.\n",
      "No such snapshot file.\n",
      "No such snapshot file.\n",
      "No such snapshot file.\n",
      "No such snapshot file.\n",
      "No such snapshot file.\n",
      "No such snapshot file.\n",
      "No such snapshot file.\n",
      "No such snapshot file.\n",
      "No such snapshot file.\n",
      "No such snapshot file.\n",
      "No such snapshot file.\n",
      "No such snapshot file.\n",
      "No such snapshot file.\n",
      "No such snapshot file.\n",
      "No such snapshot file.\n",
      "No such snapshot file.\n",
      "No such snapshot file.\n",
      "No such snapshot file.\n",
      "No such snapshot file.\n",
      "No such snapshot file.\n",
      "No such snapshot file.\n",
      "No such snapshot file.\n",
      "No such snapshot file.\n",
      "No such snapshot file.\n",
      "No such snapshot file.\n",
      "No such snapshot file.\n",
      "No such snapshot file.\n",
      "No such snapshot file.\n",
      "No such snapshot file.\n",
      "No such snapshot file.\n",
      "No such snapshot file.\n",
      "No such snapshot file.\n",
      "No such snapshot file.\n",
      "No such snapshot file.\n",
      "No such snapshot file.\n",
      "No such snapshot file.\n",
      "No such snapshot file.\n",
      "No such snapshot file.\n",
      "No such snapshot file.\n",
      "No such snapshot file.\n",
      "No such snapshot file.\n",
      "No such snapshot file.\n",
      "No such snapshot file.\n",
      "No such snapshot file.\n",
      "No such snapshot file.\n",
      "No such snapshot file.\n",
      "No such snapshot file.\n",
      "No such snapshot file.\n",
      "No such snapshot file.\n",
      "No such snapshot file.\n",
      "No such snapshot file.\n",
      "No such snapshot file.\n",
      "No such snapshot file.\n",
      "No such snapshot file.\n",
      "No such snapshot file.\n",
      "No such snapshot file.\n",
      "No such snapshot file.\n",
      "No such snapshot file.\n",
      "No such snapshot file.\n",
      "No such snapshot file.\n",
      "No such snapshot file.\n",
      "No such snapshot file.\n",
      "No such snapshot file.\n",
      "No such snapshot file.\n",
      "No such snapshot file.\n",
      "No such snapshot file.\n",
      "No such snapshot file.\n",
      "No such snapshot file.\n",
      "No such snapshot file.\n",
      "No such snapshot file.\n",
      "No such snapshot file.\n",
      "No such snapshot file.\n",
      "No such snapshot file.\n",
      "No such snapshot file.\n",
      "No such snapshot file.\n",
      "No such snapshot file.\n",
      "No such snapshot file.\n",
      "No such snapshot file.\n",
      "No such snapshot file.\n",
      "No such snapshot file.\n",
      "No such snapshot file.\n",
      "No such snapshot file.\n",
      "No such snapshot file.\n",
      "No such snapshot file.\n",
      "No such snapshot file.\n",
      "No such snapshot file.\n",
      "No such snapshot file.\n",
      "No such snapshot file.\n",
      "No such snapshot file.\n",
      "No such snapshot file.\n",
      "No such snapshot file.\n",
      "No such snapshot file.\n",
      "No such snapshot file.\n",
      "No such snapshot file.\n",
      "No such snapshot file.\n",
      "No such snapshot file.\n",
      "No such snapshot file.\n",
      "No such snapshot file.\n",
      "No such snapshot file.\n",
      "No such snapshot file.\n",
      "No such snapshot file.\n",
      "No such snapshot file.\n",
      "No such snapshot file.\n",
      "No such snapshot file.\n",
      "No such snapshot file.\n",
      "No such snapshot file.\n",
      "No such snapshot file.\n",
      "No such snapshot file.\n",
      "No such snapshot file.\n",
      "No such snapshot file.\n",
      "No such snapshot file.\n",
      "No such snapshot file.\n",
      "No such snapshot file.\n",
      "No such snapshot file.\n",
      "No such snapshot file.\n",
      "No such snapshot file.\n",
      "No such snapshot file.\n",
      "No such snapshot file.\n",
      "No such snapshot file.\n",
      "No such snapshot file.\n",
      "No such snapshot file.\n",
      "No such snapshot file.\n",
      "No such snapshot file.\n",
      "No such snapshot file.\n",
      "No such snapshot file.\n",
      "No such snapshot file.\n",
      "No such snapshot file.\n",
      "No such snapshot file.\n",
      "No such snapshot file.\n",
      "No such snapshot file.\n",
      "No such snapshot file.\n",
      "No such snapshot file.\n",
      "No such snapshot file.\n",
      "No such snapshot file.\n",
      "No such snapshot file.\n",
      "No such snapshot file.\n",
      "No such snapshot file.\n",
      "No such snapshot file.\n",
      "No such snapshot file.\n",
      "No such snapshot file.\n",
      "No such snapshot file.\n",
      "No such snapshot file.\n",
      "No such snapshot file.\n",
      "No such snapshot file.\n",
      "No such snapshot file.\n",
      "No such snapshot file.\n",
      "No such snapshot file.\n",
      "No such snapshot file.\n",
      "No such snapshot file.\n",
      "No such snapshot file.\n",
      "No such snapshot file.\n",
      "No such snapshot file.\n",
      "No such snapshot file.\n",
      "No such snapshot file.\n",
      "No such snapshot file.\n",
      "No such snapshot file.\n",
      "No such snapshot file.\n",
      "No such snapshot file.\n",
      "No such snapshot file.\n",
      "No such snapshot file.\n",
      "No such snapshot file.\n",
      "No such snapshot file.\n",
      "No such snapshot file.\n",
      "No such snapshot file.\n",
      "No such snapshot file.\n",
      "No such snapshot file.\n",
      "No such snapshot file.\n",
      "No such snapshot file.\n",
      "No such snapshot file.\n",
      "No such snapshot file.\n",
      "No such snapshot file.\n",
      "No such snapshot file.\n",
      "No such snapshot file.\n",
      "No such snapshot file.\n",
      "No such snapshot file.\n",
      "No such snapshot file.\n",
      "No such snapshot file.\n",
      "No such snapshot file.\n",
      "No such snapshot file.\n",
      "No such snapshot file.\n",
      "No such snapshot file.\n",
      "No such snapshot file.\n",
      "No such snapshot file.\n",
      "No such snapshot file.\n",
      "No such snapshot file.\n",
      "No such snapshot file.\n",
      "No such snapshot file.\n",
      "No such snapshot file.\n",
      "No such snapshot file.\n",
      "No such snapshot file.\n",
      "No such snapshot file.\n",
      "No such snapshot file.\n",
      "No such snapshot file.\n",
      "No such snapshot file.\n",
      "No such snapshot file.\n",
      "No such snapshot file.\n",
      "No such snapshot file.\n",
      "No such snapshot file.\n",
      "No such snapshot file.\n",
      "No such snapshot file.\n",
      "No such snapshot file.\n",
      "No such snapshot file.\n",
      "No such snapshot file.\n",
      "No such snapshot file.\n",
      "No such snapshot file.\n",
      "No such snapshot file.\n",
      "No such snapshot file.\n",
      "No such snapshot file.\n",
      "No such snapshot file.\n",
      "No such snapshot file.\n",
      "No such snapshot file.\n"
     ]
    }
   ],
   "source": [
    "ioff()\n",
    "for i in arange(1,201):\n",
    "    snapnum = i*1000\n",
    "    sims = load_sims(snapnum,\n",
    "                     dirs=['gvf-uplift-figs', 'norm-uplift-figs', 'orig-uplift-figs'],\n",
    "                     names=['GVF', 'Normal', 'Original'], \n",
    "                     base_dir='/home/mcoving/ChampOutputs/from-rene-2022-11-30/')\n",
    "    figure(figsize=(6,12))\n",
    "    subplot(311)\n",
    "    plot_sim_profiles(sims)\n",
    "    subplot(312)\n",
    "    plot_sim_width(sims)\n",
    "    ylim([0, 5.5])\n",
    "    subplot(313)\n",
    "    plot_sim_slope(sims)\n",
    "    ylim([5e-6, 2e-1])\n",
    "    timestep_str = \"%08d\" % (snapnum)\n",
    "    figpath = os.path.join('/home/mcoving/ChampOutputs/from-rene-2022-11-30/', 'uplift-comp-figs', 'Profile-width-comparison-'+timestep_str+'.jpg')\n",
    "    savefig(figpath)\n",
    "    close()"
   ]
  },
  {
   "cell_type": "markdown",
   "metadata": {},
   "source": [
    "Different uplift sims seem pretty similar, though the normal case becomes unstable during second uplift switch. The GVF solver seems to be unstable at the final configuration with width and bed slope interacting in a runaway instability."
   ]
  },
  {
   "cell_type": "code",
   "execution_count": 62,
   "metadata": {},
   "outputs": [
    {
     "name": "stdout",
     "output_type": "stream",
     "text": [
      "No such snapshot file.\n",
      "No such snapshot file.\n",
      "No such snapshot file.\n",
      "No such snapshot file.\n",
      "No such snapshot file.\n",
      "No such snapshot file.\n",
      "No such snapshot file.\n",
      "No such snapshot file.\n",
      "No such snapshot file.\n",
      "No such snapshot file.\n",
      "No such snapshot file.\n",
      "No such snapshot file.\n",
      "No such snapshot file.\n",
      "No such snapshot file.\n",
      "No such snapshot file.\n",
      "No such snapshot file.\n",
      "No such snapshot file.\n",
      "No such snapshot file.\n",
      "No such snapshot file.\n",
      "No such snapshot file.\n",
      "No such snapshot file.\n",
      "No such snapshot file.\n",
      "No such snapshot file.\n",
      "No such snapshot file.\n",
      "No such snapshot file.\n",
      "No such snapshot file.\n",
      "No such snapshot file.\n",
      "No such snapshot file.\n",
      "No such snapshot file.\n",
      "No such snapshot file.\n",
      "No such snapshot file.\n",
      "No such snapshot file.\n",
      "No such snapshot file.\n",
      "No such snapshot file.\n",
      "No such snapshot file.\n",
      "No such snapshot file.\n",
      "No such snapshot file.\n",
      "No such snapshot file.\n",
      "No such snapshot file.\n",
      "No such snapshot file.\n",
      "No such snapshot file.\n",
      "No such snapshot file.\n",
      "No such snapshot file.\n",
      "No such snapshot file.\n",
      "No such snapshot file.\n",
      "No such snapshot file.\n",
      "No such snapshot file.\n",
      "No such snapshot file.\n",
      "No such snapshot file.\n",
      "No such snapshot file.\n",
      "No such snapshot file.\n",
      "No such snapshot file.\n",
      "No such snapshot file.\n",
      "No such snapshot file.\n",
      "No such snapshot file.\n",
      "No such snapshot file.\n",
      "No such snapshot file.\n",
      "No such snapshot file.\n",
      "No such snapshot file.\n",
      "No such snapshot file.\n",
      "No such snapshot file.\n",
      "No such snapshot file.\n",
      "No such snapshot file.\n",
      "No such snapshot file.\n",
      "No such snapshot file.\n",
      "No such snapshot file.\n",
      "No such snapshot file.\n",
      "No such snapshot file.\n",
      "No such snapshot file.\n",
      "No such snapshot file.\n",
      "No such snapshot file.\n",
      "No such snapshot file.\n",
      "No such snapshot file.\n",
      "No such snapshot file.\n",
      "No such snapshot file.\n",
      "No such snapshot file.\n",
      "No such snapshot file.\n",
      "No such snapshot file.\n",
      "No such snapshot file.\n",
      "No such snapshot file.\n",
      "No such snapshot file.\n",
      "No such snapshot file.\n",
      "No such snapshot file.\n",
      "No such snapshot file.\n",
      "No such snapshot file.\n",
      "No such snapshot file.\n",
      "No such snapshot file.\n",
      "No such snapshot file.\n",
      "No such snapshot file.\n",
      "No such snapshot file.\n",
      "No such snapshot file.\n",
      "No such snapshot file.\n",
      "No such snapshot file.\n",
      "No such snapshot file.\n",
      "No such snapshot file.\n",
      "No such snapshot file.\n",
      "No such snapshot file.\n",
      "No such snapshot file.\n",
      "No such snapshot file.\n",
      "No such snapshot file.\n",
      "No such snapshot file.\n",
      "No such snapshot file.\n",
      "No such snapshot file.\n",
      "No such snapshot file.\n",
      "No such snapshot file.\n",
      "No such snapshot file.\n",
      "No such snapshot file.\n",
      "No such snapshot file.\n",
      "No such snapshot file.\n",
      "No such snapshot file.\n",
      "No such snapshot file.\n",
      "No such snapshot file.\n",
      "No such snapshot file.\n",
      "No such snapshot file.\n",
      "No such snapshot file.\n",
      "No such snapshot file.\n",
      "No such snapshot file.\n",
      "No such snapshot file.\n",
      "No such snapshot file.\n",
      "No such snapshot file.\n",
      "No such snapshot file.\n",
      "No such snapshot file.\n",
      "No such snapshot file.\n",
      "No such snapshot file.\n",
      "No such snapshot file.\n",
      "No such snapshot file.\n",
      "No such snapshot file.\n",
      "No such snapshot file.\n",
      "No such snapshot file.\n",
      "No such snapshot file.\n",
      "No such snapshot file.\n",
      "No such snapshot file.\n",
      "No such snapshot file.\n",
      "No such snapshot file.\n",
      "No such snapshot file.\n",
      "No such snapshot file.\n",
      "No such snapshot file.\n",
      "No such snapshot file.\n",
      "No such snapshot file.\n",
      "No such snapshot file.\n",
      "No such snapshot file.\n",
      "No such snapshot file.\n",
      "No such snapshot file.\n",
      "No such snapshot file.\n",
      "No such snapshot file.\n",
      "No such snapshot file.\n",
      "No such snapshot file.\n",
      "No such snapshot file.\n",
      "No such snapshot file.\n",
      "No such snapshot file.\n",
      "No such snapshot file.\n",
      "No such snapshot file.\n",
      "No such snapshot file.\n",
      "No such snapshot file.\n",
      "No such snapshot file.\n",
      "No such snapshot file.\n",
      "No such snapshot file.\n",
      "No such snapshot file.\n",
      "No such snapshot file.\n",
      "No such snapshot file.\n",
      "No such snapshot file.\n",
      "No such snapshot file.\n",
      "No such snapshot file.\n",
      "No such snapshot file.\n",
      "No such snapshot file.\n",
      "No such snapshot file.\n",
      "No such snapshot file.\n",
      "No such snapshot file.\n",
      "No such snapshot file.\n",
      "No such snapshot file.\n",
      "No such snapshot file.\n",
      "No such snapshot file.\n",
      "No such snapshot file.\n",
      "No such snapshot file.\n",
      "No such snapshot file.\n",
      "No such snapshot file.\n",
      "No such snapshot file.\n",
      "No such snapshot file.\n",
      "No such snapshot file.\n",
      "No such snapshot file.\n",
      "No such snapshot file.\n",
      "No such snapshot file.\n",
      "No such snapshot file.\n",
      "No such snapshot file.\n",
      "No such snapshot file.\n",
      "No such snapshot file.\n",
      "No such snapshot file.\n",
      "No such snapshot file.\n",
      "No such snapshot file.\n",
      "No such snapshot file.\n",
      "No such snapshot file.\n",
      "No such snapshot file.\n",
      "No such snapshot file.\n",
      "No such snapshot file.\n",
      "No such snapshot file.\n",
      "No such snapshot file.\n",
      "No such snapshot file.\n",
      "No such snapshot file.\n",
      "No such snapshot file.\n",
      "No such snapshot file.\n",
      "No such snapshot file.\n",
      "No such snapshot file.\n",
      "No such snapshot file.\n",
      "No such snapshot file.\n",
      "No such snapshot file.\n",
      "No such snapshot file.\n",
      "No such snapshot file.\n",
      "No such snapshot file.\n",
      "No such snapshot file.\n",
      "No such snapshot file.\n",
      "No such snapshot file.\n",
      "No such snapshot file.\n",
      "No such snapshot file.\n",
      "No such snapshot file.\n",
      "No such snapshot file.\n",
      "No such snapshot file.\n",
      "No such snapshot file.\n",
      "No such snapshot file.\n",
      "No such snapshot file.\n",
      "No such snapshot file.\n"
     ]
    }
   ],
   "source": [
    "ioff()\n",
    "for i in arange(1,201):\n",
    "    snapnum = i*1000\n",
    "    sims = load_sims(snapnum,\n",
    "                     dirs=['gvf-uplift-figs', 'gvf-uplift-figs/spim', 'norm-uplift-figs'],\n",
    "                     names=['GVF', 'GVF-spim', 'Normal'], \n",
    "                     base_dir='/home/mcoving/ChampOutputs/from-rene-2022-11-30/')\n",
    "    figure(figsize=(6,12))\n",
    "    subplot(311)\n",
    "    plot_sim_profiles(sims, with_head=False)\n",
    "    subplot(312)\n",
    "    only_width = {key: val for key,\n",
    "                  val in sims.items() if not ('spim' in key)}\n",
    "    plot_sim_width(only_width)\n",
    "    ylim([0,4])\n",
    "    subplot(313)\n",
    "    plot_sim_slope(sims)\n",
    "    ylim([5e-6, 2e-1])\n",
    "    timestep_str = \"%08d\" % (snapnum)\n",
    "    figpath = os.path.join('/home/mcoving/ChampOutputs/from-rene-2022-11-30/', 'gvf-uplift-spim-comp-figs', 'Profile-width-comparison-'+timestep_str+'.jpg')\n",
    "    savefig(figpath)\n",
    "    close()"
   ]
  },
  {
   "cell_type": "markdown",
   "metadata": {},
   "source": [
    "Dynamics of width adjusting channels are more diffusive because of non-local effects driven by width adjustment. "
   ]
  },
  {
   "cell_type": "code",
   "execution_count": 64,
   "metadata": {},
   "outputs": [
    {
     "data": {
      "text/plain": [
       "{}"
      ]
     },
     "execution_count": 64,
     "metadata": {},
     "output_type": "execute_result"
    }
   ],
   "source": [
    "sims"
   ]
  },
  {
   "cell_type": "code",
   "execution_count": 1,
   "metadata": {},
   "outputs": [],
   "source": [
    "from champ.viz.make_spim_plots_from_snapshots import *"
   ]
  },
  {
   "cell_type": "code",
   "execution_count": 62,
   "metadata": {},
   "outputs": [
    {
     "data": {
      "text/plain": [
       "{}"
      ]
     },
     "execution_count": 62,
     "metadata": {},
     "output_type": "execute_result"
    }
   ],
   "source": [
    "sims"
   ]
  },
  {
   "cell_type": "code",
   "execution_count": 83,
   "metadata": {},
   "outputs": [
    {
     "name": "stdout",
     "output_type": "stream",
     "text": [
      "1000\n",
      "2000\n",
      "3000\n",
      "4000\n",
      "5000\n",
      "6000\n",
      "7000\n",
      "8000\n",
      "9000\n",
      "10000\n",
      "11000\n",
      "12000\n",
      "13000\n",
      "14000\n",
      "15000\n",
      "16000\n",
      "17000\n",
      "18000\n",
      "19000\n",
      "20000\n",
      "21000\n",
      "22000\n",
      "23000\n",
      "24000\n",
      "25000\n",
      "26000\n",
      "27000\n",
      "28000\n",
      "29000\n",
      "30000\n",
      "31000\n",
      "32000\n",
      "33000\n",
      "34000\n",
      "35000\n",
      "36000\n",
      "37000\n",
      "38000\n",
      "39000\n",
      "40000\n",
      "41000\n",
      "42000\n",
      "43000\n",
      "44000\n",
      "45000\n",
      "46000\n",
      "47000\n",
      "48000\n",
      "49000\n",
      "50000\n",
      "51000\n",
      "52000\n",
      "53000\n",
      "54000\n",
      "55000\n",
      "56000\n",
      "57000\n",
      "58000\n",
      "59000\n",
      "60000\n",
      "61000\n",
      "62000\n",
      "63000\n",
      "64000\n",
      "65000\n",
      "66000\n",
      "67000\n",
      "68000\n",
      "69000\n",
      "70000\n",
      "71000\n",
      "72000\n",
      "73000\n",
      "74000\n",
      "75000\n",
      "76000\n",
      "77000\n",
      "78000\n",
      "79000\n",
      "80000\n",
      "81000\n",
      "No such snapshot file.\n"
     ]
    },
    {
     "ename": "KeyError",
     "evalue": "'Normal'",
     "output_type": "error",
     "traceback": [
      "\u001b[0;31m---------------------------------------------------------------------------\u001b[0m",
      "\u001b[0;31mKeyError\u001b[0m                                  Traceback (most recent call last)",
      "\u001b[1;32m/home/mcoving/github/champ/champ/Examples/Flow-comparison.ipynb Cell 23\u001b[0m in \u001b[0;36m<cell line: 9>\u001b[0;34m()\u001b[0m\n\u001b[1;32m     <a href='vscode-notebook-cell:/home/mcoving/github/champ/champ/Examples/Flow-comparison.ipynb#X42sZmlsZQ%3D%3D?line=16'>17</a>\u001b[0m spim_slopes\u001b[39m.\u001b[39mappend(sims[\u001b[39m'\u001b[39m\u001b[39mGVF-spim\u001b[39m\u001b[39m'\u001b[39m]\u001b[39m.\u001b[39mslopes)\n\u001b[1;32m     <a href='vscode-notebook-cell:/home/mcoving/github/champ/champ/Examples/Flow-comparison.ipynb#X42sZmlsZQ%3D%3D?line=17'>18</a>\u001b[0m widths\u001b[39m.\u001b[39mappend(sims[\u001b[39m'\u001b[39m\u001b[39mGVF\u001b[39m\u001b[39m'\u001b[39m]\u001b[39m.\u001b[39mW)\n\u001b[0;32m---> <a href='vscode-notebook-cell:/home/mcoving/github/champ/champ/Examples/Flow-comparison.ipynb#X42sZmlsZQ%3D%3D?line=18'>19</a>\u001b[0m norm_fd\u001b[39m.\u001b[39mappend(sims[\u001b[39m'\u001b[39;49m\u001b[39mNormal\u001b[39;49m\u001b[39m'\u001b[39;49m]\u001b[39m.\u001b[39mfd_mids)\n\u001b[1;32m     <a href='vscode-notebook-cell:/home/mcoving/github/champ/champ/Examples/Flow-comparison.ipynb#X42sZmlsZQ%3D%3D?line=19'>20</a>\u001b[0m gvf_fd\u001b[39m.\u001b[39mappend(sims[\u001b[39m'\u001b[39m\u001b[39mGVF\u001b[39m\u001b[39m'\u001b[39m]\u001b[39m.\u001b[39mfd)\n\u001b[1;32m     <a href='vscode-notebook-cell:/home/mcoving/github/champ/champ/Examples/Flow-comparison.ipynb#X42sZmlsZQ%3D%3D?line=20'>21</a>\u001b[0m gvf_x\u001b[39m.\u001b[39mappend(sims[\u001b[39m'\u001b[39m\u001b[39mGVF\u001b[39m\u001b[39m'\u001b[39m]\u001b[39m.\u001b[39mx_arr)\n",
      "\u001b[0;31mKeyError\u001b[0m: 'Normal'"
     ]
    }
   ],
   "source": [
    "gvf_slopes = []\n",
    "spim_slopes = []\n",
    "widths = []\n",
    "gvf_x = []\n",
    "spim_x = []\n",
    "tau_mean = []\n",
    "norm_fd = []\n",
    "gvf_fd = []\n",
    "for i in arange(1,201):\n",
    "    snapnum = i*1000\n",
    "    print(snapnum)\n",
    "    sims = load_sims(snapnum,\n",
    "                     dirs=['gvf-uplift-figs', 'gvf-uplift-figs/spim', 'norm-uplift-figs'],\n",
    "                     names=['GVF', 'GVF-spim', 'Normal'], \n",
    "                     base_dir='/home/mcoving/ChampOutputs/from-rene-2022-11-30/')\n",
    "    gvf_slopes.append(sims['GVF'].slopes)\n",
    "    spim_slopes.append(sims['GVF-spim'].slopes)\n",
    "    widths.append(sims['GVF'].W)\n",
    "    norm_fd.append(sims['Normal'].fd_mids)\n",
    "    gvf_fd.append(sims['GVF'].fd)\n",
    "    gvf_x.append(sims['GVF'].x_arr)\n",
    "    spim_x.append(sims['GVF-spim'].x_arr)    \n",
    "    these_T_b_mean = np.zeros(len(sims['GVF'].xcs))\n",
    "    for i, xc in enumerate(sims['GVF'].xcs):\n",
    "        these_T_b_mean[i] = xc.T_b.mean()\n",
    "    tau_mean.append(these_T_b_mean)\n",
    "       "
   ]
  },
  {
   "cell_type": "code",
   "execution_count": 84,
   "metadata": {},
   "outputs": [
    {
     "name": "stdout",
     "output_type": "stream",
     "text": [
      "(81, 50)\n",
      "(81, 999)\n",
      "(80, 1000)\n"
     ]
    }
   ],
   "source": [
    "widths = array(widths)\n",
    "spim_slopes = array(spim_slopes)\n",
    "spim_x = array(spim_x)\n",
    "gvf_slopes = array(gvf_slopes)\n",
    "gvf_x = array(gvf_x)\n",
    "tau_mean = array(tau_mean)\n",
    "norm_fd = array(norm_fd)\n",
    "gvf_fd = array(gvf_fd)\n",
    "print(shape(widths))\n",
    "print(shape(spim_slopes))\n",
    "print(shape(spim_x))"
   ]
  },
  {
   "cell_type": "code",
   "execution_count": 91,
   "metadata": {},
   "outputs": [
    {
     "data": {
      "text/plain": [
       "Text(0.5, 0, 'timestep')"
      ]
     },
     "execution_count": 91,
     "metadata": {},
     "output_type": "execute_result"
    },
    {
     "data": {
      "image/png": "[encoded data removed]",
      "text/plain": [
       "<Figure size 432x288 with 1 Axes>"
      ]
     },
     "metadata": {
      "needs_background": "light"
     },
     "output_type": "display_data"
    },
    {
     "data": {
      "image/png": "[encoded data removed]",
      "text/plain": [
       "<Figure size 432x288 with 1 Axes>"
      ]
     },
     "metadata": {
      "needs_background": "light"
     },
     "output_type": "display_data"
    },
    {
     "data": {
      "image/png": "[encoded data removed]",
      "text/plain": [
       "<Figure size 432x288 with 1 Axes>"
      ]
     },
     "metadata": {
      "needs_background": "light"
     },
     "output_type": "display_data"
    }
   ],
   "source": [
    "#semilogy(spim_x[0][:-1],spim_slopes[0][:])\n",
    "figure()\n",
    "semilogy(spim_slopes[:,918])\n",
    "semilogy(gvf_slopes[:,45])\n",
    "#xlim([10,15])\n",
    "ylabel('Slope')\n",
    "xlabel('timestep')\n",
    "figure()\n",
    "plot(widths[:,45])\n",
    "plot(gvf_fd[:,45]*2)\n",
    "plot(norm_fd[:,45]*2)\n",
    "#xlim([10,15])\n",
    "legend(['Width', 'GVF fd', 'Norm fd'])\n",
    "ylabel('width and fd')\n",
    "xlabel('timestep')\n",
    "figure()\n",
    "plot(tau_mean[:,45])\n",
    "ylabel('tau')\n",
    "xlabel('timestep')\n"
   ]
  },
  {
   "cell_type": "code",
   "execution_count": null,
   "metadata": {},
   "outputs": [],
   "source": []
  },
  {
   "cell_type": "markdown",
   "metadata": {},
   "source": [
    "Why does knickpoint travel faster for width-adjusting channels (gvf and norm)? Is celerity a function of width? Probably so. "
   ]
  },
  {
   "cell_type": "code",
   "execution_count": 92,
   "metadata": {},
   "outputs": [
    {
     "name": "stdout",
     "output_type": "stream",
     "text": [
      "918.918918918919\n",
      "918.3673469387755\n",
      "510.5105105105105\n",
      "510.2040816326531\n"
     ]
    }
   ],
   "source": [
    "print(spim_x[0,918])\n",
    "print(gvf_x[0,45])\n",
    "print(spim_x[0,510])\n",
    "print(gvf_x[0,25])"
   ]
  },
  {
   "cell_type": "code",
   "execution_count": 82,
   "metadata": {},
   "outputs": [
    {
     "data": {
      "text/plain": [
       "Text(0, 0.5, 'slope')"
      ]
     },
     "execution_count": 82,
     "metadata": {},
     "output_type": "execute_result"
    },
    {
     "data": {
      "image/png": "[encoded data removed]",
      "text/plain": [
       "<Figure size 432x288 with 1 Axes>"
      ]
     },
     "metadata": {
      "needs_background": "light"
     },
     "output_type": "display_data"
    }
   ],
   "source": [
    "plot(widths[:,25], gvf_slopes[:,25])\n",
    "xlabel('width')\n",
    "ylabel('slope')\n"
   ]
  },
  {
   "cell_type": "code",
   "execution_count": 97,
   "metadata": {},
   "outputs": [
    {
     "data": {
      "text/plain": [
       "Text(0, 0.5, 'tau')"
      ]
     },
     "execution_count": 97,
     "metadata": {},
     "output_type": "execute_result"
    },
    {
     "data": {
      "image/png": "[encoded data removed]",
      "text/plain": [
       "<Figure size 432x288 with 1 Axes>"
      ]
     },
     "metadata": {
      "needs_background": "light"
     },
     "output_type": "display_data"
    },
    {
     "data": {
      "image/png": "[encoded data removed]",
      "text/plain": [
       "<Figure size 432x288 with 1 Axes>"
      ]
     },
     "metadata": {
      "needs_background": "light"
     },
     "output_type": "display_data"
    }
   ],
   "source": [
    "t = 22\n",
    "semilogy(spim_x[t,:-1],spim_slopes[t,:])\n",
    "semilogy(gvf_x[t,:-1],gvf_slopes[t,:])\n",
    "xlabel('x')\n",
    "ylabel('slope')\n",
    "figure()\n",
    "plot(gvf_x[t,:],tau_mean[t,:])\n",
    "xlabel('x')\n",
    "ylabel('tau')"
   ]
  },
  {
   "cell_type": "code",
   "execution_count": 96,
   "metadata": {},
   "outputs": [
    {
     "data": {
      "text/plain": [
       "Text(0, 0.5, 'tau')"
      ]
     },
     "execution_count": 96,
     "metadata": {},
     "output_type": "execute_result"
    },
    {
     "data": {
      "image/png": "[encoded data removed]",
      "text/plain": [
       "<Figure size 432x288 with 1 Axes>"
      ]
     },
     "metadata": {
      "needs_background": "light"
     },
     "output_type": "display_data"
    },
    {
     "data": {
      "image/png": "[encoded data removed]",
      "text/plain": [
       "<Figure size 432x288 with 1 Axes>"
      ]
     },
     "metadata": {
      "needs_background": "light"
     },
     "output_type": "display_data"
    }
   ],
   "source": [
    "t = 35\n",
    "semilogy(spim_x[t,:-1],spim_slopes[t,:])\n",
    "semilogy(gvf_x[t,:-1],gvf_slopes[t,:])\n",
    "xlabel('x')\n",
    "ylabel('slope')\n",
    "figure()\n",
    "plot(gvf_x[t,:],tau_mean[t,:])\n",
    "xlabel('x')\n",
    "ylabel('tau')"
   ]
  },
  {
   "cell_type": "markdown",
   "metadata": {},
   "source": [
    "## n=1 cases"
   ]
  },
  {
   "cell_type": "code",
   "execution_count": 99,
   "metadata": {},
   "outputs": [
    {
     "name": "stdout",
     "output_type": "stream",
     "text": [
      "1000\n"
     ]
    },
    {
     "ename": "AttributeError",
     "evalue": "'spim' object has no attribute 'W'",
     "output_type": "error",
     "traceback": [
      "\u001b[0;31m---------------------------------------------------------------------------\u001b[0m",
      "\u001b[0;31mAttributeError\u001b[0m                            Traceback (most recent call last)",
      "\u001b[1;32m/home/mcoving/github/champ/champ/Examples/Flow-comparison.ipynb Cell 33\u001b[0m in \u001b[0;36m<cell line: 9>\u001b[0;34m()\u001b[0m\n\u001b[1;32m     <a href='vscode-notebook-cell:/home/mcoving/github/champ/champ/Examples/Flow-comparison.ipynb#X60sZmlsZQ%3D%3D?line=15'>16</a>\u001b[0m gvf_slopes\u001b[39m.\u001b[39mappend(sims[\u001b[39m'\u001b[39m\u001b[39mGVF\u001b[39m\u001b[39m'\u001b[39m]\u001b[39m.\u001b[39mslopes)\n\u001b[1;32m     <a href='vscode-notebook-cell:/home/mcoving/github/champ/champ/Examples/Flow-comparison.ipynb#X60sZmlsZQ%3D%3D?line=16'>17</a>\u001b[0m spim_slopes\u001b[39m.\u001b[39mappend(sims[\u001b[39m'\u001b[39m\u001b[39mGVF-spim\u001b[39m\u001b[39m'\u001b[39m]\u001b[39m.\u001b[39mslopes)\n\u001b[0;32m---> <a href='vscode-notebook-cell:/home/mcoving/github/champ/champ/Examples/Flow-comparison.ipynb#X60sZmlsZQ%3D%3D?line=17'>18</a>\u001b[0m widths\u001b[39m.\u001b[39mappend(sims[\u001b[39m'\u001b[39;49m\u001b[39mGVF\u001b[39;49m\u001b[39m'\u001b[39;49m]\u001b[39m.\u001b[39;49mW)\n\u001b[1;32m     <a href='vscode-notebook-cell:/home/mcoving/github/champ/champ/Examples/Flow-comparison.ipynb#X60sZmlsZQ%3D%3D?line=18'>19</a>\u001b[0m norm_fd\u001b[39m.\u001b[39mappend(sims[\u001b[39m'\u001b[39m\u001b[39mNormal\u001b[39m\u001b[39m'\u001b[39m]\u001b[39m.\u001b[39mfd_mids)\n\u001b[1;32m     <a href='vscode-notebook-cell:/home/mcoving/github/champ/champ/Examples/Flow-comparison.ipynb#X60sZmlsZQ%3D%3D?line=19'>20</a>\u001b[0m gvf_fd\u001b[39m.\u001b[39mappend(sims[\u001b[39m'\u001b[39m\u001b[39mGVF\u001b[39m\u001b[39m'\u001b[39m]\u001b[39m.\u001b[39mfd)\n",
      "\u001b[0;31mAttributeError\u001b[0m: 'spim' object has no attribute 'W'"
     ]
    }
   ],
   "source": [
    "gvf_slopes = []\n",
    "spim_slopes = []\n",
    "widths = []\n",
    "gvf_x = []\n",
    "spim_x = []\n",
    "tau_mean = []\n",
    "norm_fd = []\n",
    "gvf_fd = []\n",
    "for i in arange(1,201):\n",
    "    snapnum = i*1000\n",
    "    print(snapnum)\n",
    "    sims = load_sims(snapnum,\n",
    "                     dirs=['gvf-uplift-n1-figs', 'norm-uplift-n1-figs/spim', 'norm-uplift-n1-figs'],\n",
    "                     names=['GVF', 'GVF-spim', 'Normal'], \n",
    "                     base_dir='/home/mcoving/ChampOutputs/n_1_sims/')\n",
    "    gvf_slopes.append(sims['GVF'].slopes)\n",
    "    spim_slopes.append(sims['GVF-spim'].slopes)\n",
    "    widths.append(sims['GVF'].W)\n",
    "    norm_fd.append(sims['Normal'].fd_mids)\n",
    "    gvf_fd.append(sims['GVF'].fd)\n",
    "    gvf_x.append(sims['GVF'].x_arr)\n",
    "    spim_x.append(sims['GVF-spim'].x_arr)    \n",
    "    these_T_b_mean = np.zeros(len(sims['GVF'].xcs))\n",
    "    for i, xc in enumerate(sims['GVF'].xcs):\n",
    "        these_T_b_mean[i] = xc.T_b.mean()\n",
    "    tau_mean.append(these_T_b_mean)\n",
    "       "
   ]
  },
  {
   "cell_type": "code",
   "execution_count": null,
   "metadata": {},
   "outputs": [],
   "source": []
  }
 ],
 "metadata": {
  "kernelspec": {
   "display_name": "Python 3.9.12 ('base')",
   "language": "python",
   "name": "python3"
  },
  "language_info": {
   "codemirror_mode": {
    "name": "ipython",
    "version": 3
   },
   "file_extension": ".py",
   "mimetype": "text/x-python",
   "name": "python",
   "nbconvert_exporter": "python",
   "pygments_lexer": "ipython3",
   "version": "3.9.12"
  },
  "orig_nbformat": 4,
  "vscode": {
   "interpreter": {
    "hash": "2e4f07d89bcef8839175736985d4e8cf75ce0fb43bc1431edf121e8f8c897247"
   }
  }
 },
 "nbformat": 4,
 "nbformat_minor": 2
}
