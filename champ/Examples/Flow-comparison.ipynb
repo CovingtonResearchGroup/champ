version https://git-lfs.github.com/spec/v1
oid sha256:d620783b0f447e3f02a442ec6b602c4fc44844996ff456ab8369056d8cc5375b
size 375045
