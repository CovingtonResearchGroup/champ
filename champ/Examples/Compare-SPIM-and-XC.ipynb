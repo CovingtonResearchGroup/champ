version https://git-lfs.github.com/spec/v1
oid sha256:c06d58a2bf9028951e591dabc487fcd3bf982e539fbd86f1003efaddae91277f
size 2182028
