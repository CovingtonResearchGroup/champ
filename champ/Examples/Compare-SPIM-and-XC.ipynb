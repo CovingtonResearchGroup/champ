version https://git-lfs.github.com/spec/v1
oid sha256:a0373bbc67a0c7d7cabb0978ec2ebf3195e793751acc24a9138c7b15eaec7106
size 1235044
