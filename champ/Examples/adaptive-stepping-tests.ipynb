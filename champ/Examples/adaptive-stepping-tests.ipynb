version https://git-lfs.github.com/spec/v1
oid sha256:fcbbb1af652bebb05f69cc1811b3315ed2c16960b5694a9fbca8743a247036bc
size 16870
