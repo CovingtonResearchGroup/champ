version https://git-lfs.github.com/spec/v1
oid sha256:acae004d094baafdc872945e34005f284763c5783cbdc05a37ec81b3f8de885d
size 20226851
