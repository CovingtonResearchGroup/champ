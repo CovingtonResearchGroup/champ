version https://git-lfs.github.com/spec/v1
oid sha256:c2e0f35d85459b0a8b781a7eee26d9786ad0ba10c308138abec22f72eb7aefdd
size 20226787
