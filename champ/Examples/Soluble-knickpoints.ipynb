version https://git-lfs.github.com/spec/v1
oid sha256:bdac4c372b2ff967766f9f6b274a627dd9ff156c85a1c05e843840914611330a
size 20226945
