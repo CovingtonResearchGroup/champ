version https://git-lfs.github.com/spec/v1
oid sha256:ecd70a9c9e2dd47971c8e8542eaaa1d5aec4b7137151f0f1002470f4169dffd6
size 20226945
