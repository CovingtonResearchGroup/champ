version https://git-lfs.github.com/spec/v1
oid sha256:6e0f5e6a0758a255600f6c9ead70d6ae7f4685200b4a426f6061539d974b7483
size 94100
