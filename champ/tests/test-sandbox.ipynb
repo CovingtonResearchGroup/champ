version https://git-lfs.github.com/spec/v1
oid sha256:2f22ca8e809fb60210bcc7b1864bc4894a7df519c7773f8131b0151d5111fdfe
size 90674
