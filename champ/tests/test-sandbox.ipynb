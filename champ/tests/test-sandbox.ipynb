version https://git-lfs.github.com/spec/v1
oid sha256:e82e5fdc0080a371734b0f69e0ab89d080db66a3eb1037f3f2f6bd90a7c659a0
size 122373
