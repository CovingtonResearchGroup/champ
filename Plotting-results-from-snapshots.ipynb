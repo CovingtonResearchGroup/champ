version https://git-lfs.github.com/spec/v1
oid sha256:fd09627f5d04f52bae30b40d85ce29f79a65c4dac824ebba644c35d0f820e54e
size 852559
