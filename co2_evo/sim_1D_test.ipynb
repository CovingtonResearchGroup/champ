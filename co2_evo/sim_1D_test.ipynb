version https://git-lfs.github.com/spec/v1
oid sha256:429bbe9a42f29036e0e7268812b9cb263b67f561a5bb6d5fece55d858b1f4a80
size 2112572
