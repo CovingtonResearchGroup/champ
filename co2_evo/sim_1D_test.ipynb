version https://git-lfs.github.com/spec/v1
oid sha256:73fa44f804aecf63113d21556fb7d0e46d8a19aef1d1706482eb3fa7bc58a475
size 2225897
