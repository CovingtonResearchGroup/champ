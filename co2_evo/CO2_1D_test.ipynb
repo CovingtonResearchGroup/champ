version https://git-lfs.github.com/spec/v1
oid sha256:6172744f06b0fd7b96b87ddb0b1a3caeddc22da38439534d21ec6ab890f60d61
size 295531
