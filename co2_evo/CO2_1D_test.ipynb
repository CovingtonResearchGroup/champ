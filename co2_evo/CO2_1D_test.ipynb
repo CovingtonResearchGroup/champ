version https://git-lfs.github.com/spec/v1
oid sha256:accc28e423f860a75b21cfd9ebe0f84a863d6b140ac449a03ec9ec0c9cd9a223
size 295213
