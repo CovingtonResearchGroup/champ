version https://git-lfs.github.com/spec/v1
oid sha256:7e212f396834e0344e7b5bc87c4173484b1276f6bcad4781d5e312472cab1c38
size 299825
