version https://git-lfs.github.com/spec/v1
oid sha256:562b605db080447ec07cf181d874a671b2ee0a5ae0c4927a436e03fac9527195
size 298907
