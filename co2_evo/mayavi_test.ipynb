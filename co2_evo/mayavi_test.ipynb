version https://git-lfs.github.com/spec/v1
oid sha256:dd6daa5fb87de332a12e4cf7104ccde1e3f5709bc4a7a2d95b067d5720d2194b
size 9427
