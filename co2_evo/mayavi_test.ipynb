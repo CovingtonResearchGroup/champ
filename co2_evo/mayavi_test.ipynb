version https://git-lfs.github.com/spec/v1
oid sha256:debe2edf7040ede66aa723d10588d5b0e48ea8048bd0431e3956d3117d9ae338
size 12859
