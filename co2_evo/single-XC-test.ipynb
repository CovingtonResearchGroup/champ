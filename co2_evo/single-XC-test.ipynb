version https://git-lfs.github.com/spec/v1
oid sha256:dde3ed5a01549c19c99a3466fc332d83e2783b8e5f0740e0d741ea87f6b5d8b7
size 289569
