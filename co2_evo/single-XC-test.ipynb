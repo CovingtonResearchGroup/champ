version https://git-lfs.github.com/spec/v1
oid sha256:a72487ce255e9a28025d83e5532339c35e61ca71be9cb0f4b6d41736c6d371c8
size 57666
