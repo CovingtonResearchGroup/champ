version https://git-lfs.github.com/spec/v1
oid sha256:d21cb53d2b32ad8195815e3ae05cc861e9b529acdebba885a6fe00d439ce1c80
size 27671
