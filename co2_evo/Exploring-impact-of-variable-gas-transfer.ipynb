version https://git-lfs.github.com/spec/v1
oid sha256:dc72f19390e4e76381560c8f8dc23b505ac948c0b5cb45f78aeea3c8307af732
size 3081
